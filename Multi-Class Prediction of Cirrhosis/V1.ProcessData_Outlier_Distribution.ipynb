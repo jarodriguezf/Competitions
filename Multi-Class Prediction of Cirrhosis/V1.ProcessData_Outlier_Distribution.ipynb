{
 "cells": [
  {
   "cell_type": "code",
   "execution_count": 208,
   "id": "ac1d68e1",
   "metadata": {},
   "outputs": [],
   "source": [
    "import pandas as pd\n",
    "import numpy as np\n",
    "import matplotlib.pyplot as plt\n",
    "import seaborn as sns\n",
    "from sklearn.model_selection import train_test_split\n",
    "from sklearn.preprocessing import OneHotEncoder\n",
    "from sklearn.preprocessing import MinMaxScaler\n",
    "from sklearn.base import BaseEstimator, TransformerMixin\n",
    "from scipy import stats\n",
    "import tensorflow as tf\n",
    "from tensorflow.keras.models import Sequential, load_model\n",
    "from tensorflow.keras.layers import Dense,BatchNormalization, Normalization\n",
    "from tensorflow.keras.callbacks import EarlyStopping, ModelCheckpoint\n",
    "from sklearn.metrics import log_loss"
   ]
  },
  {
   "cell_type": "code",
   "execution_count": 13,
   "id": "8439c531",
   "metadata": {},
   "outputs": [
    {
     "data": {
      "text/html": [
       "<div>\n",
       "<style scoped>\n",
       "    .dataframe tbody tr th:only-of-type {\n",
       "        vertical-align: middle;\n",
       "    }\n",
       "\n",
       "    .dataframe tbody tr th {\n",
       "        vertical-align: top;\n",
       "    }\n",
       "\n",
       "    .dataframe thead th {\n",
       "        text-align: right;\n",
       "    }\n",
       "</style>\n",
       "<table border=\"1\" class=\"dataframe\">\n",
       "  <thead>\n",
       "    <tr style=\"text-align: right;\">\n",
       "      <th></th>\n",
       "      <th>N_Days</th>\n",
       "      <th>Drug</th>\n",
       "      <th>Age</th>\n",
       "      <th>Sex</th>\n",
       "      <th>Ascites</th>\n",
       "      <th>Hepatomegaly</th>\n",
       "      <th>Spiders</th>\n",
       "      <th>Edema</th>\n",
       "      <th>Bilirubin</th>\n",
       "      <th>Cholesterol</th>\n",
       "      <th>Albumin</th>\n",
       "      <th>Copper</th>\n",
       "      <th>Alk_Phos</th>\n",
       "      <th>SGOT</th>\n",
       "      <th>Tryglicerides</th>\n",
       "      <th>Platelets</th>\n",
       "      <th>Prothrombin</th>\n",
       "      <th>Stage</th>\n",
       "      <th>Status</th>\n",
       "    </tr>\n",
       "    <tr>\n",
       "      <th>id</th>\n",
       "      <th></th>\n",
       "      <th></th>\n",
       "      <th></th>\n",
       "      <th></th>\n",
       "      <th></th>\n",
       "      <th></th>\n",
       "      <th></th>\n",
       "      <th></th>\n",
       "      <th></th>\n",
       "      <th></th>\n",
       "      <th></th>\n",
       "      <th></th>\n",
       "      <th></th>\n",
       "      <th></th>\n",
       "      <th></th>\n",
       "      <th></th>\n",
       "      <th></th>\n",
       "      <th></th>\n",
       "      <th></th>\n",
       "    </tr>\n",
       "  </thead>\n",
       "  <tbody>\n",
       "    <tr>\n",
       "      <th>0</th>\n",
       "      <td>999</td>\n",
       "      <td>D-penicillamine</td>\n",
       "      <td>21532</td>\n",
       "      <td>M</td>\n",
       "      <td>N</td>\n",
       "      <td>N</td>\n",
       "      <td>N</td>\n",
       "      <td>N</td>\n",
       "      <td>2.3</td>\n",
       "      <td>316.0</td>\n",
       "      <td>3.35</td>\n",
       "      <td>172.0</td>\n",
       "      <td>1601.0</td>\n",
       "      <td>179.80</td>\n",
       "      <td>63.0</td>\n",
       "      <td>394.0</td>\n",
       "      <td>9.7</td>\n",
       "      <td>3.0</td>\n",
       "      <td>D</td>\n",
       "    </tr>\n",
       "    <tr>\n",
       "      <th>1</th>\n",
       "      <td>2574</td>\n",
       "      <td>Placebo</td>\n",
       "      <td>19237</td>\n",
       "      <td>F</td>\n",
       "      <td>N</td>\n",
       "      <td>N</td>\n",
       "      <td>N</td>\n",
       "      <td>N</td>\n",
       "      <td>0.9</td>\n",
       "      <td>364.0</td>\n",
       "      <td>3.54</td>\n",
       "      <td>63.0</td>\n",
       "      <td>1440.0</td>\n",
       "      <td>134.85</td>\n",
       "      <td>88.0</td>\n",
       "      <td>361.0</td>\n",
       "      <td>11.0</td>\n",
       "      <td>3.0</td>\n",
       "      <td>C</td>\n",
       "    </tr>\n",
       "    <tr>\n",
       "      <th>2</th>\n",
       "      <td>3428</td>\n",
       "      <td>Placebo</td>\n",
       "      <td>13727</td>\n",
       "      <td>F</td>\n",
       "      <td>N</td>\n",
       "      <td>Y</td>\n",
       "      <td>Y</td>\n",
       "      <td>Y</td>\n",
       "      <td>3.3</td>\n",
       "      <td>299.0</td>\n",
       "      <td>3.55</td>\n",
       "      <td>131.0</td>\n",
       "      <td>1029.0</td>\n",
       "      <td>119.35</td>\n",
       "      <td>50.0</td>\n",
       "      <td>199.0</td>\n",
       "      <td>11.7</td>\n",
       "      <td>4.0</td>\n",
       "      <td>D</td>\n",
       "    </tr>\n",
       "    <tr>\n",
       "      <th>3</th>\n",
       "      <td>2576</td>\n",
       "      <td>Placebo</td>\n",
       "      <td>18460</td>\n",
       "      <td>F</td>\n",
       "      <td>N</td>\n",
       "      <td>N</td>\n",
       "      <td>N</td>\n",
       "      <td>N</td>\n",
       "      <td>0.6</td>\n",
       "      <td>256.0</td>\n",
       "      <td>3.50</td>\n",
       "      <td>58.0</td>\n",
       "      <td>1653.0</td>\n",
       "      <td>71.30</td>\n",
       "      <td>96.0</td>\n",
       "      <td>269.0</td>\n",
       "      <td>10.7</td>\n",
       "      <td>3.0</td>\n",
       "      <td>C</td>\n",
       "    </tr>\n",
       "    <tr>\n",
       "      <th>4</th>\n",
       "      <td>788</td>\n",
       "      <td>Placebo</td>\n",
       "      <td>16658</td>\n",
       "      <td>F</td>\n",
       "      <td>N</td>\n",
       "      <td>Y</td>\n",
       "      <td>N</td>\n",
       "      <td>N</td>\n",
       "      <td>1.1</td>\n",
       "      <td>346.0</td>\n",
       "      <td>3.65</td>\n",
       "      <td>63.0</td>\n",
       "      <td>1181.0</td>\n",
       "      <td>125.55</td>\n",
       "      <td>96.0</td>\n",
       "      <td>298.0</td>\n",
       "      <td>10.6</td>\n",
       "      <td>4.0</td>\n",
       "      <td>C</td>\n",
       "    </tr>\n",
       "    <tr>\n",
       "      <th>...</th>\n",
       "      <td>...</td>\n",
       "      <td>...</td>\n",
       "      <td>...</td>\n",
       "      <td>...</td>\n",
       "      <td>...</td>\n",
       "      <td>...</td>\n",
       "      <td>...</td>\n",
       "      <td>...</td>\n",
       "      <td>...</td>\n",
       "      <td>...</td>\n",
       "      <td>...</td>\n",
       "      <td>...</td>\n",
       "      <td>...</td>\n",
       "      <td>...</td>\n",
       "      <td>...</td>\n",
       "      <td>...</td>\n",
       "      <td>...</td>\n",
       "      <td>...</td>\n",
       "      <td>...</td>\n",
       "    </tr>\n",
       "    <tr>\n",
       "      <th>7900</th>\n",
       "      <td>1166</td>\n",
       "      <td>D-penicillamine</td>\n",
       "      <td>16839</td>\n",
       "      <td>F</td>\n",
       "      <td>N</td>\n",
       "      <td>N</td>\n",
       "      <td>N</td>\n",
       "      <td>N</td>\n",
       "      <td>0.8</td>\n",
       "      <td>309.0</td>\n",
       "      <td>3.56</td>\n",
       "      <td>38.0</td>\n",
       "      <td>1629.0</td>\n",
       "      <td>79.05</td>\n",
       "      <td>224.0</td>\n",
       "      <td>344.0</td>\n",
       "      <td>9.9</td>\n",
       "      <td>2.0</td>\n",
       "      <td>C</td>\n",
       "    </tr>\n",
       "    <tr>\n",
       "      <th>7901</th>\n",
       "      <td>1492</td>\n",
       "      <td>Placebo</td>\n",
       "      <td>17031</td>\n",
       "      <td>F</td>\n",
       "      <td>N</td>\n",
       "      <td>Y</td>\n",
       "      <td>N</td>\n",
       "      <td>N</td>\n",
       "      <td>0.9</td>\n",
       "      <td>260.0</td>\n",
       "      <td>3.43</td>\n",
       "      <td>62.0</td>\n",
       "      <td>1440.0</td>\n",
       "      <td>142.00</td>\n",
       "      <td>78.0</td>\n",
       "      <td>277.0</td>\n",
       "      <td>10.0</td>\n",
       "      <td>4.0</td>\n",
       "      <td>C</td>\n",
       "    </tr>\n",
       "    <tr>\n",
       "      <th>7902</th>\n",
       "      <td>1576</td>\n",
       "      <td>D-penicillamine</td>\n",
       "      <td>25873</td>\n",
       "      <td>F</td>\n",
       "      <td>N</td>\n",
       "      <td>N</td>\n",
       "      <td>Y</td>\n",
       "      <td>S</td>\n",
       "      <td>2.0</td>\n",
       "      <td>225.0</td>\n",
       "      <td>3.19</td>\n",
       "      <td>51.0</td>\n",
       "      <td>933.0</td>\n",
       "      <td>69.75</td>\n",
       "      <td>62.0</td>\n",
       "      <td>200.0</td>\n",
       "      <td>12.7</td>\n",
       "      <td>2.0</td>\n",
       "      <td>D</td>\n",
       "    </tr>\n",
       "    <tr>\n",
       "      <th>7903</th>\n",
       "      <td>3584</td>\n",
       "      <td>D-penicillamine</td>\n",
       "      <td>22960</td>\n",
       "      <td>M</td>\n",
       "      <td>N</td>\n",
       "      <td>Y</td>\n",
       "      <td>N</td>\n",
       "      <td>N</td>\n",
       "      <td>0.7</td>\n",
       "      <td>248.0</td>\n",
       "      <td>2.75</td>\n",
       "      <td>32.0</td>\n",
       "      <td>1003.0</td>\n",
       "      <td>57.35</td>\n",
       "      <td>118.0</td>\n",
       "      <td>221.0</td>\n",
       "      <td>10.6</td>\n",
       "      <td>4.0</td>\n",
       "      <td>D</td>\n",
       "    </tr>\n",
       "    <tr>\n",
       "      <th>7904</th>\n",
       "      <td>1978</td>\n",
       "      <td>D-penicillamine</td>\n",
       "      <td>19237</td>\n",
       "      <td>F</td>\n",
       "      <td>N</td>\n",
       "      <td>N</td>\n",
       "      <td>N</td>\n",
       "      <td>N</td>\n",
       "      <td>0.7</td>\n",
       "      <td>256.0</td>\n",
       "      <td>3.23</td>\n",
       "      <td>22.0</td>\n",
       "      <td>645.0</td>\n",
       "      <td>74.40</td>\n",
       "      <td>85.0</td>\n",
       "      <td>336.0</td>\n",
       "      <td>10.3</td>\n",
       "      <td>3.0</td>\n",
       "      <td>C</td>\n",
       "    </tr>\n",
       "  </tbody>\n",
       "</table>\n",
       "<p>7905 rows × 19 columns</p>\n",
       "</div>"
      ],
      "text/plain": [
       "      N_Days             Drug    Age Sex Ascites Hepatomegaly Spiders Edema  \\\n",
       "id                                                                            \n",
       "0        999  D-penicillamine  21532   M       N            N       N     N   \n",
       "1       2574          Placebo  19237   F       N            N       N     N   \n",
       "2       3428          Placebo  13727   F       N            Y       Y     Y   \n",
       "3       2576          Placebo  18460   F       N            N       N     N   \n",
       "4        788          Placebo  16658   F       N            Y       N     N   \n",
       "...      ...              ...    ...  ..     ...          ...     ...   ...   \n",
       "7900    1166  D-penicillamine  16839   F       N            N       N     N   \n",
       "7901    1492          Placebo  17031   F       N            Y       N     N   \n",
       "7902    1576  D-penicillamine  25873   F       N            N       Y     S   \n",
       "7903    3584  D-penicillamine  22960   M       N            Y       N     N   \n",
       "7904    1978  D-penicillamine  19237   F       N            N       N     N   \n",
       "\n",
       "      Bilirubin  Cholesterol  Albumin  Copper  Alk_Phos    SGOT  \\\n",
       "id                                                                \n",
       "0           2.3        316.0     3.35   172.0    1601.0  179.80   \n",
       "1           0.9        364.0     3.54    63.0    1440.0  134.85   \n",
       "2           3.3        299.0     3.55   131.0    1029.0  119.35   \n",
       "3           0.6        256.0     3.50    58.0    1653.0   71.30   \n",
       "4           1.1        346.0     3.65    63.0    1181.0  125.55   \n",
       "...         ...          ...      ...     ...       ...     ...   \n",
       "7900        0.8        309.0     3.56    38.0    1629.0   79.05   \n",
       "7901        0.9        260.0     3.43    62.0    1440.0  142.00   \n",
       "7902        2.0        225.0     3.19    51.0     933.0   69.75   \n",
       "7903        0.7        248.0     2.75    32.0    1003.0   57.35   \n",
       "7904        0.7        256.0     3.23    22.0     645.0   74.40   \n",
       "\n",
       "      Tryglicerides  Platelets  Prothrombin  Stage Status  \n",
       "id                                                         \n",
       "0              63.0      394.0          9.7    3.0      D  \n",
       "1              88.0      361.0         11.0    3.0      C  \n",
       "2              50.0      199.0         11.7    4.0      D  \n",
       "3              96.0      269.0         10.7    3.0      C  \n",
       "4              96.0      298.0         10.6    4.0      C  \n",
       "...             ...        ...          ...    ...    ...  \n",
       "7900          224.0      344.0          9.9    2.0      C  \n",
       "7901           78.0      277.0         10.0    4.0      C  \n",
       "7902           62.0      200.0         12.7    2.0      D  \n",
       "7903          118.0      221.0         10.6    4.0      D  \n",
       "7904           85.0      336.0         10.3    3.0      C  \n",
       "\n",
       "[7905 rows x 19 columns]"
      ]
     },
     "execution_count": 13,
     "metadata": {},
     "output_type": "execute_result"
    }
   ],
   "source": [
    "df = pd.read_csv('train.csv', index_col='id')\n",
    "df"
   ]
  },
  {
   "cell_type": "markdown",
   "id": "a049c8d9",
   "metadata": {},
   "source": [
    "### Eliminamos los datos atipicos del dataset"
   ]
  },
  {
   "cell_type": "code",
   "execution_count": 19,
   "id": "e5a58d6f",
   "metadata": {},
   "outputs": [],
   "source": [
    "def outliers(df, lower_limit=0.01, upper_limit=0.99):\n",
    "    copy_df = df.copy()    \n",
    "    column_names = copy_df[['Bilirubin','Cholesterol','Copper','Alk_Phos','SGOT','Tryglicerides','Prothrombin']]\n",
    "    \n",
    "    # Iteramos por columna, eliminando las filas cuyo rango sea detectado como atipico\n",
    "    for i in column_names:\n",
    "        # Calcula percentiles para limitar los valores atípicos\n",
    "        lower_percentile = copy_df[i].quantile(lower_limit)\n",
    "        upper_percentile = copy_df[i].quantile(upper_limit)\n",
    "\n",
    "        # Identifica y elimina las filas que contienen valores atípicos\n",
    "        copy_df = copy_df[~((copy_df[i] < lower_percentile) | (copy_df[i] > upper_percentile))]\n",
    "\n",
    "    return copy_df"
   ]
  },
  {
   "cell_type": "code",
   "execution_count": 20,
   "id": "b6bc1e37",
   "metadata": {},
   "outputs": [],
   "source": [
    "df = outliers(df)"
   ]
  },
  {
   "cell_type": "code",
   "execution_count": 113,
   "id": "29fa0485",
   "metadata": {},
   "outputs": [],
   "source": [
    "# Separamos en variables dependientes y independientes\n",
    "X = df.drop('Status', axis=1)\n",
    "y = df['Status']"
   ]
  },
  {
   "cell_type": "markdown",
   "id": "3878d6ae",
   "metadata": {},
   "source": [
    "### Transformacion distribucion de variables "
   ]
  },
  {
   "cell_type": "code",
   "execution_count": 53,
   "id": "f6f67fc6",
   "metadata": {},
   "outputs": [],
   "source": [
    "class Tranformation_Distribution (BaseEstimator, TransformerMixin):\n",
    "    def fit(self, X, y=None):       \n",
    "        return self\n",
    "    \n",
    "    # Iteramos por el nombre de columna de X_copy, devolviendo el valor devuelto por boxcox (no el valor lambda).\n",
    "    def transform(self,X):\n",
    "        X_copy = X.copy()    \n",
    "        column_names = ['Bilirubin','Cholesterol','Copper','Alk_Phos','SGOT','Tryglicerides','Prothrombin']\n",
    "        \n",
    "        for i in column_names:\n",
    "            transformed_col,_ = stats.boxcox(X_copy[i])\n",
    "            X_copy[i] = transformed_col\n",
    "        \n",
    "        return X_copy"
   ]
  },
  {
   "cell_type": "code",
   "execution_count": 114,
   "id": "95ac2405",
   "metadata": {},
   "outputs": [],
   "source": [
    "transformers_ = Tranformation_Distribution()\n",
    "X = transformers_.transform(X)"
   ]
  },
  {
   "cell_type": "code",
   "execution_count": 115,
   "id": "5aa7e889",
   "metadata": {},
   "outputs": [
    {
     "data": {
      "text/html": [
       "<div>\n",
       "<style scoped>\n",
       "    .dataframe tbody tr th:only-of-type {\n",
       "        vertical-align: middle;\n",
       "    }\n",
       "\n",
       "    .dataframe tbody tr th {\n",
       "        vertical-align: top;\n",
       "    }\n",
       "\n",
       "    .dataframe thead th {\n",
       "        text-align: right;\n",
       "    }\n",
       "</style>\n",
       "<table border=\"1\" class=\"dataframe\">\n",
       "  <thead>\n",
       "    <tr style=\"text-align: right;\">\n",
       "      <th></th>\n",
       "      <th>N_Days</th>\n",
       "      <th>Drug</th>\n",
       "      <th>Age</th>\n",
       "      <th>Sex</th>\n",
       "      <th>Ascites</th>\n",
       "      <th>Hepatomegaly</th>\n",
       "      <th>Spiders</th>\n",
       "      <th>Edema</th>\n",
       "      <th>Bilirubin</th>\n",
       "      <th>Cholesterol</th>\n",
       "      <th>Albumin</th>\n",
       "      <th>Copper</th>\n",
       "      <th>Alk_Phos</th>\n",
       "      <th>SGOT</th>\n",
       "      <th>Tryglicerides</th>\n",
       "      <th>Platelets</th>\n",
       "      <th>Prothrombin</th>\n",
       "      <th>Stage</th>\n",
       "    </tr>\n",
       "    <tr>\n",
       "      <th>id</th>\n",
       "      <th></th>\n",
       "      <th></th>\n",
       "      <th></th>\n",
       "      <th></th>\n",
       "      <th></th>\n",
       "      <th></th>\n",
       "      <th></th>\n",
       "      <th></th>\n",
       "      <th></th>\n",
       "      <th></th>\n",
       "      <th></th>\n",
       "      <th></th>\n",
       "      <th></th>\n",
       "      <th></th>\n",
       "      <th></th>\n",
       "      <th></th>\n",
       "      <th></th>\n",
       "      <th></th>\n",
       "    </tr>\n",
       "  </thead>\n",
       "  <tbody>\n",
       "    <tr>\n",
       "      <th>0</th>\n",
       "      <td>999</td>\n",
       "      <td>D-penicillamine</td>\n",
       "      <td>21532</td>\n",
       "      <td>M</td>\n",
       "      <td>N</td>\n",
       "      <td>N</td>\n",
       "      <td>N</td>\n",
       "      <td>N</td>\n",
       "      <td>0.672437</td>\n",
       "      <td>0.935953</td>\n",
       "      <td>3.35</td>\n",
       "      <td>5.163790</td>\n",
       "      <td>1.627679</td>\n",
       "      <td>6.881744</td>\n",
       "      <td>2.664122</td>\n",
       "      <td>394.0</td>\n",
       "      <td>0.274278</td>\n",
       "      <td>3.0</td>\n",
       "    </tr>\n",
       "    <tr>\n",
       "      <th>1</th>\n",
       "      <td>2574</td>\n",
       "      <td>Placebo</td>\n",
       "      <td>19237</td>\n",
       "      <td>F</td>\n",
       "      <td>N</td>\n",
       "      <td>N</td>\n",
       "      <td>N</td>\n",
       "      <td>N</td>\n",
       "      <td>-0.108379</td>\n",
       "      <td>0.936237</td>\n",
       "      <td>3.54</td>\n",
       "      <td>4.153688</td>\n",
       "      <td>1.626441</td>\n",
       "      <td>6.395685</td>\n",
       "      <td>2.787351</td>\n",
       "      <td>361.0</td>\n",
       "      <td>0.274303</td>\n",
       "      <td>3.0</td>\n",
       "    </tr>\n",
       "    <tr>\n",
       "      <th>2</th>\n",
       "      <td>3428</td>\n",
       "      <td>Placebo</td>\n",
       "      <td>13727</td>\n",
       "      <td>F</td>\n",
       "      <td>N</td>\n",
       "      <td>Y</td>\n",
       "      <td>Y</td>\n",
       "      <td>Y</td>\n",
       "      <td>0.882976</td>\n",
       "      <td>0.935830</td>\n",
       "      <td>3.55</td>\n",
       "      <td>4.889813</td>\n",
       "      <td>1.621943</td>\n",
       "      <td>6.193735</td>\n",
       "      <td>2.573153</td>\n",
       "      <td>199.0</td>\n",
       "      <td>0.274312</td>\n",
       "      <td>4.0</td>\n",
       "    </tr>\n",
       "    <tr>\n",
       "      <th>3</th>\n",
       "      <td>2576</td>\n",
       "      <td>Placebo</td>\n",
       "      <td>18460</td>\n",
       "      <td>F</td>\n",
       "      <td>N</td>\n",
       "      <td>N</td>\n",
       "      <td>N</td>\n",
       "      <td>N</td>\n",
       "      <td>-0.587231</td>\n",
       "      <td>0.935442</td>\n",
       "      <td>3.50</td>\n",
       "      <td>4.070578</td>\n",
       "      <td>1.628037</td>\n",
       "      <td>5.369338</td>\n",
       "      <td>2.817901</td>\n",
       "      <td>269.0</td>\n",
       "      <td>0.274299</td>\n",
       "      <td>3.0</td>\n",
       "    </tr>\n",
       "    <tr>\n",
       "      <th>4</th>\n",
       "      <td>788</td>\n",
       "      <td>Placebo</td>\n",
       "      <td>16658</td>\n",
       "      <td>F</td>\n",
       "      <td>N</td>\n",
       "      <td>Y</td>\n",
       "      <td>N</td>\n",
       "      <td>N</td>\n",
       "      <td>0.092927</td>\n",
       "      <td>0.936140</td>\n",
       "      <td>3.65</td>\n",
       "      <td>4.153688</td>\n",
       "      <td>1.623898</td>\n",
       "      <td>6.277186</td>\n",
       "      <td>2.817901</td>\n",
       "      <td>298.0</td>\n",
       "      <td>0.274297</td>\n",
       "      <td>4.0</td>\n",
       "    </tr>\n",
       "  </tbody>\n",
       "</table>\n",
       "</div>"
      ],
      "text/plain": [
       "    N_Days             Drug    Age Sex Ascites Hepatomegaly Spiders Edema  \\\n",
       "id                                                                          \n",
       "0      999  D-penicillamine  21532   M       N            N       N     N   \n",
       "1     2574          Placebo  19237   F       N            N       N     N   \n",
       "2     3428          Placebo  13727   F       N            Y       Y     Y   \n",
       "3     2576          Placebo  18460   F       N            N       N     N   \n",
       "4      788          Placebo  16658   F       N            Y       N     N   \n",
       "\n",
       "    Bilirubin  Cholesterol  Albumin    Copper  Alk_Phos      SGOT  \\\n",
       "id                                                                  \n",
       "0    0.672437     0.935953     3.35  5.163790  1.627679  6.881744   \n",
       "1   -0.108379     0.936237     3.54  4.153688  1.626441  6.395685   \n",
       "2    0.882976     0.935830     3.55  4.889813  1.621943  6.193735   \n",
       "3   -0.587231     0.935442     3.50  4.070578  1.628037  5.369338   \n",
       "4    0.092927     0.936140     3.65  4.153688  1.623898  6.277186   \n",
       "\n",
       "    Tryglicerides  Platelets  Prothrombin  Stage  \n",
       "id                                                \n",
       "0        2.664122      394.0     0.274278    3.0  \n",
       "1        2.787351      361.0     0.274303    3.0  \n",
       "2        2.573153      199.0     0.274312    4.0  \n",
       "3        2.817901      269.0     0.274299    3.0  \n",
       "4        2.817901      298.0     0.274297    4.0  "
      ]
     },
     "execution_count": 115,
     "metadata": {},
     "output_type": "execute_result"
    }
   ],
   "source": [
    "X.head()"
   ]
  },
  {
   "cell_type": "markdown",
   "id": "b116c95c",
   "metadata": {},
   "source": [
    "### Escalamos y codificamos"
   ]
  },
  {
   "cell_type": "code",
   "execution_count": 116,
   "id": "b92de5b6",
   "metadata": {},
   "outputs": [],
   "source": [
    "# Codificar variable categoricas\n",
    "categorical = X.select_dtypes(exclude='number')\n",
    "\n",
    "encoder = OneHotEncoder(handle_unknown='ignore', sparse_output=False, drop='first')\n",
    "encoded_data = encoder.fit_transform(categorical)\n",
    "columns_names_ = encoder.get_feature_names_out(categorical.columns)\n",
    "\n",
    "# Transformar a df para concadenar a numericas\n",
    "categorical_df = pd.DataFrame(encoded_data, columns=columns_names_)\n",
    "categorical_df.reset_index(drop=True, inplace=True)\n"
   ]
  },
  {
   "cell_type": "code",
   "execution_count": 117,
   "id": "87f9e81a",
   "metadata": {},
   "outputs": [],
   "source": [
    "# normaalizar variables numericas\n",
    "numerical = X.select_dtypes(include='number')\n",
    "columns_names_n = numerical.columns\n",
    "\n",
    "scaler = MinMaxScaler()\n",
    "numerical_scaled = scaler.fit_transform(numerical)\n",
    "# Transformar a df para concadenar con categoricas\n",
    "numerical_df = pd.DataFrame(numerical_scaled, columns=columns_names_n)"
   ]
  },
  {
   "cell_type": "code",
   "execution_count": 118,
   "id": "7d28b263",
   "metadata": {},
   "outputs": [
    {
     "data": {
      "text/html": [
       "<div>\n",
       "<style scoped>\n",
       "    .dataframe tbody tr th:only-of-type {\n",
       "        vertical-align: middle;\n",
       "    }\n",
       "\n",
       "    .dataframe tbody tr th {\n",
       "        vertical-align: top;\n",
       "    }\n",
       "\n",
       "    .dataframe thead th {\n",
       "        text-align: right;\n",
       "    }\n",
       "</style>\n",
       "<table border=\"1\" class=\"dataframe\">\n",
       "  <thead>\n",
       "    <tr style=\"text-align: right;\">\n",
       "      <th></th>\n",
       "      <th>N_Days</th>\n",
       "      <th>Age</th>\n",
       "      <th>Bilirubin</th>\n",
       "      <th>Cholesterol</th>\n",
       "      <th>Albumin</th>\n",
       "      <th>Copper</th>\n",
       "      <th>Alk_Phos</th>\n",
       "      <th>SGOT</th>\n",
       "      <th>Tryglicerides</th>\n",
       "      <th>Platelets</th>\n",
       "      <th>Prothrombin</th>\n",
       "      <th>Stage</th>\n",
       "      <th>Drug_Placebo</th>\n",
       "      <th>Sex_M</th>\n",
       "      <th>Ascites_Y</th>\n",
       "      <th>Hepatomegaly_Y</th>\n",
       "      <th>Spiders_Y</th>\n",
       "      <th>Edema_S</th>\n",
       "      <th>Edema_Y</th>\n",
       "    </tr>\n",
       "  </thead>\n",
       "  <tbody>\n",
       "    <tr>\n",
       "      <th>0</th>\n",
       "      <td>0.201515</td>\n",
       "      <td>0.626391</td>\n",
       "      <td>0.692680</td>\n",
       "      <td>0.607335</td>\n",
       "      <td>0.518657</td>\n",
       "      <td>0.764671</td>\n",
       "      <td>0.670769</td>\n",
       "      <td>0.817726</td>\n",
       "      <td>0.151434</td>\n",
       "      <td>0.662675</td>\n",
       "      <td>0.107348</td>\n",
       "      <td>0.666667</td>\n",
       "      <td>0.0</td>\n",
       "      <td>1.0</td>\n",
       "      <td>0.0</td>\n",
       "      <td>0.0</td>\n",
       "      <td>0.0</td>\n",
       "      <td>0.0</td>\n",
       "      <td>0.0</td>\n",
       "    </tr>\n",
       "    <tr>\n",
       "      <th>1</th>\n",
       "      <td>0.532814</td>\n",
       "      <td>0.505931</td>\n",
       "      <td>0.400987</td>\n",
       "      <td>0.678317</td>\n",
       "      <td>0.589552</td>\n",
       "      <td>0.494409</td>\n",
       "      <td>0.639070</td>\n",
       "      <td>0.638081</td>\n",
       "      <td>0.356572</td>\n",
       "      <td>0.596806</td>\n",
       "      <td>0.607669</td>\n",
       "      <td>0.666667</td>\n",
       "      <td>1.0</td>\n",
       "      <td>0.0</td>\n",
       "      <td>0.0</td>\n",
       "      <td>0.0</td>\n",
       "      <td>0.0</td>\n",
       "      <td>0.0</td>\n",
       "      <td>0.0</td>\n",
       "    </tr>\n",
       "    <tr>\n",
       "      <th>2</th>\n",
       "      <td>0.712453</td>\n",
       "      <td>0.216723</td>\n",
       "      <td>0.771332</td>\n",
       "      <td>0.576535</td>\n",
       "      <td>0.593284</td>\n",
       "      <td>0.691366</td>\n",
       "      <td>0.523939</td>\n",
       "      <td>0.563442</td>\n",
       "      <td>0.000000</td>\n",
       "      <td>0.273453</td>\n",
       "      <td>0.780912</td>\n",
       "      <td>1.000000</td>\n",
       "      <td>1.0</td>\n",
       "      <td>0.0</td>\n",
       "      <td>0.0</td>\n",
       "      <td>1.0</td>\n",
       "      <td>1.0</td>\n",
       "      <td>0.0</td>\n",
       "      <td>1.0</td>\n",
       "    </tr>\n",
       "    <tr>\n",
       "      <th>3</th>\n",
       "      <td>0.533235</td>\n",
       "      <td>0.465148</td>\n",
       "      <td>0.222100</td>\n",
       "      <td>0.479683</td>\n",
       "      <td>0.574627</td>\n",
       "      <td>0.472172</td>\n",
       "      <td>0.679935</td>\n",
       "      <td>0.258750</td>\n",
       "      <td>0.407427</td>\n",
       "      <td>0.413174</td>\n",
       "      <td>0.516443</td>\n",
       "      <td>0.666667</td>\n",
       "      <td>1.0</td>\n",
       "      <td>0.0</td>\n",
       "      <td>0.0</td>\n",
       "      <td>0.0</td>\n",
       "      <td>0.0</td>\n",
       "      <td>0.0</td>\n",
       "      <td>0.0</td>\n",
       "    </tr>\n",
       "    <tr>\n",
       "      <th>4</th>\n",
       "      <td>0.157131</td>\n",
       "      <td>0.370565</td>\n",
       "      <td>0.476190</td>\n",
       "      <td>0.654082</td>\n",
       "      <td>0.630597</td>\n",
       "      <td>0.494409</td>\n",
       "      <td>0.573997</td>\n",
       "      <td>0.594285</td>\n",
       "      <td>0.407427</td>\n",
       "      <td>0.471058</td>\n",
       "      <td>0.483314</td>\n",
       "      <td>1.000000</td>\n",
       "      <td>1.0</td>\n",
       "      <td>0.0</td>\n",
       "      <td>0.0</td>\n",
       "      <td>1.0</td>\n",
       "      <td>0.0</td>\n",
       "      <td>0.0</td>\n",
       "      <td>0.0</td>\n",
       "    </tr>\n",
       "    <tr>\n",
       "      <th>...</th>\n",
       "      <td>...</td>\n",
       "      <td>...</td>\n",
       "      <td>...</td>\n",
       "      <td>...</td>\n",
       "      <td>...</td>\n",
       "      <td>...</td>\n",
       "      <td>...</td>\n",
       "      <td>...</td>\n",
       "      <td>...</td>\n",
       "      <td>...</td>\n",
       "      <td>...</td>\n",
       "      <td>...</td>\n",
       "      <td>...</td>\n",
       "      <td>...</td>\n",
       "      <td>...</td>\n",
       "      <td>...</td>\n",
       "      <td>...</td>\n",
       "      <td>...</td>\n",
       "      <td>...</td>\n",
       "    </tr>\n",
       "    <tr>\n",
       "      <th>6997</th>\n",
       "      <td>0.236643</td>\n",
       "      <td>0.380065</td>\n",
       "      <td>0.352948</td>\n",
       "      <td>0.595077</td>\n",
       "      <td>0.597015</td>\n",
       "      <td>0.358497</td>\n",
       "      <td>0.675763</td>\n",
       "      <td>0.318479</td>\n",
       "      <td>0.852582</td>\n",
       "      <td>0.562874</td>\n",
       "      <td>0.204890</td>\n",
       "      <td>0.333333</td>\n",
       "      <td>0.0</td>\n",
       "      <td>0.0</td>\n",
       "      <td>0.0</td>\n",
       "      <td>0.0</td>\n",
       "      <td>0.0</td>\n",
       "      <td>0.0</td>\n",
       "      <td>0.0</td>\n",
       "    </tr>\n",
       "    <tr>\n",
       "      <th>6998</th>\n",
       "      <td>0.305217</td>\n",
       "      <td>0.390143</td>\n",
       "      <td>0.400987</td>\n",
       "      <td>0.490091</td>\n",
       "      <td>0.548507</td>\n",
       "      <td>0.490106</td>\n",
       "      <td>0.639070</td>\n",
       "      <td>0.669949</td>\n",
       "      <td>0.284353</td>\n",
       "      <td>0.429142</td>\n",
       "      <td>0.250322</td>\n",
       "      <td>1.000000</td>\n",
       "      <td>1.0</td>\n",
       "      <td>0.0</td>\n",
       "      <td>0.0</td>\n",
       "      <td>1.0</td>\n",
       "      <td>0.0</td>\n",
       "      <td>0.0</td>\n",
       "      <td>0.0</td>\n",
       "    </tr>\n",
       "    <tr>\n",
       "      <th>6999</th>\n",
       "      <td>0.322886</td>\n",
       "      <td>0.854241</td>\n",
       "      <td>0.657924</td>\n",
       "      <td>0.386024</td>\n",
       "      <td>0.458955</td>\n",
       "      <td>0.437590</td>\n",
       "      <td>0.485719</td>\n",
       "      <td>0.246109</td>\n",
       "      <td>0.141209</td>\n",
       "      <td>0.275449</td>\n",
       "      <td>0.958435</td>\n",
       "      <td>0.333333</td>\n",
       "      <td>0.0</td>\n",
       "      <td>0.0</td>\n",
       "      <td>0.0</td>\n",
       "      <td>0.0</td>\n",
       "      <td>1.0</td>\n",
       "      <td>1.0</td>\n",
       "      <td>0.0</td>\n",
       "    </tr>\n",
       "    <tr>\n",
       "      <th>7000</th>\n",
       "      <td>0.745267</td>\n",
       "      <td>0.701344</td>\n",
       "      <td>0.294705</td>\n",
       "      <td>0.457827</td>\n",
       "      <td>0.294776</td>\n",
       "      <td>0.312316</td>\n",
       "      <td>0.514170</td>\n",
       "      <td>0.134800</td>\n",
       "      <td>0.524006</td>\n",
       "      <td>0.317365</td>\n",
       "      <td>0.483314</td>\n",
       "      <td>1.000000</td>\n",
       "      <td>0.0</td>\n",
       "      <td>1.0</td>\n",
       "      <td>0.0</td>\n",
       "      <td>1.0</td>\n",
       "      <td>0.0</td>\n",
       "      <td>0.0</td>\n",
       "      <td>0.0</td>\n",
       "    </tr>\n",
       "    <tr>\n",
       "      <th>7001</th>\n",
       "      <td>0.407446</td>\n",
       "      <td>0.505931</td>\n",
       "      <td>0.294705</td>\n",
       "      <td>0.479683</td>\n",
       "      <td>0.473881</td>\n",
       "      <td>0.211659</td>\n",
       "      <td>0.319378</td>\n",
       "      <td>0.283308</td>\n",
       "      <td>0.336012</td>\n",
       "      <td>0.546906</td>\n",
       "      <td>0.374690</td>\n",
       "      <td>0.666667</td>\n",
       "      <td>0.0</td>\n",
       "      <td>0.0</td>\n",
       "      <td>0.0</td>\n",
       "      <td>0.0</td>\n",
       "      <td>0.0</td>\n",
       "      <td>0.0</td>\n",
       "      <td>0.0</td>\n",
       "    </tr>\n",
       "  </tbody>\n",
       "</table>\n",
       "<p>7002 rows × 19 columns</p>\n",
       "</div>"
      ],
      "text/plain": [
       "        N_Days       Age  Bilirubin  Cholesterol   Albumin    Copper  \\\n",
       "0     0.201515  0.626391   0.692680     0.607335  0.518657  0.764671   \n",
       "1     0.532814  0.505931   0.400987     0.678317  0.589552  0.494409   \n",
       "2     0.712453  0.216723   0.771332     0.576535  0.593284  0.691366   \n",
       "3     0.533235  0.465148   0.222100     0.479683  0.574627  0.472172   \n",
       "4     0.157131  0.370565   0.476190     0.654082  0.630597  0.494409   \n",
       "...        ...       ...        ...          ...       ...       ...   \n",
       "6997  0.236643  0.380065   0.352948     0.595077  0.597015  0.358497   \n",
       "6998  0.305217  0.390143   0.400987     0.490091  0.548507  0.490106   \n",
       "6999  0.322886  0.854241   0.657924     0.386024  0.458955  0.437590   \n",
       "7000  0.745267  0.701344   0.294705     0.457827  0.294776  0.312316   \n",
       "7001  0.407446  0.505931   0.294705     0.479683  0.473881  0.211659   \n",
       "\n",
       "      Alk_Phos      SGOT  Tryglicerides  Platelets  Prothrombin     Stage  \\\n",
       "0     0.670769  0.817726       0.151434   0.662675     0.107348  0.666667   \n",
       "1     0.639070  0.638081       0.356572   0.596806     0.607669  0.666667   \n",
       "2     0.523939  0.563442       0.000000   0.273453     0.780912  1.000000   \n",
       "3     0.679935  0.258750       0.407427   0.413174     0.516443  0.666667   \n",
       "4     0.573997  0.594285       0.407427   0.471058     0.483314  1.000000   \n",
       "...        ...       ...            ...        ...          ...       ...   \n",
       "6997  0.675763  0.318479       0.852582   0.562874     0.204890  0.333333   \n",
       "6998  0.639070  0.669949       0.284353   0.429142     0.250322  1.000000   \n",
       "6999  0.485719  0.246109       0.141209   0.275449     0.958435  0.333333   \n",
       "7000  0.514170  0.134800       0.524006   0.317365     0.483314  1.000000   \n",
       "7001  0.319378  0.283308       0.336012   0.546906     0.374690  0.666667   \n",
       "\n",
       "      Drug_Placebo  Sex_M  Ascites_Y  Hepatomegaly_Y  Spiders_Y  Edema_S  \\\n",
       "0              0.0    1.0        0.0             0.0        0.0      0.0   \n",
       "1              1.0    0.0        0.0             0.0        0.0      0.0   \n",
       "2              1.0    0.0        0.0             1.0        1.0      0.0   \n",
       "3              1.0    0.0        0.0             0.0        0.0      0.0   \n",
       "4              1.0    0.0        0.0             1.0        0.0      0.0   \n",
       "...            ...    ...        ...             ...        ...      ...   \n",
       "6997           0.0    0.0        0.0             0.0        0.0      0.0   \n",
       "6998           1.0    0.0        0.0             1.0        0.0      0.0   \n",
       "6999           0.0    0.0        0.0             0.0        1.0      1.0   \n",
       "7000           0.0    1.0        0.0             1.0        0.0      0.0   \n",
       "7001           0.0    0.0        0.0             0.0        0.0      0.0   \n",
       "\n",
       "      Edema_Y  \n",
       "0         0.0  \n",
       "1         0.0  \n",
       "2         1.0  \n",
       "3         0.0  \n",
       "4         0.0  \n",
       "...       ...  \n",
       "6997      0.0  \n",
       "6998      0.0  \n",
       "6999      0.0  \n",
       "7000      0.0  \n",
       "7001      0.0  \n",
       "\n",
       "[7002 rows x 19 columns]"
      ]
     },
     "execution_count": 118,
     "metadata": {},
     "output_type": "execute_result"
    }
   ],
   "source": [
    "# Concadenamos a nuevo df\n",
    "X_original = pd.concat([numerical_df, categorical_df], axis = 1)\n",
    "X_original"
   ]
  },
  {
   "cell_type": "code",
   "execution_count": 130,
   "id": "707c8661",
   "metadata": {},
   "outputs": [],
   "source": [
    "# codificamos y\n",
    "scaler_y = OneHotEncoder(handle_unknown='ignore', sparse_output=False)\n",
    "encoded_y = scaler_y.fit_transform(y.values.reshape(-1, 1))"
   ]
  },
  {
   "cell_type": "code",
   "execution_count": 133,
   "id": "08ea9e2e",
   "metadata": {},
   "outputs": [
    {
     "data": {
      "text/plain": [
       "array([[0., 0., 1.],\n",
       "       [1., 0., 0.],\n",
       "       [0., 0., 1.],\n",
       "       ...,\n",
       "       [0., 0., 1.],\n",
       "       [0., 0., 1.],\n",
       "       [1., 0., 0.]])"
      ]
     },
     "execution_count": 133,
     "metadata": {},
     "output_type": "execute_result"
    }
   ],
   "source": [
    "encoded_y"
   ]
  },
  {
   "cell_type": "markdown",
   "id": "c23513f2",
   "metadata": {},
   "source": [
    "### Prediccion con redes neuronales"
   ]
  },
  {
   "cell_type": "code",
   "execution_count": 135,
   "id": "f95e04e3",
   "metadata": {},
   "outputs": [],
   "source": [
    "X_train,X_test, y_train, y_test = train_test_split(X_original, encoded_y, test_size=0.2, random_state=42, stratify=encoded_y)"
   ]
  },
  {
   "cell_type": "code",
   "execution_count": 204,
   "id": "5e7ecaed",
   "metadata": {},
   "outputs": [
    {
     "name": "stdout",
     "output_type": "stream",
     "text": [
      "Model: \"sequential_20\"\n",
      "_________________________________________________________________\n",
      " Layer (type)                Output Shape              Param #   \n",
      "=================================================================\n",
      " dense_61 (Dense)            (None, 25)                500       \n",
      "                                                                 \n",
      " batch_normalization_40 (Ba  (None, 25)                100       \n",
      " tchNormalization)                                               \n",
      "                                                                 \n",
      " dropout_24 (Dropout)        (None, 25)                0         \n",
      "                                                                 \n",
      " dense_62 (Dense)            (None, 25)                650       \n",
      "                                                                 \n",
      " batch_normalization_41 (Ba  (None, 25)                100       \n",
      " tchNormalization)                                               \n",
      "                                                                 \n",
      " dense_63 (Dense)            (None, 25)                650       \n",
      "                                                                 \n",
      " batch_normalization_42 (Ba  (None, 25)                100       \n",
      " tchNormalization)                                               \n",
      "                                                                 \n",
      " dropout_25 (Dropout)        (None, 25)                0         \n",
      "                                                                 \n",
      " dense_64 (Dense)            (None, 3)                 78        \n",
      "                                                                 \n",
      "=================================================================\n",
      "Total params: 2178 (8.51 KB)\n",
      "Trainable params: 2028 (7.92 KB)\n",
      "Non-trainable params: 150 (600.00 Byte)\n",
      "_________________________________________________________________\n"
     ]
    }
   ],
   "source": [
    "# Arquitectura de red\n",
    "tf.random.set_seed(42)\n",
    "\n",
    "modelo = tf.keras.Sequential([\n",
    "    tf.keras.layers.Dense(25, activation='relu', input_dim=19),\n",
    "    BatchNormalization(),\n",
    "    tf.keras.layers.Dropout(rate=0.5),\n",
    "    tf.keras.layers.Dense(25, activation='relu'),\n",
    "    BatchNormalization(),\n",
    "    tf.keras.layers.Dense(25, activation='relu'),\n",
    "    BatchNormalization(),\n",
    "    tf.keras.layers.Dropout(rate=0.5),\n",
    "    tf.keras.layers.Dense(3, activation='softmax'),\n",
    "])\n",
    "\n",
    "optimizador = tf.keras.optimizers.Adam(learning_rate=0.0005)\n",
    "modelo.compile(optimizer=optimizador, loss='categorical_crossentropy', metrics=['accuracy'])\n",
    "\n",
    "modelo.summary()"
   ]
  },
  {
   "cell_type": "code",
   "execution_count": 205,
   "id": "255881ba",
   "metadata": {
    "scrolled": true
   },
   "outputs": [
    {
     "name": "stdout",
     "output_type": "stream",
     "text": [
      "Epoch 1/400\n",
      "154/161 [===========================>..] - ETA: 0s - loss: 1.3904 - accuracy: 0.4234INFO:tensorflow:Assets written to: ./checkpoints\\checkpoint\\assets\n"
     ]
    },
    {
     "name": "stderr",
     "output_type": "stream",
     "text": [
      "INFO:tensorflow:Assets written to: ./checkpoints\\checkpoint\\assets\n"
     ]
    },
    {
     "name": "stdout",
     "output_type": "stream",
     "text": [
      "161/161 [==============================] - 4s 14ms/step - loss: 1.3763 - accuracy: 0.4267 - val_loss: 1.0228 - val_accuracy: 0.5553\n",
      "Epoch 2/400\n",
      "158/161 [============================>.] - ETA: 0s - loss: 0.9672 - accuracy: 0.5864INFO:tensorflow:Assets written to: ./checkpoints\\checkpoint\\assets\n"
     ]
    },
    {
     "name": "stderr",
     "output_type": "stream",
     "text": [
      "INFO:tensorflow:Assets written to: ./checkpoints\\checkpoint\\assets\n"
     ]
    },
    {
     "name": "stdout",
     "output_type": "stream",
     "text": [
      "161/161 [==============================] - 2s 12ms/step - loss: 0.9661 - accuracy: 0.5869 - val_loss: 0.7330 - val_accuracy: 0.7780\n",
      "Epoch 3/400\n",
      "143/161 [=========================>....] - ETA: 0s - loss: 0.8211 - accuracy: 0.6681INFO:tensorflow:Assets written to: ./checkpoints\\checkpoint\\assets\n"
     ]
    },
    {
     "name": "stderr",
     "output_type": "stream",
     "text": [
      "INFO:tensorflow:Assets written to: ./checkpoints\\checkpoint\\assets\n"
     ]
    },
    {
     "name": "stdout",
     "output_type": "stream",
     "text": [
      "161/161 [==============================] - 2s 12ms/step - loss: 0.8184 - accuracy: 0.6711 - val_loss: 0.6275 - val_accuracy: 0.7852\n",
      "Epoch 4/400\n",
      "158/161 [============================>.] - ETA: 0s - loss: 0.7395 - accuracy: 0.7112INFO:tensorflow:Assets written to: ./checkpoints\\checkpoint\\assets\n"
     ]
    },
    {
     "name": "stderr",
     "output_type": "stream",
     "text": [
      "INFO:tensorflow:Assets written to: ./checkpoints\\checkpoint\\assets\n"
     ]
    },
    {
     "name": "stdout",
     "output_type": "stream",
     "text": [
      "161/161 [==============================] - 2s 12ms/step - loss: 0.7384 - accuracy: 0.7117 - val_loss: 0.5928 - val_accuracy: 0.7894\n",
      "Epoch 5/400\n",
      "157/161 [============================>.] - ETA: 0s - loss: 0.6857 - accuracy: 0.7416INFO:tensorflow:Assets written to: ./checkpoints\\checkpoint\\assets\n"
     ]
    },
    {
     "name": "stderr",
     "output_type": "stream",
     "text": [
      "INFO:tensorflow:Assets written to: ./checkpoints\\checkpoint\\assets\n"
     ]
    },
    {
     "name": "stdout",
     "output_type": "stream",
     "text": [
      "161/161 [==============================] - 3s 16ms/step - loss: 0.6837 - accuracy: 0.7422 - val_loss: 0.5651 - val_accuracy: 0.7887\n",
      "Epoch 6/400\n",
      "143/161 [=========================>....] - ETA: 0s - loss: 0.6681 - accuracy: 0.7570INFO:tensorflow:Assets written to: ./checkpoints\\checkpoint\\assets\n"
     ]
    },
    {
     "name": "stderr",
     "output_type": "stream",
     "text": [
      "INFO:tensorflow:Assets written to: ./checkpoints\\checkpoint\\assets\n"
     ]
    },
    {
     "name": "stdout",
     "output_type": "stream",
     "text": [
      "161/161 [==============================] - 2s 12ms/step - loss: 0.6652 - accuracy: 0.7574 - val_loss: 0.5554 - val_accuracy: 0.7909\n",
      "Epoch 7/400\n",
      "148/161 [==========================>...] - ETA: 0s - loss: 0.6381 - accuracy: 0.7670INFO:tensorflow:Assets written to: ./checkpoints\\checkpoint\\assets\n"
     ]
    },
    {
     "name": "stderr",
     "output_type": "stream",
     "text": [
      "INFO:tensorflow:Assets written to: ./checkpoints\\checkpoint\\assets\n"
     ]
    },
    {
     "name": "stdout",
     "output_type": "stream",
     "text": [
      "161/161 [==============================] - 2s 13ms/step - loss: 0.6393 - accuracy: 0.7654 - val_loss: 0.5511 - val_accuracy: 0.7944\n",
      "Epoch 8/400\n",
      "159/161 [============================>.] - ETA: 0s - loss: 0.6314 - accuracy: 0.7603INFO:tensorflow:Assets written to: ./checkpoints\\checkpoint\\assets\n"
     ]
    },
    {
     "name": "stderr",
     "output_type": "stream",
     "text": [
      "INFO:tensorflow:Assets written to: ./checkpoints\\checkpoint\\assets\n"
     ]
    },
    {
     "name": "stdout",
     "output_type": "stream",
     "text": [
      "161/161 [==============================] - 2s 12ms/step - loss: 0.6331 - accuracy: 0.7595 - val_loss: 0.5488 - val_accuracy: 0.7951\n",
      "Epoch 9/400\n",
      "150/161 [==========================>...] - ETA: 0s - loss: 0.6164 - accuracy: 0.7676INFO:tensorflow:Assets written to: ./checkpoints\\checkpoint\\assets\n"
     ]
    },
    {
     "name": "stderr",
     "output_type": "stream",
     "text": [
      "INFO:tensorflow:Assets written to: ./checkpoints\\checkpoint\\assets\n"
     ]
    },
    {
     "name": "stdout",
     "output_type": "stream",
     "text": [
      "161/161 [==============================] - 2s 13ms/step - loss: 0.6178 - accuracy: 0.7666 - val_loss: 0.5445 - val_accuracy: 0.7973\n",
      "Epoch 10/400\n",
      "154/161 [===========================>..] - ETA: 0s - loss: 0.6034 - accuracy: 0.7768INFO:tensorflow:Assets written to: ./checkpoints\\checkpoint\\assets\n"
     ]
    },
    {
     "name": "stderr",
     "output_type": "stream",
     "text": [
      "INFO:tensorflow:Assets written to: ./checkpoints\\checkpoint\\assets\n"
     ]
    },
    {
     "name": "stdout",
     "output_type": "stream",
     "text": [
      "161/161 [==============================] - 2s 12ms/step - loss: 0.6035 - accuracy: 0.7756 - val_loss: 0.5411 - val_accuracy: 0.7980\n",
      "Epoch 11/400\n",
      "150/161 [==========================>...] - ETA: 0s - loss: 0.5977 - accuracy: 0.7756INFO:tensorflow:Assets written to: ./checkpoints\\checkpoint\\assets\n"
     ]
    },
    {
     "name": "stderr",
     "output_type": "stream",
     "text": [
      "INFO:tensorflow:Assets written to: ./checkpoints\\checkpoint\\assets\n"
     ]
    },
    {
     "name": "stdout",
     "output_type": "stream",
     "text": [
      "161/161 [==============================] - 2s 13ms/step - loss: 0.5964 - accuracy: 0.7758 - val_loss: 0.5399 - val_accuracy: 0.7966\n",
      "Epoch 12/400\n",
      "157/161 [============================>.] - ETA: 0s - loss: 0.5843 - accuracy: 0.7780INFO:tensorflow:Assets written to: ./checkpoints\\checkpoint\\assets\n"
     ]
    },
    {
     "name": "stderr",
     "output_type": "stream",
     "text": [
      "INFO:tensorflow:Assets written to: ./checkpoints\\checkpoint\\assets\n"
     ]
    },
    {
     "name": "stdout",
     "output_type": "stream",
     "text": [
      "161/161 [==============================] - 2s 12ms/step - loss: 0.5838 - accuracy: 0.7783 - val_loss: 0.5348 - val_accuracy: 0.7973\n",
      "Epoch 13/400\n",
      "154/161 [===========================>..] - ETA: 0s - loss: 0.5946 - accuracy: 0.7718INFO:tensorflow:Assets written to: ./checkpoints\\checkpoint\\assets\n"
     ]
    },
    {
     "name": "stderr",
     "output_type": "stream",
     "text": [
      "INFO:tensorflow:Assets written to: ./checkpoints\\checkpoint\\assets\n"
     ]
    },
    {
     "name": "stdout",
     "output_type": "stream",
     "text": [
      "161/161 [==============================] - 2s 12ms/step - loss: 0.5920 - accuracy: 0.7736 - val_loss: 0.5342 - val_accuracy: 0.7951\n",
      "Epoch 14/400\n",
      "157/161 [============================>.] - ETA: 0s - loss: 0.5792 - accuracy: 0.7793INFO:tensorflow:Assets written to: ./checkpoints\\checkpoint\\assets\n"
     ]
    },
    {
     "name": "stderr",
     "output_type": "stream",
     "text": [
      "INFO:tensorflow:Assets written to: ./checkpoints\\checkpoint\\assets\n"
     ]
    },
    {
     "name": "stdout",
     "output_type": "stream",
     "text": [
      "161/161 [==============================] - 3s 17ms/step - loss: 0.5777 - accuracy: 0.7802 - val_loss: 0.5315 - val_accuracy: 0.7951\n",
      "Epoch 15/400\n",
      "158/161 [============================>.] - ETA: 0s - loss: 0.5812 - accuracy: 0.7796INFO:tensorflow:Assets written to: ./checkpoints\\checkpoint\\assets\n"
     ]
    },
    {
     "name": "stderr",
     "output_type": "stream",
     "text": [
      "INFO:tensorflow:Assets written to: ./checkpoints\\checkpoint\\assets\n"
     ]
    },
    {
     "name": "stdout",
     "output_type": "stream",
     "text": [
      "161/161 [==============================] - 2s 12ms/step - loss: 0.5805 - accuracy: 0.7795 - val_loss: 0.5308 - val_accuracy: 0.7951\n",
      "Epoch 16/400\n",
      "161/161 [==============================] - 0s 3ms/step - loss: 0.5837 - accuracy: 0.7777 - val_loss: 0.5310 - val_accuracy: 0.7973\n",
      "Epoch 17/400\n",
      "161/161 [==============================] - 0s 3ms/step - loss: 0.5746 - accuracy: 0.7825 - val_loss: 0.5314 - val_accuracy: 0.7951\n",
      "Epoch 18/400\n",
      "148/161 [==========================>...] - ETA: 0s - loss: 0.5760 - accuracy: 0.7844INFO:tensorflow:Assets written to: ./checkpoints\\checkpoint\\assets\n"
     ]
    },
    {
     "name": "stderr",
     "output_type": "stream",
     "text": [
      "INFO:tensorflow:Assets written to: ./checkpoints\\checkpoint\\assets\n"
     ]
    },
    {
     "name": "stdout",
     "output_type": "stream",
     "text": [
      "161/161 [==============================] - 2s 12ms/step - loss: 0.5780 - accuracy: 0.7825 - val_loss: 0.5307 - val_accuracy: 0.7937\n",
      "Epoch 19/400\n",
      "144/161 [=========================>....] - ETA: 0s - loss: 0.5664 - accuracy: 0.7825INFO:tensorflow:Assets written to: ./checkpoints\\checkpoint\\assets\n"
     ]
    },
    {
     "name": "stderr",
     "output_type": "stream",
     "text": [
      "INFO:tensorflow:Assets written to: ./checkpoints\\checkpoint\\assets\n"
     ]
    },
    {
     "name": "stdout",
     "output_type": "stream",
     "text": [
      "161/161 [==============================] - 2s 12ms/step - loss: 0.5716 - accuracy: 0.7827 - val_loss: 0.5299 - val_accuracy: 0.7930\n",
      "Epoch 20/400\n",
      "158/161 [============================>.] - ETA: 0s - loss: 0.5621 - accuracy: 0.7882INFO:tensorflow:Assets written to: ./checkpoints\\checkpoint\\assets\n"
     ]
    },
    {
     "name": "stderr",
     "output_type": "stream",
     "text": [
      "INFO:tensorflow:Assets written to: ./checkpoints\\checkpoint\\assets\n"
     ]
    },
    {
     "name": "stdout",
     "output_type": "stream",
     "text": [
      "161/161 [==============================] - 2s 13ms/step - loss: 0.5652 - accuracy: 0.7859 - val_loss: 0.5283 - val_accuracy: 0.7951\n",
      "Epoch 21/400\n",
      "161/161 [==============================] - 1s 3ms/step - loss: 0.5577 - accuracy: 0.7879 - val_loss: 0.5285 - val_accuracy: 0.7944\n",
      "Epoch 22/400\n",
      "145/161 [==========================>...] - ETA: 0s - loss: 0.5592 - accuracy: 0.7882INFO:tensorflow:Assets written to: ./checkpoints\\checkpoint\\assets\n"
     ]
    },
    {
     "name": "stderr",
     "output_type": "stream",
     "text": [
      "INFO:tensorflow:Assets written to: ./checkpoints\\checkpoint\\assets\n"
     ]
    },
    {
     "name": "stdout",
     "output_type": "stream",
     "text": [
      "161/161 [==============================] - 2s 12ms/step - loss: 0.5609 - accuracy: 0.7890 - val_loss: 0.5273 - val_accuracy: 0.7916\n",
      "Epoch 23/400\n",
      "158/161 [============================>.] - ETA: 0s - loss: 0.5670 - accuracy: 0.7895INFO:tensorflow:Assets written to: ./checkpoints\\checkpoint\\assets\n"
     ]
    },
    {
     "name": "stderr",
     "output_type": "stream",
     "text": [
      "INFO:tensorflow:Assets written to: ./checkpoints\\checkpoint\\assets\n"
     ]
    },
    {
     "name": "stdout",
     "output_type": "stream",
     "text": [
      "161/161 [==============================] - 2s 12ms/step - loss: 0.5648 - accuracy: 0.7908 - val_loss: 0.5269 - val_accuracy: 0.7944\n",
      "Epoch 24/400\n",
      "161/161 [==============================] - 0s 3ms/step - loss: 0.5616 - accuracy: 0.7920 - val_loss: 0.5270 - val_accuracy: 0.7966\n",
      "Epoch 25/400\n",
      "150/161 [==========================>...] - ETA: 0s - loss: 0.5480 - accuracy: 0.7918INFO:tensorflow:Assets written to: ./checkpoints\\checkpoint\\assets\n"
     ]
    },
    {
     "name": "stderr",
     "output_type": "stream",
     "text": [
      "INFO:tensorflow:Assets written to: ./checkpoints\\checkpoint\\assets\n"
     ]
    },
    {
     "name": "stdout",
     "output_type": "stream",
     "text": [
      "161/161 [==============================] - 2s 12ms/step - loss: 0.5512 - accuracy: 0.7899 - val_loss: 0.5265 - val_accuracy: 0.7973\n",
      "Epoch 26/400\n",
      "157/161 [============================>.] - ETA: 0s - loss: 0.5464 - accuracy: 0.7931INFO:tensorflow:Assets written to: ./checkpoints\\checkpoint\\assets\n"
     ]
    },
    {
     "name": "stderr",
     "output_type": "stream",
     "text": [
      "INFO:tensorflow:Assets written to: ./checkpoints\\checkpoint\\assets\n"
     ]
    },
    {
     "name": "stdout",
     "output_type": "stream",
     "text": [
      "161/161 [==============================] - 2s 12ms/step - loss: 0.5463 - accuracy: 0.7933 - val_loss: 0.5254 - val_accuracy: 0.7951\n",
      "Epoch 27/400\n",
      "143/161 [=========================>....] - ETA: 0s - loss: 0.5593 - accuracy: 0.7930INFO:tensorflow:Assets written to: ./checkpoints\\checkpoint\\assets\n"
     ]
    },
    {
     "name": "stderr",
     "output_type": "stream",
     "text": [
      "INFO:tensorflow:Assets written to: ./checkpoints\\checkpoint\\assets\n"
     ]
    },
    {
     "name": "stdout",
     "output_type": "stream",
     "text": [
      "161/161 [==============================] - 3s 16ms/step - loss: 0.5606 - accuracy: 0.7902 - val_loss: 0.5247 - val_accuracy: 0.7973\n",
      "Epoch 28/400\n",
      "161/161 [==============================] - 0s 3ms/step - loss: 0.5532 - accuracy: 0.7929 - val_loss: 0.5256 - val_accuracy: 0.7937\n",
      "Epoch 29/400\n",
      "161/161 [==============================] - 0s 3ms/step - loss: 0.5499 - accuracy: 0.7890 - val_loss: 0.5248 - val_accuracy: 0.7973\n",
      "Epoch 30/400\n",
      "161/161 [==============================] - 0s 3ms/step - loss: 0.5529 - accuracy: 0.7920 - val_loss: 0.5257 - val_accuracy: 0.7973\n",
      "Epoch 31/400\n",
      "161/161 [==============================] - 0s 3ms/step - loss: 0.5549 - accuracy: 0.7933 - val_loss: 0.5260 - val_accuracy: 0.7951\n",
      "Epoch 32/400\n",
      "161/161 [==============================] - 1s 3ms/step - loss: 0.5509 - accuracy: 0.7861 - val_loss: 0.5255 - val_accuracy: 0.7973\n",
      "Epoch 33/400\n",
      "161/161 [==============================] - 1s 3ms/step - loss: 0.5507 - accuracy: 0.7920 - val_loss: 0.5247 - val_accuracy: 0.7959\n",
      "Epoch 34/400\n",
      "161/161 [==============================] - 0s 3ms/step - loss: 0.5582 - accuracy: 0.7899 - val_loss: 0.5250 - val_accuracy: 0.7973\n",
      "Epoch 35/400\n",
      "161/161 [==============================] - 0s 3ms/step - loss: 0.5516 - accuracy: 0.7836 - val_loss: 0.5251 - val_accuracy: 0.7966\n",
      "Epoch 36/400\n",
      "160/161 [============================>.] - ETA: 0s - loss: 0.5524 - accuracy: 0.7936INFO:tensorflow:Assets written to: ./checkpoints\\checkpoint\\assets\n"
     ]
    },
    {
     "name": "stderr",
     "output_type": "stream",
     "text": [
      "INFO:tensorflow:Assets written to: ./checkpoints\\checkpoint\\assets\n"
     ]
    },
    {
     "name": "stdout",
     "output_type": "stream",
     "text": [
      "161/161 [==============================] - 2s 12ms/step - loss: 0.5524 - accuracy: 0.7936 - val_loss: 0.5247 - val_accuracy: 0.7909\n",
      "Epoch 37/400\n",
      "155/161 [===========================>..] - ETA: 0s - loss: 0.5451 - accuracy: 0.7904INFO:tensorflow:Assets written to: ./checkpoints\\checkpoint\\assets\n"
     ]
    },
    {
     "name": "stderr",
     "output_type": "stream",
     "text": [
      "INFO:tensorflow:Assets written to: ./checkpoints\\checkpoint\\assets\n"
     ]
    },
    {
     "name": "stdout",
     "output_type": "stream",
     "text": [
      "161/161 [==============================] - 2s 12ms/step - loss: 0.5458 - accuracy: 0.7906 - val_loss: 0.5230 - val_accuracy: 0.7959\n",
      "Epoch 38/400\n",
      "160/161 [============================>.] - ETA: 0s - loss: 0.5410 - accuracy: 0.7912INFO:tensorflow:Assets written to: ./checkpoints\\checkpoint\\assets\n"
     ]
    },
    {
     "name": "stderr",
     "output_type": "stream",
     "text": [
      "INFO:tensorflow:Assets written to: ./checkpoints\\checkpoint\\assets\n"
     ]
    },
    {
     "name": "stdout",
     "output_type": "stream",
     "text": [
      "161/161 [==============================] - 2s 13ms/step - loss: 0.5411 - accuracy: 0.7911 - val_loss: 0.5227 - val_accuracy: 0.7937\n",
      "Epoch 39/400\n",
      "142/161 [=========================>....] - ETA: 0s - loss: 0.5450 - accuracy: 0.7913INFO:tensorflow:Assets written to: ./checkpoints\\checkpoint\\assets\n"
     ]
    },
    {
     "name": "stderr",
     "output_type": "stream",
     "text": [
      "INFO:tensorflow:Assets written to: ./checkpoints\\checkpoint\\assets\n"
     ]
    },
    {
     "name": "stdout",
     "output_type": "stream",
     "text": [
      "161/161 [==============================] - 2s 12ms/step - loss: 0.5471 - accuracy: 0.7908 - val_loss: 0.5223 - val_accuracy: 0.7944\n",
      "Epoch 40/400\n",
      "161/161 [==============================] - 0s 3ms/step - loss: 0.5475 - accuracy: 0.7925 - val_loss: 0.5228 - val_accuracy: 0.7916\n",
      "Epoch 41/400\n",
      "161/161 [==============================] - 0s 3ms/step - loss: 0.5462 - accuracy: 0.7941 - val_loss: 0.5233 - val_accuracy: 0.7959\n",
      "Epoch 42/400\n",
      "161/161 [==============================] - 1s 3ms/step - loss: 0.5416 - accuracy: 0.7959 - val_loss: 0.5226 - val_accuracy: 0.7959\n",
      "Epoch 43/400\n",
      "142/161 [=========================>....] - ETA: 0s - loss: 0.5420 - accuracy: 0.7948INFO:tensorflow:Assets written to: ./checkpoints\\checkpoint\\assets\n"
     ]
    },
    {
     "name": "stderr",
     "output_type": "stream",
     "text": [
      "INFO:tensorflow:Assets written to: ./checkpoints\\checkpoint\\assets\n"
     ]
    },
    {
     "name": "stdout",
     "output_type": "stream",
     "text": [
      "161/161 [==============================] - 2s 13ms/step - loss: 0.5461 - accuracy: 0.7916 - val_loss: 0.5215 - val_accuracy: 0.7959\n",
      "Epoch 44/400\n",
      "141/161 [=========================>....] - ETA: 0s - loss: 0.5470 - accuracy: 0.7941INFO:tensorflow:Assets written to: ./checkpoints\\checkpoint\\assets\n"
     ]
    },
    {
     "name": "stderr",
     "output_type": "stream",
     "text": [
      "INFO:tensorflow:Assets written to: ./checkpoints\\checkpoint\\assets\n"
     ]
    },
    {
     "name": "stdout",
     "output_type": "stream",
     "text": [
      "161/161 [==============================] - 2s 12ms/step - loss: 0.5455 - accuracy: 0.7934 - val_loss: 0.5213 - val_accuracy: 0.7966\n",
      "Epoch 45/400\n",
      "147/161 [==========================>...] - ETA: 0s - loss: 0.5326 - accuracy: 0.8010INFO:tensorflow:Assets written to: ./checkpoints\\checkpoint\\assets\n"
     ]
    },
    {
     "name": "stderr",
     "output_type": "stream",
     "text": [
      "INFO:tensorflow:Assets written to: ./checkpoints\\checkpoint\\assets\n"
     ]
    },
    {
     "name": "stdout",
     "output_type": "stream",
     "text": [
      "161/161 [==============================] - 2s 12ms/step - loss: 0.5360 - accuracy: 0.7997 - val_loss: 0.5198 - val_accuracy: 0.7973\n",
      "Epoch 46/400\n",
      "147/161 [==========================>...] - ETA: 0s - loss: 0.5487 - accuracy: 0.7965INFO:tensorflow:Assets written to: ./checkpoints\\checkpoint\\assets\n"
     ]
    },
    {
     "name": "stderr",
     "output_type": "stream",
     "text": [
      "INFO:tensorflow:Assets written to: ./checkpoints\\checkpoint\\assets\n"
     ]
    },
    {
     "name": "stdout",
     "output_type": "stream",
     "text": [
      "161/161 [==============================] - 2s 12ms/step - loss: 0.5457 - accuracy: 0.7981 - val_loss: 0.5197 - val_accuracy: 0.7959\n",
      "Epoch 47/400\n",
      "161/161 [==============================] - ETA: 0s - loss: 0.5386 - accuracy: 0.7961INFO:tensorflow:Assets written to: ./checkpoints\\checkpoint\\assets\n"
     ]
    },
    {
     "name": "stderr",
     "output_type": "stream",
     "text": [
      "INFO:tensorflow:Assets written to: ./checkpoints\\checkpoint\\assets\n"
     ]
    },
    {
     "name": "stdout",
     "output_type": "stream",
     "text": [
      "161/161 [==============================] - 2s 12ms/step - loss: 0.5386 - accuracy: 0.7961 - val_loss: 0.5197 - val_accuracy: 0.7951\n",
      "Epoch 48/400\n",
      "158/161 [============================>.] - ETA: 0s - loss: 0.5384 - accuracy: 0.7922INFO:tensorflow:Assets written to: ./checkpoints\\checkpoint\\assets\n"
     ]
    },
    {
     "name": "stderr",
     "output_type": "stream",
     "text": [
      "INFO:tensorflow:Assets written to: ./checkpoints\\checkpoint\\assets\n"
     ]
    },
    {
     "name": "stdout",
     "output_type": "stream",
     "text": [
      "161/161 [==============================] - 3s 16ms/step - loss: 0.5394 - accuracy: 0.7924 - val_loss: 0.5194 - val_accuracy: 0.7966\n",
      "Epoch 49/400\n",
      "145/161 [==========================>...] - ETA: 0s - loss: 0.5440 - accuracy: 0.7931INFO:tensorflow:Assets written to: ./checkpoints\\checkpoint\\assets\n"
     ]
    },
    {
     "name": "stderr",
     "output_type": "stream",
     "text": [
      "INFO:tensorflow:Assets written to: ./checkpoints\\checkpoint\\assets\n"
     ]
    },
    {
     "name": "stdout",
     "output_type": "stream",
     "text": [
      "161/161 [==============================] - 2s 12ms/step - loss: 0.5461 - accuracy: 0.7925 - val_loss: 0.5192 - val_accuracy: 0.7980\n",
      "Epoch 50/400\n",
      "157/161 [============================>.] - ETA: 0s - loss: 0.5430 - accuracy: 0.7978INFO:tensorflow:Assets written to: ./checkpoints\\checkpoint\\assets\n"
     ]
    },
    {
     "name": "stderr",
     "output_type": "stream",
     "text": [
      "INFO:tensorflow:Assets written to: ./checkpoints\\checkpoint\\assets\n"
     ]
    },
    {
     "name": "stdout",
     "output_type": "stream",
     "text": [
      "161/161 [==============================] - 2s 12ms/step - loss: 0.5440 - accuracy: 0.7974 - val_loss: 0.5189 - val_accuracy: 0.7930\n",
      "Epoch 51/400\n",
      "161/161 [==============================] - ETA: 0s - loss: 0.5411 - accuracy: 0.7922INFO:tensorflow:Assets written to: ./checkpoints\\checkpoint\\assets\n"
     ]
    },
    {
     "name": "stderr",
     "output_type": "stream",
     "text": [
      "INFO:tensorflow:Assets written to: ./checkpoints\\checkpoint\\assets\n"
     ]
    },
    {
     "name": "stdout",
     "output_type": "stream",
     "text": [
      "161/161 [==============================] - 2s 12ms/step - loss: 0.5411 - accuracy: 0.7922 - val_loss: 0.5181 - val_accuracy: 0.7980\n",
      "Epoch 52/400\n",
      "161/161 [==============================] - 0s 3ms/step - loss: 0.5369 - accuracy: 0.7940 - val_loss: 0.5183 - val_accuracy: 0.7937\n",
      "Epoch 53/400\n",
      "161/161 [==============================] - ETA: 0s - loss: 0.5353 - accuracy: 0.7990INFO:tensorflow:Assets written to: ./checkpoints\\checkpoint\\assets\n"
     ]
    },
    {
     "name": "stderr",
     "output_type": "stream",
     "text": [
      "INFO:tensorflow:Assets written to: ./checkpoints\\checkpoint\\assets\n"
     ]
    },
    {
     "name": "stdout",
     "output_type": "stream",
     "text": [
      "161/161 [==============================] - 2s 12ms/step - loss: 0.5353 - accuracy: 0.7990 - val_loss: 0.5174 - val_accuracy: 0.7937\n",
      "Epoch 54/400\n",
      "161/161 [==============================] - 0s 3ms/step - loss: 0.5376 - accuracy: 0.7975 - val_loss: 0.5182 - val_accuracy: 0.7966\n",
      "Epoch 55/400\n",
      "161/161 [==============================] - 1s 3ms/step - loss: 0.5387 - accuracy: 0.8011 - val_loss: 0.5175 - val_accuracy: 0.7959\n",
      "Epoch 56/400\n",
      "161/161 [==============================] - 0s 3ms/step - loss: 0.5341 - accuracy: 0.8006 - val_loss: 0.5175 - val_accuracy: 0.7951\n",
      "Epoch 57/400\n",
      "158/161 [============================>.] - ETA: 0s - loss: 0.5371 - accuracy: 0.7975INFO:tensorflow:Assets written to: ./checkpoints\\checkpoint\\assets\n"
     ]
    },
    {
     "name": "stderr",
     "output_type": "stream",
     "text": [
      "INFO:tensorflow:Assets written to: ./checkpoints\\checkpoint\\assets\n"
     ]
    },
    {
     "name": "stdout",
     "output_type": "stream",
     "text": [
      "161/161 [==============================] - 2s 12ms/step - loss: 0.5374 - accuracy: 0.7974 - val_loss: 0.5167 - val_accuracy: 0.7944\n",
      "Epoch 58/400\n",
      "151/161 [===========================>..] - ETA: 0s - loss: 0.5341 - accuracy: 0.8000INFO:tensorflow:Assets written to: ./checkpoints\\checkpoint\\assets\n"
     ]
    },
    {
     "name": "stderr",
     "output_type": "stream",
     "text": [
      "INFO:tensorflow:Assets written to: ./checkpoints\\checkpoint\\assets\n"
     ]
    },
    {
     "name": "stdout",
     "output_type": "stream",
     "text": [
      "161/161 [==============================] - 2s 13ms/step - loss: 0.5337 - accuracy: 0.7997 - val_loss: 0.5156 - val_accuracy: 0.7951\n",
      "Epoch 59/400\n",
      "161/161 [==============================] - 1s 3ms/step - loss: 0.5360 - accuracy: 0.7983 - val_loss: 0.5165 - val_accuracy: 0.7944\n",
      "Epoch 60/400\n",
      "161/161 [==============================] - 0s 3ms/step - loss: 0.5379 - accuracy: 0.7922 - val_loss: 0.5169 - val_accuracy: 0.7937\n",
      "Epoch 61/400\n",
      "161/161 [==============================] - 1s 3ms/step - loss: 0.5333 - accuracy: 0.8016 - val_loss: 0.5165 - val_accuracy: 0.7966\n",
      "Epoch 62/400\n",
      "161/161 [==============================] - 1s 3ms/step - loss: 0.5386 - accuracy: 0.7949 - val_loss: 0.5165 - val_accuracy: 0.7959\n",
      "Epoch 63/400\n",
      "159/161 [============================>.] - ETA: 0s - loss: 0.5341 - accuracy: 0.8004INFO:tensorflow:Assets written to: ./checkpoints\\checkpoint\\assets\n"
     ]
    },
    {
     "name": "stderr",
     "output_type": "stream",
     "text": [
      "INFO:tensorflow:Assets written to: ./checkpoints\\checkpoint\\assets\n"
     ]
    },
    {
     "name": "stdout",
     "output_type": "stream",
     "text": [
      "161/161 [==============================] - 2s 13ms/step - loss: 0.5347 - accuracy: 0.7995 - val_loss: 0.5150 - val_accuracy: 0.7951\n",
      "Epoch 64/400\n",
      "161/161 [==============================] - 0s 3ms/step - loss: 0.5393 - accuracy: 0.7949 - val_loss: 0.5151 - val_accuracy: 0.7937\n",
      "Epoch 65/400\n",
      "161/161 [==============================] - 0s 3ms/step - loss: 0.5407 - accuracy: 0.7975 - val_loss: 0.5158 - val_accuracy: 0.7951\n",
      "Epoch 66/400\n",
      "146/161 [==========================>...] - ETA: 0s - loss: 0.5424 - accuracy: 0.7945INFO:tensorflow:Assets written to: ./checkpoints\\checkpoint\\assets\n"
     ]
    },
    {
     "name": "stderr",
     "output_type": "stream",
     "text": [
      "INFO:tensorflow:Assets written to: ./checkpoints\\checkpoint\\assets\n"
     ]
    },
    {
     "name": "stdout",
     "output_type": "stream",
     "text": [
      "161/161 [==============================] - 2s 12ms/step - loss: 0.5383 - accuracy: 0.7968 - val_loss: 0.5149 - val_accuracy: 0.7951\n",
      "Epoch 67/400\n",
      "143/161 [=========================>....] - ETA: 0s - loss: 0.5291 - accuracy: 0.7970INFO:tensorflow:Assets written to: ./checkpoints\\checkpoint\\assets\n"
     ]
    },
    {
     "name": "stderr",
     "output_type": "stream",
     "text": [
      "INFO:tensorflow:Assets written to: ./checkpoints\\checkpoint\\assets\n"
     ]
    },
    {
     "name": "stdout",
     "output_type": "stream",
     "text": [
      "161/161 [==============================] - 3s 16ms/step - loss: 0.5280 - accuracy: 0.7988 - val_loss: 0.5141 - val_accuracy: 0.7951\n",
      "Epoch 68/400\n",
      "145/161 [==========================>...] - ETA: 0s - loss: 0.5277 - accuracy: 0.7976INFO:tensorflow:Assets written to: ./checkpoints\\checkpoint\\assets\n"
     ]
    },
    {
     "name": "stderr",
     "output_type": "stream",
     "text": [
      "INFO:tensorflow:Assets written to: ./checkpoints\\checkpoint\\assets\n"
     ]
    },
    {
     "name": "stdout",
     "output_type": "stream",
     "text": [
      "161/161 [==============================] - 2s 12ms/step - loss: 0.5272 - accuracy: 0.7995 - val_loss: 0.5140 - val_accuracy: 0.7973\n",
      "Epoch 69/400\n",
      "150/161 [==========================>...] - ETA: 0s - loss: 0.5276 - accuracy: 0.7973INFO:tensorflow:Assets written to: ./checkpoints\\checkpoint\\assets\n"
     ]
    },
    {
     "name": "stderr",
     "output_type": "stream",
     "text": [
      "INFO:tensorflow:Assets written to: ./checkpoints\\checkpoint\\assets\n"
     ]
    },
    {
     "name": "stdout",
     "output_type": "stream",
     "text": [
      "161/161 [==============================] - 2s 12ms/step - loss: 0.5325 - accuracy: 0.7940 - val_loss: 0.5134 - val_accuracy: 0.7980\n",
      "Epoch 70/400\n",
      "161/161 [==============================] - 0s 3ms/step - loss: 0.5313 - accuracy: 0.7999 - val_loss: 0.5147 - val_accuracy: 0.7959\n",
      "Epoch 71/400\n",
      "161/161 [==============================] - 0s 3ms/step - loss: 0.5302 - accuracy: 0.7966 - val_loss: 0.5142 - val_accuracy: 0.7994\n",
      "Epoch 72/400\n",
      "161/161 [==============================] - ETA: 0s - loss: 0.5288 - accuracy: 0.7977INFO:tensorflow:Assets written to: ./checkpoints\\checkpoint\\assets\n"
     ]
    },
    {
     "name": "stderr",
     "output_type": "stream",
     "text": [
      "INFO:tensorflow:Assets written to: ./checkpoints\\checkpoint\\assets\n"
     ]
    },
    {
     "name": "stdout",
     "output_type": "stream",
     "text": [
      "161/161 [==============================] - 2s 12ms/step - loss: 0.5288 - accuracy: 0.7977 - val_loss: 0.5132 - val_accuracy: 0.7980\n",
      "Epoch 73/400\n",
      "161/161 [==============================] - 1s 3ms/step - loss: 0.5301 - accuracy: 0.7979 - val_loss: 0.5137 - val_accuracy: 0.7959\n",
      "Epoch 74/400\n",
      "161/161 [==============================] - 0s 3ms/step - loss: 0.5288 - accuracy: 0.7959 - val_loss: 0.5137 - val_accuracy: 0.7951\n",
      "Epoch 75/400\n",
      "145/161 [==========================>...] - ETA: 0s - loss: 0.5239 - accuracy: 0.7996INFO:tensorflow:Assets written to: ./checkpoints\\checkpoint\\assets\n"
     ]
    },
    {
     "name": "stderr",
     "output_type": "stream",
     "text": [
      "INFO:tensorflow:Assets written to: ./checkpoints\\checkpoint\\assets\n"
     ]
    },
    {
     "name": "stdout",
     "output_type": "stream",
     "text": [
      "161/161 [==============================] - 2s 12ms/step - loss: 0.5260 - accuracy: 0.8002 - val_loss: 0.5130 - val_accuracy: 0.7951\n",
      "Epoch 76/400\n",
      "161/161 [==============================] - 0s 3ms/step - loss: 0.5275 - accuracy: 0.7979 - val_loss: 0.5131 - val_accuracy: 0.7959\n",
      "Epoch 77/400\n",
      "146/161 [==========================>...] - ETA: 0s - loss: 0.5266 - accuracy: 0.8041INFO:tensorflow:Assets written to: ./checkpoints\\checkpoint\\assets\n"
     ]
    },
    {
     "name": "stderr",
     "output_type": "stream",
     "text": [
      "INFO:tensorflow:Assets written to: ./checkpoints\\checkpoint\\assets\n"
     ]
    },
    {
     "name": "stdout",
     "output_type": "stream",
     "text": [
      "161/161 [==============================] - 2s 12ms/step - loss: 0.5309 - accuracy: 0.8015 - val_loss: 0.5127 - val_accuracy: 0.7951\n",
      "Epoch 78/400\n",
      "161/161 [==============================] - 0s 3ms/step - loss: 0.5265 - accuracy: 0.7990 - val_loss: 0.5144 - val_accuracy: 0.8001\n",
      "Epoch 79/400\n",
      "161/161 [==============================] - 0s 3ms/step - loss: 0.5287 - accuracy: 0.7954 - val_loss: 0.5130 - val_accuracy: 0.7980\n",
      "Epoch 80/400\n",
      "161/161 [==============================] - 0s 3ms/step - loss: 0.5264 - accuracy: 0.8004 - val_loss: 0.5136 - val_accuracy: 0.7930\n",
      "Epoch 81/400\n",
      "161/161 [==============================] - 0s 3ms/step - loss: 0.5231 - accuracy: 0.7975 - val_loss: 0.5137 - val_accuracy: 0.7951\n",
      "Epoch 82/400\n",
      "160/161 [============================>.] - ETA: 0s - loss: 0.5327 - accuracy: 0.7993INFO:tensorflow:Assets written to: ./checkpoints\\checkpoint\\assets\n"
     ]
    },
    {
     "name": "stderr",
     "output_type": "stream",
     "text": [
      "INFO:tensorflow:Assets written to: ./checkpoints\\checkpoint\\assets\n"
     ]
    },
    {
     "name": "stdout",
     "output_type": "stream",
     "text": [
      "161/161 [==============================] - 2s 12ms/step - loss: 0.5329 - accuracy: 0.7991 - val_loss: 0.5125 - val_accuracy: 0.7966\n",
      "Epoch 83/400\n",
      "160/161 [============================>.] - ETA: 0s - loss: 0.5352 - accuracy: 0.8009INFO:tensorflow:Assets written to: ./checkpoints\\checkpoint\\assets\n"
     ]
    },
    {
     "name": "stderr",
     "output_type": "stream",
     "text": [
      "INFO:tensorflow:Assets written to: ./checkpoints\\checkpoint\\assets\n"
     ]
    },
    {
     "name": "stdout",
     "output_type": "stream",
     "text": [
      "161/161 [==============================] - 2s 12ms/step - loss: 0.5351 - accuracy: 0.8009 - val_loss: 0.5121 - val_accuracy: 0.7973\n",
      "Epoch 84/400\n",
      "161/161 [==============================] - 1s 3ms/step - loss: 0.5315 - accuracy: 0.7983 - val_loss: 0.5128 - val_accuracy: 0.7973\n",
      "Epoch 85/400\n",
      "161/161 [==============================] - 0s 3ms/step - loss: 0.5247 - accuracy: 0.8000 - val_loss: 0.5130 - val_accuracy: 0.7916\n",
      "Epoch 86/400\n",
      "161/161 [==============================] - 0s 3ms/step - loss: 0.5269 - accuracy: 0.7922 - val_loss: 0.5139 - val_accuracy: 0.7973\n",
      "Epoch 87/400\n",
      "161/161 [==============================] - 0s 3ms/step - loss: 0.5241 - accuracy: 0.8009 - val_loss: 0.5133 - val_accuracy: 0.7944\n",
      "Epoch 88/400\n",
      "161/161 [==============================] - 0s 3ms/step - loss: 0.5249 - accuracy: 0.8004 - val_loss: 0.5132 - val_accuracy: 0.7944\n",
      "Epoch 89/400\n",
      "141/161 [=========================>....] - ETA: 0s - loss: 0.5218 - accuracy: 0.8002INFO:tensorflow:Assets written to: ./checkpoints\\checkpoint\\assets\n"
     ]
    },
    {
     "name": "stderr",
     "output_type": "stream",
     "text": [
      "INFO:tensorflow:Assets written to: ./checkpoints\\checkpoint\\assets\n"
     ]
    },
    {
     "name": "stdout",
     "output_type": "stream",
     "text": [
      "161/161 [==============================] - 2s 12ms/step - loss: 0.5267 - accuracy: 0.7995 - val_loss: 0.5121 - val_accuracy: 0.7994\n",
      "Epoch 90/400\n",
      "161/161 [==============================] - 0s 3ms/step - loss: 0.5329 - accuracy: 0.7945 - val_loss: 0.5133 - val_accuracy: 0.8009\n",
      "Epoch 91/400\n",
      "158/161 [============================>.] - ETA: 0s - loss: 0.5316 - accuracy: 0.7949INFO:tensorflow:Assets written to: ./checkpoints\\checkpoint\\assets\n"
     ]
    },
    {
     "name": "stderr",
     "output_type": "stream",
     "text": [
      "INFO:tensorflow:Assets written to: ./checkpoints\\checkpoint\\assets\n"
     ]
    },
    {
     "name": "stdout",
     "output_type": "stream",
     "text": [
      "161/161 [==============================] - 3s 16ms/step - loss: 0.5323 - accuracy: 0.7954 - val_loss: 0.5113 - val_accuracy: 0.8009\n",
      "Epoch 92/400\n",
      "143/161 [=========================>....] - ETA: 0s - loss: 0.5303 - accuracy: 0.7968INFO:tensorflow:Assets written to: ./checkpoints\\checkpoint\\assets\n"
     ]
    },
    {
     "name": "stderr",
     "output_type": "stream",
     "text": [
      "INFO:tensorflow:Assets written to: ./checkpoints\\checkpoint\\assets\n"
     ]
    },
    {
     "name": "stdout",
     "output_type": "stream",
     "text": [
      "161/161 [==============================] - 2s 12ms/step - loss: 0.5274 - accuracy: 0.7975 - val_loss: 0.5099 - val_accuracy: 0.8001\n",
      "Epoch 93/400\n",
      "161/161 [==============================] - 0s 3ms/step - loss: 0.5215 - accuracy: 0.7981 - val_loss: 0.5104 - val_accuracy: 0.7980\n",
      "Epoch 94/400\n",
      "161/161 [==============================] - 0s 3ms/step - loss: 0.5290 - accuracy: 0.7915 - val_loss: 0.5104 - val_accuracy: 0.7994\n",
      "Epoch 95/400\n",
      "148/161 [==========================>...] - ETA: 0s - loss: 0.5228 - accuracy: 0.7981INFO:tensorflow:Assets written to: ./checkpoints\\checkpoint\\assets\n"
     ]
    },
    {
     "name": "stderr",
     "output_type": "stream",
     "text": [
      "INFO:tensorflow:Assets written to: ./checkpoints\\checkpoint\\assets\n"
     ]
    },
    {
     "name": "stdout",
     "output_type": "stream",
     "text": [
      "161/161 [==============================] - 2s 12ms/step - loss: 0.5248 - accuracy: 0.7979 - val_loss: 0.5097 - val_accuracy: 0.8009\n",
      "Epoch 96/400\n",
      "161/161 [==============================] - 0s 3ms/step - loss: 0.5306 - accuracy: 0.7974 - val_loss: 0.5108 - val_accuracy: 0.8009\n",
      "Epoch 97/400\n",
      "161/161 [==============================] - 0s 3ms/step - loss: 0.5246 - accuracy: 0.8018 - val_loss: 0.5102 - val_accuracy: 0.8016\n",
      "Epoch 98/400\n",
      "161/161 [==============================] - 0s 3ms/step - loss: 0.5202 - accuracy: 0.8016 - val_loss: 0.5107 - val_accuracy: 0.7987\n",
      "Epoch 99/400\n",
      "161/161 [==============================] - 0s 3ms/step - loss: 0.5218 - accuracy: 0.8024 - val_loss: 0.5101 - val_accuracy: 0.7966\n",
      "Epoch 100/400\n",
      "161/161 [==============================] - 1s 3ms/step - loss: 0.5243 - accuracy: 0.7983 - val_loss: 0.5100 - val_accuracy: 0.7966\n",
      "Epoch 101/400\n",
      "141/161 [=========================>....] - ETA: 0s - loss: 0.5213 - accuracy: 0.7974INFO:tensorflow:Assets written to: ./checkpoints\\checkpoint\\assets\n"
     ]
    },
    {
     "name": "stderr",
     "output_type": "stream",
     "text": [
      "INFO:tensorflow:Assets written to: ./checkpoints\\checkpoint\\assets\n"
     ]
    },
    {
     "name": "stdout",
     "output_type": "stream",
     "text": [
      "161/161 [==============================] - 2s 12ms/step - loss: 0.5194 - accuracy: 0.7984 - val_loss: 0.5091 - val_accuracy: 0.7994\n",
      "Epoch 102/400\n",
      "161/161 [==============================] - 0s 3ms/step - loss: 0.5228 - accuracy: 0.8054 - val_loss: 0.5102 - val_accuracy: 0.7959\n",
      "Epoch 103/400\n",
      "161/161 [==============================] - 0s 3ms/step - loss: 0.5249 - accuracy: 0.8015 - val_loss: 0.5094 - val_accuracy: 0.7944\n",
      "Epoch 104/400\n",
      "146/161 [==========================>...] - ETA: 0s - loss: 0.5275 - accuracy: 0.7959INFO:tensorflow:Assets written to: ./checkpoints\\checkpoint\\assets\n"
     ]
    },
    {
     "name": "stderr",
     "output_type": "stream",
     "text": [
      "INFO:tensorflow:Assets written to: ./checkpoints\\checkpoint\\assets\n"
     ]
    },
    {
     "name": "stdout",
     "output_type": "stream",
     "text": [
      "161/161 [==============================] - 2s 12ms/step - loss: 0.5257 - accuracy: 0.7965 - val_loss: 0.5085 - val_accuracy: 0.7987\n",
      "Epoch 105/400\n",
      "161/161 [==============================] - 1s 3ms/step - loss: 0.5241 - accuracy: 0.8000 - val_loss: 0.5097 - val_accuracy: 0.7987\n",
      "Epoch 106/400\n",
      "161/161 [==============================] - 1s 3ms/step - loss: 0.5163 - accuracy: 0.8036 - val_loss: 0.5088 - val_accuracy: 0.8009\n",
      "Epoch 107/400\n",
      "161/161 [==============================] - 1s 3ms/step - loss: 0.5193 - accuracy: 0.8029 - val_loss: 0.5086 - val_accuracy: 0.8001\n",
      "Epoch 108/400\n",
      "161/161 [==============================] - 1s 3ms/step - loss: 0.5260 - accuracy: 0.7988 - val_loss: 0.5089 - val_accuracy: 0.8037\n",
      "Epoch 109/400\n",
      "161/161 [==============================] - 1s 4ms/step - loss: 0.5221 - accuracy: 0.7984 - val_loss: 0.5088 - val_accuracy: 0.8030\n",
      "Epoch 110/400\n",
      "142/161 [=========================>....] - ETA: 0s - loss: 0.5192 - accuracy: 0.7990INFO:tensorflow:Assets written to: ./checkpoints\\checkpoint\\assets\n"
     ]
    },
    {
     "name": "stderr",
     "output_type": "stream",
     "text": [
      "INFO:tensorflow:Assets written to: ./checkpoints\\checkpoint\\assets\n"
     ]
    },
    {
     "name": "stdout",
     "output_type": "stream",
     "text": [
      "161/161 [==============================] - 2s 12ms/step - loss: 0.5250 - accuracy: 0.7963 - val_loss: 0.5073 - val_accuracy: 0.8023\n",
      "Epoch 111/400\n",
      "161/161 [==============================] - 0s 3ms/step - loss: 0.5272 - accuracy: 0.7958 - val_loss: 0.5083 - val_accuracy: 0.8001\n",
      "Epoch 112/400\n",
      "161/161 [==============================] - 0s 3ms/step - loss: 0.5231 - accuracy: 0.7959 - val_loss: 0.5074 - val_accuracy: 0.7980\n",
      "Epoch 113/400\n",
      "161/161 [==============================] - 0s 3ms/step - loss: 0.5277 - accuracy: 0.8009 - val_loss: 0.5080 - val_accuracy: 0.7987\n",
      "Epoch 114/400\n",
      "145/161 [==========================>...] - ETA: 0s - loss: 0.5258 - accuracy: 0.8000INFO:tensorflow:Assets written to: ./checkpoints\\checkpoint\\assets\n"
     ]
    },
    {
     "name": "stderr",
     "output_type": "stream",
     "text": [
      "INFO:tensorflow:Assets written to: ./checkpoints\\checkpoint\\assets\n"
     ]
    },
    {
     "name": "stdout",
     "output_type": "stream",
     "text": [
      "161/161 [==============================] - 2s 12ms/step - loss: 0.5232 - accuracy: 0.8015 - val_loss: 0.5070 - val_accuracy: 0.7987\n",
      "Epoch 115/400\n",
      "145/161 [==========================>...] - ETA: 0s - loss: 0.5227 - accuracy: 0.8022INFO:tensorflow:Assets written to: ./checkpoints\\checkpoint\\assets\n"
     ]
    },
    {
     "name": "stderr",
     "output_type": "stream",
     "text": [
      "INFO:tensorflow:Assets written to: ./checkpoints\\checkpoint\\assets\n"
     ]
    },
    {
     "name": "stdout",
     "output_type": "stream",
     "text": [
      "161/161 [==============================] - 2s 12ms/step - loss: 0.5222 - accuracy: 0.8020 - val_loss: 0.5068 - val_accuracy: 0.7980\n",
      "Epoch 116/400\n",
      "161/161 [==============================] - 0s 3ms/step - loss: 0.5228 - accuracy: 0.8018 - val_loss: 0.5099 - val_accuracy: 0.7966\n",
      "Epoch 117/400\n",
      "161/161 [==============================] - 0s 3ms/step - loss: 0.5177 - accuracy: 0.8029 - val_loss: 0.5082 - val_accuracy: 0.7987\n",
      "Epoch 118/400\n",
      "161/161 [==============================] - 0s 3ms/step - loss: 0.5204 - accuracy: 0.7977 - val_loss: 0.5072 - val_accuracy: 0.8016\n",
      "Epoch 119/400\n",
      "161/161 [==============================] - 0s 3ms/step - loss: 0.5212 - accuracy: 0.7997 - val_loss: 0.5070 - val_accuracy: 0.8016\n",
      "Epoch 120/400\n",
      "146/161 [==========================>...] - ETA: 0s - loss: 0.5185 - accuracy: 0.8008INFO:tensorflow:Assets written to: ./checkpoints\\checkpoint\\assets\n"
     ]
    },
    {
     "name": "stderr",
     "output_type": "stream",
     "text": [
      "INFO:tensorflow:Assets written to: ./checkpoints\\checkpoint\\assets\n"
     ]
    },
    {
     "name": "stdout",
     "output_type": "stream",
     "text": [
      "161/161 [==============================] - 2s 12ms/step - loss: 0.5217 - accuracy: 0.7999 - val_loss: 0.5063 - val_accuracy: 0.8030\n",
      "Epoch 121/400\n",
      "161/161 [==============================] - 0s 3ms/step - loss: 0.5145 - accuracy: 0.8024 - val_loss: 0.5070 - val_accuracy: 0.8037\n",
      "Epoch 122/400\n",
      "161/161 [==============================] - 0s 3ms/step - loss: 0.5243 - accuracy: 0.7947 - val_loss: 0.5091 - val_accuracy: 0.8009\n",
      "Epoch 123/400\n",
      "161/161 [==============================] - 0s 3ms/step - loss: 0.5245 - accuracy: 0.7990 - val_loss: 0.5084 - val_accuracy: 0.7966\n",
      "Epoch 124/400\n",
      "161/161 [==============================] - 0s 3ms/step - loss: 0.5164 - accuracy: 0.8050 - val_loss: 0.5075 - val_accuracy: 0.8009\n",
      "Epoch 125/400\n",
      "161/161 [==============================] - 0s 3ms/step - loss: 0.5146 - accuracy: 0.8077 - val_loss: 0.5068 - val_accuracy: 0.8009\n",
      "Epoch 126/400\n",
      "148/161 [==========================>...] - ETA: 0s - loss: 0.5238 - accuracy: 0.7979INFO:tensorflow:Assets written to: ./checkpoints\\checkpoint\\assets\n"
     ]
    },
    {
     "name": "stderr",
     "output_type": "stream",
     "text": [
      "INFO:tensorflow:Assets written to: ./checkpoints\\checkpoint\\assets\n"
     ]
    },
    {
     "name": "stdout",
     "output_type": "stream",
     "text": [
      "161/161 [==============================] - 3s 17ms/step - loss: 0.5218 - accuracy: 0.7981 - val_loss: 0.5062 - val_accuracy: 0.8016\n",
      "Epoch 127/400\n",
      "161/161 [==============================] - 1s 3ms/step - loss: 0.5160 - accuracy: 0.8057 - val_loss: 0.5072 - val_accuracy: 0.8016\n",
      "Epoch 128/400\n",
      "155/161 [===========================>..] - ETA: 0s - loss: 0.5122 - accuracy: 0.8028INFO:tensorflow:Assets written to: ./checkpoints\\checkpoint\\assets\n"
     ]
    },
    {
     "name": "stderr",
     "output_type": "stream",
     "text": [
      "INFO:tensorflow:Assets written to: ./checkpoints\\checkpoint\\assets\n"
     ]
    },
    {
     "name": "stdout",
     "output_type": "stream",
     "text": [
      "161/161 [==============================] - 2s 12ms/step - loss: 0.5097 - accuracy: 0.8041 - val_loss: 0.5056 - val_accuracy: 0.8001\n",
      "Epoch 129/400\n",
      "161/161 [==============================] - 1s 3ms/step - loss: 0.5129 - accuracy: 0.8049 - val_loss: 0.5075 - val_accuracy: 0.8037\n",
      "Epoch 130/400\n",
      "161/161 [==============================] - 0s 3ms/step - loss: 0.5140 - accuracy: 0.8027 - val_loss: 0.5063 - val_accuracy: 0.7994\n",
      "Epoch 131/400\n",
      "161/161 [==============================] - 0s 3ms/step - loss: 0.5218 - accuracy: 0.7941 - val_loss: 0.5064 - val_accuracy: 0.8023\n",
      "Epoch 132/400\n",
      "161/161 [==============================] - 0s 3ms/step - loss: 0.5125 - accuracy: 0.8004 - val_loss: 0.5060 - val_accuracy: 0.8037\n",
      "Epoch 133/400\n",
      "145/161 [==========================>...] - ETA: 0s - loss: 0.5090 - accuracy: 0.8057INFO:tensorflow:Assets written to: ./checkpoints\\checkpoint\\assets\n"
     ]
    },
    {
     "name": "stderr",
     "output_type": "stream",
     "text": [
      "INFO:tensorflow:Assets written to: ./checkpoints\\checkpoint\\assets\n"
     ]
    },
    {
     "name": "stdout",
     "output_type": "stream",
     "text": [
      "161/161 [==============================] - 2s 12ms/step - loss: 0.5156 - accuracy: 0.8038 - val_loss: 0.5046 - val_accuracy: 0.8009\n",
      "Epoch 134/400\n",
      "161/161 [==============================] - 0s 3ms/step - loss: 0.5168 - accuracy: 0.8018 - val_loss: 0.5053 - val_accuracy: 0.8001\n",
      "Epoch 135/400\n",
      "144/161 [=========================>....] - ETA: 0s - loss: 0.5123 - accuracy: 0.8022INFO:tensorflow:Assets written to: ./checkpoints\\checkpoint\\assets\n"
     ]
    },
    {
     "name": "stderr",
     "output_type": "stream",
     "text": [
      "INFO:tensorflow:Assets written to: ./checkpoints\\checkpoint\\assets\n"
     ]
    },
    {
     "name": "stdout",
     "output_type": "stream",
     "text": [
      "161/161 [==============================] - 2s 12ms/step - loss: 0.5125 - accuracy: 0.8025 - val_loss: 0.5046 - val_accuracy: 0.8023\n",
      "Epoch 136/400\n",
      "142/161 [=========================>....] - ETA: 0s - loss: 0.5120 - accuracy: 0.8018INFO:tensorflow:Assets written to: ./checkpoints\\checkpoint\\assets\n"
     ]
    },
    {
     "name": "stderr",
     "output_type": "stream",
     "text": [
      "INFO:tensorflow:Assets written to: ./checkpoints\\checkpoint\\assets\n"
     ]
    },
    {
     "name": "stdout",
     "output_type": "stream",
     "text": [
      "161/161 [==============================] - 2s 12ms/step - loss: 0.5141 - accuracy: 0.8029 - val_loss: 0.5036 - val_accuracy: 0.8044\n",
      "Epoch 137/400\n",
      "161/161 [==============================] - 0s 3ms/step - loss: 0.5196 - accuracy: 0.8038 - val_loss: 0.5037 - val_accuracy: 0.8001\n",
      "Epoch 138/400\n",
      "144/161 [=========================>....] - ETA: 0s - loss: 0.5169 - accuracy: 0.8000INFO:tensorflow:Assets written to: ./checkpoints\\checkpoint\\assets\n"
     ]
    },
    {
     "name": "stderr",
     "output_type": "stream",
     "text": [
      "INFO:tensorflow:Assets written to: ./checkpoints\\checkpoint\\assets\n"
     ]
    },
    {
     "name": "stdout",
     "output_type": "stream",
     "text": [
      "161/161 [==============================] - 2s 12ms/step - loss: 0.5113 - accuracy: 0.8022 - val_loss: 0.5033 - val_accuracy: 0.8059\n",
      "Epoch 139/400\n",
      "161/161 [==============================] - 1s 3ms/step - loss: 0.5233 - accuracy: 0.8011 - val_loss: 0.5050 - val_accuracy: 0.8023\n",
      "Epoch 140/400\n",
      "161/161 [==============================] - 0s 3ms/step - loss: 0.5157 - accuracy: 0.8025 - val_loss: 0.5040 - val_accuracy: 0.7994\n",
      "Epoch 141/400\n",
      "161/161 [==============================] - 0s 3ms/step - loss: 0.5168 - accuracy: 0.8011 - val_loss: 0.5039 - val_accuracy: 0.8009\n",
      "Epoch 142/400\n",
      "161/161 [==============================] - 0s 3ms/step - loss: 0.5114 - accuracy: 0.7999 - val_loss: 0.5038 - val_accuracy: 0.8023\n",
      "Epoch 143/400\n",
      "161/161 [==============================] - 0s 3ms/step - loss: 0.5160 - accuracy: 0.8025 - val_loss: 0.5052 - val_accuracy: 0.8030\n",
      "Epoch 144/400\n",
      "161/161 [==============================] - 0s 3ms/step - loss: 0.5125 - accuracy: 0.8009 - val_loss: 0.5041 - val_accuracy: 0.8030\n",
      "Epoch 145/400\n",
      "161/161 [==============================] - 0s 3ms/step - loss: 0.5212 - accuracy: 0.7984 - val_loss: 0.5054 - val_accuracy: 0.7973\n",
      "Epoch 146/400\n",
      "161/161 [==============================] - 0s 3ms/step - loss: 0.5124 - accuracy: 0.8002 - val_loss: 0.5045 - val_accuracy: 0.7966\n",
      "Epoch 147/400\n",
      "147/161 [==========================>...] - ETA: 0s - loss: 0.5074 - accuracy: 0.8039INFO:tensorflow:Assets written to: ./checkpoints\\checkpoint\\assets\n"
     ]
    },
    {
     "name": "stderr",
     "output_type": "stream",
     "text": [
      "INFO:tensorflow:Assets written to: ./checkpoints\\checkpoint\\assets\n"
     ]
    },
    {
     "name": "stdout",
     "output_type": "stream",
     "text": [
      "161/161 [==============================] - 2s 12ms/step - loss: 0.5132 - accuracy: 0.8013 - val_loss: 0.5022 - val_accuracy: 0.8016\n",
      "Epoch 148/400\n",
      "161/161 [==============================] - 0s 3ms/step - loss: 0.5199 - accuracy: 0.7995 - val_loss: 0.5033 - val_accuracy: 0.7987\n",
      "Epoch 149/400\n",
      "161/161 [==============================] - 0s 3ms/step - loss: 0.5121 - accuracy: 0.8013 - val_loss: 0.5033 - val_accuracy: 0.8009\n",
      "Epoch 150/400\n",
      "161/161 [==============================] - 0s 3ms/step - loss: 0.5162 - accuracy: 0.7991 - val_loss: 0.5032 - val_accuracy: 0.8016\n",
      "Epoch 151/400\n",
      "161/161 [==============================] - 0s 3ms/step - loss: 0.5062 - accuracy: 0.8038 - val_loss: 0.5031 - val_accuracy: 0.8016\n",
      "Epoch 152/400\n",
      "161/161 [==============================] - 0s 3ms/step - loss: 0.5210 - accuracy: 0.7947 - val_loss: 0.5027 - val_accuracy: 0.8016\n",
      "Epoch 153/400\n",
      "161/161 [==============================] - 0s 3ms/step - loss: 0.5120 - accuracy: 0.7999 - val_loss: 0.5035 - val_accuracy: 0.7966\n",
      "Epoch 154/400\n",
      "161/161 [==============================] - 0s 3ms/step - loss: 0.5143 - accuracy: 0.8031 - val_loss: 0.5033 - val_accuracy: 0.8009\n",
      "Epoch 155/400\n",
      "161/161 [==============================] - 0s 3ms/step - loss: 0.5141 - accuracy: 0.8020 - val_loss: 0.5037 - val_accuracy: 0.8009\n",
      "Epoch 156/400\n",
      "161/161 [==============================] - 1s 3ms/step - loss: 0.5093 - accuracy: 0.8100 - val_loss: 0.5023 - val_accuracy: 0.8001\n",
      "Epoch 157/400\n",
      "143/161 [=========================>....] - ETA: 0s - loss: 0.5084 - accuracy: 0.8074INFO:tensorflow:Assets written to: ./checkpoints\\checkpoint\\assets\n"
     ]
    },
    {
     "name": "stderr",
     "output_type": "stream",
     "text": [
      "INFO:tensorflow:Assets written to: ./checkpoints\\checkpoint\\assets\n"
     ]
    },
    {
     "name": "stdout",
     "output_type": "stream",
     "text": [
      "161/161 [==============================] - 2s 12ms/step - loss: 0.5065 - accuracy: 0.8072 - val_loss: 0.5005 - val_accuracy: 0.8016\n",
      "Epoch 158/400\n",
      "161/161 [==============================] - 0s 3ms/step - loss: 0.5101 - accuracy: 0.8070 - val_loss: 0.5010 - val_accuracy: 0.8030\n",
      "Epoch 159/400\n",
      "161/161 [==============================] - 0s 3ms/step - loss: 0.5127 - accuracy: 0.8009 - val_loss: 0.5026 - val_accuracy: 0.8016\n",
      "Epoch 160/400\n",
      "146/161 [==========================>...] - ETA: 0s - loss: 0.5097 - accuracy: 0.8053INFO:tensorflow:Assets written to: ./checkpoints\\checkpoint\\assets\n"
     ]
    },
    {
     "name": "stderr",
     "output_type": "stream",
     "text": [
      "INFO:tensorflow:Assets written to: ./checkpoints\\checkpoint\\assets\n"
     ]
    },
    {
     "name": "stdout",
     "output_type": "stream",
     "text": [
      "161/161 [==============================] - 2s 12ms/step - loss: 0.5142 - accuracy: 0.8047 - val_loss: 0.5000 - val_accuracy: 0.8023\n",
      "Epoch 161/400\n",
      "161/161 [==============================] - 0s 3ms/step - loss: 0.5104 - accuracy: 0.8034 - val_loss: 0.5011 - val_accuracy: 0.7987\n",
      "Epoch 162/400\n",
      "161/161 [==============================] - 0s 3ms/step - loss: 0.5152 - accuracy: 0.8027 - val_loss: 0.5007 - val_accuracy: 0.8016\n",
      "Epoch 163/400\n",
      "161/161 [==============================] - 0s 3ms/step - loss: 0.5137 - accuracy: 0.8034 - val_loss: 0.5017 - val_accuracy: 0.8037\n",
      "Epoch 164/400\n",
      "161/161 [==============================] - 0s 3ms/step - loss: 0.5123 - accuracy: 0.8031 - val_loss: 0.5021 - val_accuracy: 0.8030\n",
      "Epoch 165/400\n",
      "161/161 [==============================] - 0s 3ms/step - loss: 0.5100 - accuracy: 0.8018 - val_loss: 0.5005 - val_accuracy: 0.8001\n",
      "Epoch 166/400\n",
      "161/161 [==============================] - 0s 3ms/step - loss: 0.5126 - accuracy: 0.8022 - val_loss: 0.5008 - val_accuracy: 0.8044\n",
      "Epoch 167/400\n",
      "161/161 [==============================] - 0s 3ms/step - loss: 0.5122 - accuracy: 0.8002 - val_loss: 0.5016 - val_accuracy: 0.8016\n",
      "Epoch 168/400\n",
      "147/161 [==========================>...] - ETA: 0s - loss: 0.5125 - accuracy: 0.8039INFO:tensorflow:Assets written to: ./checkpoints\\checkpoint\\assets\n"
     ]
    },
    {
     "name": "stderr",
     "output_type": "stream",
     "text": [
      "INFO:tensorflow:Assets written to: ./checkpoints\\checkpoint\\assets\n"
     ]
    },
    {
     "name": "stdout",
     "output_type": "stream",
     "text": [
      "161/161 [==============================] - 2s 12ms/step - loss: 0.5146 - accuracy: 0.8027 - val_loss: 0.4999 - val_accuracy: 0.8037\n",
      "Epoch 169/400\n",
      "161/161 [==============================] - 0s 3ms/step - loss: 0.5142 - accuracy: 0.8045 - val_loss: 0.5013 - val_accuracy: 0.7994\n",
      "Epoch 170/400\n",
      "146/161 [==========================>...] - ETA: 0s - loss: 0.5127 - accuracy: 0.8002INFO:tensorflow:Assets written to: ./checkpoints\\checkpoint\\assets\n"
     ]
    },
    {
     "name": "stderr",
     "output_type": "stream",
     "text": [
      "INFO:tensorflow:Assets written to: ./checkpoints\\checkpoint\\assets\n"
     ]
    },
    {
     "name": "stdout",
     "output_type": "stream",
     "text": [
      "161/161 [==============================] - 3s 16ms/step - loss: 0.5145 - accuracy: 0.8009 - val_loss: 0.4991 - val_accuracy: 0.8044\n",
      "Epoch 171/400\n",
      "161/161 [==============================] - 0s 3ms/step - loss: 0.5153 - accuracy: 0.8025 - val_loss: 0.5020 - val_accuracy: 0.7994\n",
      "Epoch 172/400\n",
      "161/161 [==============================] - 0s 3ms/step - loss: 0.5075 - accuracy: 0.8047 - val_loss: 0.5003 - val_accuracy: 0.8037\n",
      "Epoch 173/400\n",
      "161/161 [==============================] - 0s 3ms/step - loss: 0.5211 - accuracy: 0.7968 - val_loss: 0.4997 - val_accuracy: 0.8009\n",
      "Epoch 174/400\n",
      "161/161 [==============================] - 0s 3ms/step - loss: 0.5081 - accuracy: 0.8032 - val_loss: 0.5011 - val_accuracy: 0.8009\n",
      "Epoch 175/400\n",
      "161/161 [==============================] - 0s 3ms/step - loss: 0.5118 - accuracy: 0.8034 - val_loss: 0.5007 - val_accuracy: 0.8001\n",
      "Epoch 176/400\n",
      "161/161 [==============================] - 0s 3ms/step - loss: 0.5175 - accuracy: 0.7993 - val_loss: 0.5003 - val_accuracy: 0.7980\n",
      "Epoch 177/400\n",
      "161/161 [==============================] - 0s 3ms/step - loss: 0.5052 - accuracy: 0.8093 - val_loss: 0.4998 - val_accuracy: 0.8001\n",
      "Epoch 178/400\n",
      "161/161 [==============================] - 0s 3ms/step - loss: 0.5110 - accuracy: 0.8020 - val_loss: 0.5011 - val_accuracy: 0.8044\n",
      "Epoch 179/400\n",
      "161/161 [==============================] - 0s 3ms/step - loss: 0.5079 - accuracy: 0.8052 - val_loss: 0.5017 - val_accuracy: 0.7973\n",
      "Epoch 180/400\n",
      "161/161 [==============================] - 0s 3ms/step - loss: 0.5138 - accuracy: 0.8011 - val_loss: 0.5009 - val_accuracy: 0.7973\n",
      "Epoch 181/400\n",
      "161/161 [==============================] - 0s 3ms/step - loss: 0.5147 - accuracy: 0.8022 - val_loss: 0.5008 - val_accuracy: 0.8009\n",
      "Epoch 182/400\n",
      "161/161 [==============================] - 0s 3ms/step - loss: 0.5209 - accuracy: 0.7961 - val_loss: 0.5012 - val_accuracy: 0.8030\n",
      "Epoch 183/400\n",
      "161/161 [==============================] - 0s 3ms/step - loss: 0.5088 - accuracy: 0.8049 - val_loss: 0.5014 - val_accuracy: 0.8001\n",
      "Epoch 184/400\n",
      "161/161 [==============================] - 0s 3ms/step - loss: 0.5084 - accuracy: 0.8036 - val_loss: 0.5024 - val_accuracy: 0.8001\n",
      "Epoch 185/400\n",
      "161/161 [==============================] - 0s 3ms/step - loss: 0.5177 - accuracy: 0.8047 - val_loss: 0.5008 - val_accuracy: 0.8009\n"
     ]
    }
   ],
   "source": [
    "# Ajustar y entrenar el modelo de red neuronal\n",
    "early_stop = tf.keras.callbacks.EarlyStopping(patience=15, restore_best_weights=True)\n",
    "filepath='./checkpoints/checkpoint'\n",
    "best_model = tf.keras.callbacks.ModelCheckpoint(filepath=filepath,save_best_only=True, save_weigth_only=False, \n",
    "                                                monitor='val_loss', mode='min')\n",
    "history=modelo.fit(X_train, y_train ,batch_size= 35, callbacks=[early_stop, best_model] ,epochs=400,validation_data=(X_test, y_test))"
   ]
  },
  {
   "cell_type": "code",
   "execution_count": 206,
   "id": "f8bbab2f",
   "metadata": {},
   "outputs": [
    {
     "data": {
      "image/png": "[encoded data removed]",
      "text/plain": [
       "<Figure size 1200x600 with 2 Axes>"
      ]
     },
     "metadata": {},
     "output_type": "display_data"
    }
   ],
   "source": [
    "plt.figure(figsize=(12, 6))\n",
    "\n",
    "# Plot Precisión\n",
    "plt.subplot(1, 2, 1)\n",
    "plt.plot(history.history['accuracy'], label='Entrenamiento')\n",
    "plt.plot(history.history['val_accuracy'], label='Validación')\n",
    "plt.title('Precisión del Modelo')\n",
    "plt.xlabel('Época')\n",
    "plt.ylabel('Precisión')\n",
    "plt.legend()\n",
    "\n",
    "# Plot Pérdida\n",
    "plt.subplot(1, 2, 2)\n",
    "plt.plot(history.history['loss'], label='Entrenamiento')\n",
    "plt.plot(history.history['val_loss'], label='Validación')\n",
    "plt.title('Pérdida del Modelo')\n",
    "plt.xlabel('Época')\n",
    "plt.ylabel('Pérdida')\n",
    "plt.legend()\n",
    "\n",
    "plt.show()"
   ]
  },
  {
   "cell_type": "code",
   "execution_count": 210,
   "id": "c9f4e286",
   "metadata": {},
   "outputs": [
    {
     "name": "stdout",
     "output_type": "stream",
     "text": [
      "WARNING:tensorflow:From C:\\Users\\jarod\\anaconda3\\Lib\\site-packages\\keras\\src\\saving\\legacy\\saved_model\\load.py:107: The name tf.gfile.Exists is deprecated. Please use tf.io.gfile.exists instead.\n",
      "\n"
     ]
    },
    {
     "name": "stderr",
     "output_type": "stream",
     "text": [
      "WARNING:tensorflow:From C:\\Users\\jarod\\anaconda3\\Lib\\site-packages\\keras\\src\\saving\\legacy\\saved_model\\load.py:107: The name tf.gfile.Exists is deprecated. Please use tf.io.gfile.exists instead.\n",
      "\n"
     ]
    }
   ],
   "source": [
    "best_model = load_model('./checkpoints/checkpoint')"
   ]
  },
  {
   "cell_type": "code",
   "execution_count": 211,
   "id": "8acc93b6",
   "metadata": {},
   "outputs": [
    {
     "name": "stdout",
     "output_type": "stream",
     "text": [
      "44/44 [==============================] - 0s 2ms/step - loss: 0.4991 - accuracy: 0.8044\n"
     ]
    }
   ],
   "source": [
    "resultados = best_model.evaluate(X_test, y_test)"
   ]
  },
  {
   "cell_type": "markdown",
   "id": "626c477c",
   "metadata": {},
   "source": [
    "### Prediccion de los datos de prueba"
   ]
  },
  {
   "cell_type": "code",
   "execution_count": 212,
   "id": "933ed9d6",
   "metadata": {},
   "outputs": [
    {
     "data": {
      "text/html": [
       "<div>\n",
       "<style scoped>\n",
       "    .dataframe tbody tr th:only-of-type {\n",
       "        vertical-align: middle;\n",
       "    }\n",
       "\n",
       "    .dataframe tbody tr th {\n",
       "        vertical-align: top;\n",
       "    }\n",
       "\n",
       "    .dataframe thead th {\n",
       "        text-align: right;\n",
       "    }\n",
       "</style>\n",
       "<table border=\"1\" class=\"dataframe\">\n",
       "  <thead>\n",
       "    <tr style=\"text-align: right;\">\n",
       "      <th></th>\n",
       "      <th>id</th>\n",
       "      <th>N_Days</th>\n",
       "      <th>Drug</th>\n",
       "      <th>Age</th>\n",
       "      <th>Sex</th>\n",
       "      <th>Ascites</th>\n",
       "      <th>Hepatomegaly</th>\n",
       "      <th>Spiders</th>\n",
       "      <th>Edema</th>\n",
       "      <th>Bilirubin</th>\n",
       "      <th>Cholesterol</th>\n",
       "      <th>Albumin</th>\n",
       "      <th>Copper</th>\n",
       "      <th>Alk_Phos</th>\n",
       "      <th>SGOT</th>\n",
       "      <th>Tryglicerides</th>\n",
       "      <th>Platelets</th>\n",
       "      <th>Prothrombin</th>\n",
       "      <th>Stage</th>\n",
       "    </tr>\n",
       "  </thead>\n",
       "  <tbody>\n",
       "    <tr>\n",
       "      <th>0</th>\n",
       "      <td>7905</td>\n",
       "      <td>3839</td>\n",
       "      <td>D-penicillamine</td>\n",
       "      <td>19724</td>\n",
       "      <td>F</td>\n",
       "      <td>N</td>\n",
       "      <td>Y</td>\n",
       "      <td>N</td>\n",
       "      <td>N</td>\n",
       "      <td>1.2</td>\n",
       "      <td>546.0</td>\n",
       "      <td>3.37</td>\n",
       "      <td>65.0</td>\n",
       "      <td>1636.0</td>\n",
       "      <td>151.90</td>\n",
       "      <td>90.0</td>\n",
       "      <td>430.0</td>\n",
       "      <td>10.6</td>\n",
       "      <td>2.0</td>\n",
       "    </tr>\n",
       "    <tr>\n",
       "      <th>1</th>\n",
       "      <td>7906</td>\n",
       "      <td>2468</td>\n",
       "      <td>D-penicillamine</td>\n",
       "      <td>14975</td>\n",
       "      <td>F</td>\n",
       "      <td>N</td>\n",
       "      <td>N</td>\n",
       "      <td>N</td>\n",
       "      <td>N</td>\n",
       "      <td>1.1</td>\n",
       "      <td>660.0</td>\n",
       "      <td>4.22</td>\n",
       "      <td>94.0</td>\n",
       "      <td>1257.0</td>\n",
       "      <td>151.90</td>\n",
       "      <td>155.0</td>\n",
       "      <td>227.0</td>\n",
       "      <td>10.0</td>\n",
       "      <td>2.0</td>\n",
       "    </tr>\n",
       "    <tr>\n",
       "      <th>2</th>\n",
       "      <td>7907</td>\n",
       "      <td>51</td>\n",
       "      <td>Placebo</td>\n",
       "      <td>13149</td>\n",
       "      <td>F</td>\n",
       "      <td>N</td>\n",
       "      <td>Y</td>\n",
       "      <td>N</td>\n",
       "      <td>Y</td>\n",
       "      <td>2.0</td>\n",
       "      <td>151.0</td>\n",
       "      <td>2.96</td>\n",
       "      <td>46.0</td>\n",
       "      <td>961.0</td>\n",
       "      <td>69.75</td>\n",
       "      <td>101.0</td>\n",
       "      <td>213.0</td>\n",
       "      <td>13.0</td>\n",
       "      <td>4.0</td>\n",
       "    </tr>\n",
       "    <tr>\n",
       "      <th>3</th>\n",
       "      <td>7908</td>\n",
       "      <td>2330</td>\n",
       "      <td>D-penicillamine</td>\n",
       "      <td>20510</td>\n",
       "      <td>F</td>\n",
       "      <td>N</td>\n",
       "      <td>N</td>\n",
       "      <td>N</td>\n",
       "      <td>N</td>\n",
       "      <td>0.6</td>\n",
       "      <td>293.0</td>\n",
       "      <td>3.85</td>\n",
       "      <td>40.0</td>\n",
       "      <td>554.0</td>\n",
       "      <td>125.55</td>\n",
       "      <td>56.0</td>\n",
       "      <td>270.0</td>\n",
       "      <td>10.6</td>\n",
       "      <td>2.0</td>\n",
       "    </tr>\n",
       "    <tr>\n",
       "      <th>4</th>\n",
       "      <td>7909</td>\n",
       "      <td>1615</td>\n",
       "      <td>D-penicillamine</td>\n",
       "      <td>21904</td>\n",
       "      <td>F</td>\n",
       "      <td>N</td>\n",
       "      <td>Y</td>\n",
       "      <td>N</td>\n",
       "      <td>N</td>\n",
       "      <td>1.4</td>\n",
       "      <td>277.0</td>\n",
       "      <td>2.97</td>\n",
       "      <td>121.0</td>\n",
       "      <td>1110.0</td>\n",
       "      <td>125.00</td>\n",
       "      <td>126.0</td>\n",
       "      <td>221.0</td>\n",
       "      <td>9.8</td>\n",
       "      <td>1.0</td>\n",
       "    </tr>\n",
       "    <tr>\n",
       "      <th>...</th>\n",
       "      <td>...</td>\n",
       "      <td>...</td>\n",
       "      <td>...</td>\n",
       "      <td>...</td>\n",
       "      <td>...</td>\n",
       "      <td>...</td>\n",
       "      <td>...</td>\n",
       "      <td>...</td>\n",
       "      <td>...</td>\n",
       "      <td>...</td>\n",
       "      <td>...</td>\n",
       "      <td>...</td>\n",
       "      <td>...</td>\n",
       "      <td>...</td>\n",
       "      <td>...</td>\n",
       "      <td>...</td>\n",
       "      <td>...</td>\n",
       "      <td>...</td>\n",
       "      <td>...</td>\n",
       "    </tr>\n",
       "    <tr>\n",
       "      <th>5266</th>\n",
       "      <td>13171</td>\n",
       "      <td>2870</td>\n",
       "      <td>Placebo</td>\n",
       "      <td>12279</td>\n",
       "      <td>F</td>\n",
       "      <td>N</td>\n",
       "      <td>N</td>\n",
       "      <td>N</td>\n",
       "      <td>N</td>\n",
       "      <td>1.3</td>\n",
       "      <td>302.0</td>\n",
       "      <td>3.43</td>\n",
       "      <td>75.0</td>\n",
       "      <td>1345.0</td>\n",
       "      <td>145.00</td>\n",
       "      <td>44.0</td>\n",
       "      <td>181.0</td>\n",
       "      <td>10.6</td>\n",
       "      <td>3.0</td>\n",
       "    </tr>\n",
       "    <tr>\n",
       "      <th>5267</th>\n",
       "      <td>13172</td>\n",
       "      <td>1770</td>\n",
       "      <td>Placebo</td>\n",
       "      <td>24803</td>\n",
       "      <td>F</td>\n",
       "      <td>N</td>\n",
       "      <td>N</td>\n",
       "      <td>N</td>\n",
       "      <td>N</td>\n",
       "      <td>0.5</td>\n",
       "      <td>219.0</td>\n",
       "      <td>4.09</td>\n",
       "      <td>121.0</td>\n",
       "      <td>663.0</td>\n",
       "      <td>79.05</td>\n",
       "      <td>94.0</td>\n",
       "      <td>311.0</td>\n",
       "      <td>9.7</td>\n",
       "      <td>3.0</td>\n",
       "    </tr>\n",
       "    <tr>\n",
       "      <th>5268</th>\n",
       "      <td>13173</td>\n",
       "      <td>3707</td>\n",
       "      <td>D-penicillamine</td>\n",
       "      <td>16990</td>\n",
       "      <td>F</td>\n",
       "      <td>N</td>\n",
       "      <td>Y</td>\n",
       "      <td>N</td>\n",
       "      <td>N</td>\n",
       "      <td>0.8</td>\n",
       "      <td>315.0</td>\n",
       "      <td>4.09</td>\n",
       "      <td>13.0</td>\n",
       "      <td>1637.0</td>\n",
       "      <td>170.50</td>\n",
       "      <td>70.0</td>\n",
       "      <td>426.0</td>\n",
       "      <td>10.9</td>\n",
       "      <td>3.0</td>\n",
       "    </tr>\n",
       "    <tr>\n",
       "      <th>5269</th>\n",
       "      <td>13174</td>\n",
       "      <td>1216</td>\n",
       "      <td>Placebo</td>\n",
       "      <td>11773</td>\n",
       "      <td>F</td>\n",
       "      <td>N</td>\n",
       "      <td>N</td>\n",
       "      <td>N</td>\n",
       "      <td>N</td>\n",
       "      <td>0.7</td>\n",
       "      <td>329.0</td>\n",
       "      <td>3.80</td>\n",
       "      <td>52.0</td>\n",
       "      <td>678.0</td>\n",
       "      <td>57.00</td>\n",
       "      <td>126.0</td>\n",
       "      <td>306.0</td>\n",
       "      <td>10.2</td>\n",
       "      <td>1.0</td>\n",
       "    </tr>\n",
       "    <tr>\n",
       "      <th>5270</th>\n",
       "      <td>13175</td>\n",
       "      <td>2272</td>\n",
       "      <td>D-penicillamine</td>\n",
       "      <td>21600</td>\n",
       "      <td>F</td>\n",
       "      <td>N</td>\n",
       "      <td>N</td>\n",
       "      <td>N</td>\n",
       "      <td>N</td>\n",
       "      <td>2.0</td>\n",
       "      <td>232.0</td>\n",
       "      <td>3.42</td>\n",
       "      <td>18.0</td>\n",
       "      <td>1636.0</td>\n",
       "      <td>170.50</td>\n",
       "      <td>83.0</td>\n",
       "      <td>213.0</td>\n",
       "      <td>13.6</td>\n",
       "      <td>2.0</td>\n",
       "    </tr>\n",
       "  </tbody>\n",
       "</table>\n",
       "<p>5271 rows × 19 columns</p>\n",
       "</div>"
      ],
      "text/plain": [
       "         id  N_Days             Drug    Age Sex Ascites Hepatomegaly Spiders  \\\n",
       "0      7905    3839  D-penicillamine  19724   F       N            Y       N   \n",
       "1      7906    2468  D-penicillamine  14975   F       N            N       N   \n",
       "2      7907      51          Placebo  13149   F       N            Y       N   \n",
       "3      7908    2330  D-penicillamine  20510   F       N            N       N   \n",
       "4      7909    1615  D-penicillamine  21904   F       N            Y       N   \n",
       "...     ...     ...              ...    ...  ..     ...          ...     ...   \n",
       "5266  13171    2870          Placebo  12279   F       N            N       N   \n",
       "5267  13172    1770          Placebo  24803   F       N            N       N   \n",
       "5268  13173    3707  D-penicillamine  16990   F       N            Y       N   \n",
       "5269  13174    1216          Placebo  11773   F       N            N       N   \n",
       "5270  13175    2272  D-penicillamine  21600   F       N            N       N   \n",
       "\n",
       "     Edema  Bilirubin  Cholesterol  Albumin  Copper  Alk_Phos    SGOT  \\\n",
       "0        N        1.2        546.0     3.37    65.0    1636.0  151.90   \n",
       "1        N        1.1        660.0     4.22    94.0    1257.0  151.90   \n",
       "2        Y        2.0        151.0     2.96    46.0     961.0   69.75   \n",
       "3        N        0.6        293.0     3.85    40.0     554.0  125.55   \n",
       "4        N        1.4        277.0     2.97   121.0    1110.0  125.00   \n",
       "...    ...        ...          ...      ...     ...       ...     ...   \n",
       "5266     N        1.3        302.0     3.43    75.0    1345.0  145.00   \n",
       "5267     N        0.5        219.0     4.09   121.0     663.0   79.05   \n",
       "5268     N        0.8        315.0     4.09    13.0    1637.0  170.50   \n",
       "5269     N        0.7        329.0     3.80    52.0     678.0   57.00   \n",
       "5270     N        2.0        232.0     3.42    18.0    1636.0  170.50   \n",
       "\n",
       "      Tryglicerides  Platelets  Prothrombin  Stage  \n",
       "0              90.0      430.0         10.6    2.0  \n",
       "1             155.0      227.0         10.0    2.0  \n",
       "2             101.0      213.0         13.0    4.0  \n",
       "3              56.0      270.0         10.6    2.0  \n",
       "4             126.0      221.0          9.8    1.0  \n",
       "...             ...        ...          ...    ...  \n",
       "5266           44.0      181.0         10.6    3.0  \n",
       "5267           94.0      311.0          9.7    3.0  \n",
       "5268           70.0      426.0         10.9    3.0  \n",
       "5269          126.0      306.0         10.2    1.0  \n",
       "5270           83.0      213.0         13.6    2.0  \n",
       "\n",
       "[5271 rows x 19 columns]"
      ]
     },
     "execution_count": 212,
     "metadata": {},
     "output_type": "execute_result"
    }
   ],
   "source": [
    "X_prueba = pd.read_csv('test.csv')\n",
    "X_prueba"
   ]
  },
  {
   "cell_type": "code",
   "execution_count": 214,
   "id": "c733afe5",
   "metadata": {},
   "outputs": [],
   "source": [
    "id_ = X_prueba['id']\n",
    "X_prueba = X_prueba.drop('id', axis =1)"
   ]
  },
  {
   "cell_type": "code",
   "execution_count": 215,
   "id": "0479e8b2",
   "metadata": {},
   "outputs": [],
   "source": [
    " # Transformar variables\n",
    "X_prueba = transformers_.transform(X_prueba)"
   ]
  },
  {
   "cell_type": "code",
   "execution_count": 217,
   "id": "b14d230e",
   "metadata": {},
   "outputs": [
    {
     "data": {
      "text/html": [
       "<div>\n",
       "<style scoped>\n",
       "    .dataframe tbody tr th:only-of-type {\n",
       "        vertical-align: middle;\n",
       "    }\n",
       "\n",
       "    .dataframe tbody tr th {\n",
       "        vertical-align: top;\n",
       "    }\n",
       "\n",
       "    .dataframe thead th {\n",
       "        text-align: right;\n",
       "    }\n",
       "</style>\n",
       "<table border=\"1\" class=\"dataframe\">\n",
       "  <thead>\n",
       "    <tr style=\"text-align: right;\">\n",
       "      <th></th>\n",
       "      <th>N_Days</th>\n",
       "      <th>Age</th>\n",
       "      <th>Bilirubin</th>\n",
       "      <th>Cholesterol</th>\n",
       "      <th>Albumin</th>\n",
       "      <th>Copper</th>\n",
       "      <th>Alk_Phos</th>\n",
       "      <th>SGOT</th>\n",
       "      <th>Tryglicerides</th>\n",
       "      <th>Platelets</th>\n",
       "      <th>Prothrombin</th>\n",
       "      <th>Stage</th>\n",
       "      <th>Drug_Placebo</th>\n",
       "      <th>Sex_M</th>\n",
       "      <th>Ascites_Y</th>\n",
       "      <th>Hepatomegaly_Y</th>\n",
       "      <th>Spiders_Y</th>\n",
       "      <th>Edema_S</th>\n",
       "      <th>Edema_Y</th>\n",
       "    </tr>\n",
       "  </thead>\n",
       "  <tbody>\n",
       "    <tr>\n",
       "      <th>0</th>\n",
       "      <td>0.798906</td>\n",
       "      <td>0.531493</td>\n",
       "      <td>0.548898</td>\n",
       "      <td>0.802130</td>\n",
       "      <td>0.526119</td>\n",
       "      <td>0.563208</td>\n",
       "      <td>0.690757</td>\n",
       "      <td>0.617593</td>\n",
       "      <td>0.429352</td>\n",
       "      <td>0.734531</td>\n",
       "      <td>0.533102</td>\n",
       "      <td>0.333333</td>\n",
       "      <td>0.0</td>\n",
       "      <td>0.0</td>\n",
       "      <td>0.0</td>\n",
       "      <td>1.0</td>\n",
       "      <td>0.0</td>\n",
       "      <td>0.0</td>\n",
       "      <td>0.0</td>\n",
       "    </tr>\n",
       "    <tr>\n",
       "      <th>1</th>\n",
       "      <td>0.510517</td>\n",
       "      <td>0.282228</td>\n",
       "      <td>0.524165</td>\n",
       "      <td>0.848367</td>\n",
       "      <td>0.843284</td>\n",
       "      <td>0.636867</td>\n",
       "      <td>0.622180</td>\n",
       "      <td>0.617593</td>\n",
       "      <td>0.621233</td>\n",
       "      <td>0.329341</td>\n",
       "      <td>0.379368</td>\n",
       "      <td>0.333333</td>\n",
       "      <td>0.0</td>\n",
       "      <td>0.0</td>\n",
       "      <td>0.0</td>\n",
       "      <td>0.0</td>\n",
       "      <td>0.0</td>\n",
       "      <td>0.0</td>\n",
       "      <td>0.0</td>\n",
       "    </tr>\n",
       "    <tr>\n",
       "      <th>2</th>\n",
       "      <td>0.002103</td>\n",
       "      <td>0.186385</td>\n",
       "      <td>0.674940</td>\n",
       "      <td>0.194980</td>\n",
       "      <td>0.373134</td>\n",
       "      <td>0.493991</td>\n",
       "      <td>0.541666</td>\n",
       "      <td>0.344679</td>\n",
       "      <td>0.472231</td>\n",
       "      <td>0.301397</td>\n",
       "      <td>0.869938</td>\n",
       "      <td>1.000000</td>\n",
       "      <td>1.0</td>\n",
       "      <td>0.0</td>\n",
       "      <td>0.0</td>\n",
       "      <td>1.0</td>\n",
       "      <td>0.0</td>\n",
       "      <td>0.0</td>\n",
       "      <td>1.0</td>\n",
       "    </tr>\n",
       "    <tr>\n",
       "      <th>3</th>\n",
       "      <td>0.481489</td>\n",
       "      <td>0.572748</td>\n",
       "      <td>0.319848</td>\n",
       "      <td>0.587029</td>\n",
       "      <td>0.705224</td>\n",
       "      <td>0.465961</td>\n",
       "      <td>0.335660</td>\n",
       "      <td>0.551006</td>\n",
       "      <td>0.239510</td>\n",
       "      <td>0.415170</td>\n",
       "      <td>0.533102</td>\n",
       "      <td>0.333333</td>\n",
       "      <td>0.0</td>\n",
       "      <td>0.0</td>\n",
       "      <td>0.0</td>\n",
       "      <td>0.0</td>\n",
       "      <td>0.0</td>\n",
       "      <td>0.0</td>\n",
       "      <td>0.0</td>\n",
       "    </tr>\n",
       "    <tr>\n",
       "      <th>4</th>\n",
       "      <td>0.331090</td>\n",
       "      <td>0.645916</td>\n",
       "      <td>0.590251</td>\n",
       "      <td>0.561563</td>\n",
       "      <td>0.376866</td>\n",
       "      <td>0.687168</td>\n",
       "      <td>0.586317</td>\n",
       "      <td>0.549469</td>\n",
       "      <td>0.551134</td>\n",
       "      <td>0.317365</td>\n",
       "      <td>0.317735</td>\n",
       "      <td>0.000000</td>\n",
       "      <td>0.0</td>\n",
       "      <td>0.0</td>\n",
       "      <td>0.0</td>\n",
       "      <td>1.0</td>\n",
       "      <td>0.0</td>\n",
       "      <td>0.0</td>\n",
       "      <td>0.0</td>\n",
       "    </tr>\n",
       "    <tr>\n",
       "      <th>...</th>\n",
       "      <td>...</td>\n",
       "      <td>...</td>\n",
       "      <td>...</td>\n",
       "      <td>...</td>\n",
       "      <td>...</td>\n",
       "      <td>...</td>\n",
       "      <td>...</td>\n",
       "      <td>...</td>\n",
       "      <td>...</td>\n",
       "      <td>...</td>\n",
       "      <td>...</td>\n",
       "      <td>...</td>\n",
       "      <td>...</td>\n",
       "      <td>...</td>\n",
       "      <td>...</td>\n",
       "      <td>...</td>\n",
       "      <td>...</td>\n",
       "      <td>...</td>\n",
       "      <td>...</td>\n",
       "    </tr>\n",
       "    <tr>\n",
       "      <th>5266</th>\n",
       "      <td>0.595078</td>\n",
       "      <td>0.140720</td>\n",
       "      <td>0.570754</td>\n",
       "      <td>0.600263</td>\n",
       "      <td>0.548507</td>\n",
       "      <td>0.591804</td>\n",
       "      <td>0.640718</td>\n",
       "      <td>0.601358</td>\n",
       "      <td>0.134156</td>\n",
       "      <td>0.237525</td>\n",
       "      <td>0.533102</td>\n",
       "      <td>0.666667</td>\n",
       "      <td>1.0</td>\n",
       "      <td>0.0</td>\n",
       "      <td>0.0</td>\n",
       "      <td>0.0</td>\n",
       "      <td>0.0</td>\n",
       "      <td>0.0</td>\n",
       "      <td>0.0</td>\n",
       "    </tr>\n",
       "    <tr>\n",
       "      <th>5267</th>\n",
       "      <td>0.363694</td>\n",
       "      <td>0.798079</td>\n",
       "      <td>0.245778</td>\n",
       "      <td>0.441087</td>\n",
       "      <td>0.794776</td>\n",
       "      <td>0.687168</td>\n",
       "      <td>0.409579</td>\n",
       "      <td>0.388727</td>\n",
       "      <td>0.445665</td>\n",
       "      <td>0.497006</td>\n",
       "      <td>0.284614</td>\n",
       "      <td>0.666667</td>\n",
       "      <td>1.0</td>\n",
       "      <td>0.0</td>\n",
       "      <td>0.0</td>\n",
       "      <td>0.0</td>\n",
       "      <td>0.0</td>\n",
       "      <td>0.0</td>\n",
       "      <td>0.0</td>\n",
       "    </tr>\n",
       "    <tr>\n",
       "      <th>5268</th>\n",
       "      <td>0.771140</td>\n",
       "      <td>0.387991</td>\n",
       "      <td>0.424264</td>\n",
       "      <td>0.618151</td>\n",
       "      <td>0.794776</td>\n",
       "      <td>0.239503</td>\n",
       "      <td>0.690905</td>\n",
       "      <td>0.657897</td>\n",
       "      <td>0.331565</td>\n",
       "      <td>0.726547</td>\n",
       "      <td>0.595664</td>\n",
       "      <td>0.666667</td>\n",
       "      <td>0.0</td>\n",
       "      <td>0.0</td>\n",
       "      <td>0.0</td>\n",
       "      <td>1.0</td>\n",
       "      <td>0.0</td>\n",
       "      <td>0.0</td>\n",
       "      <td>0.0</td>\n",
       "    </tr>\n",
       "    <tr>\n",
       "      <th>5269</th>\n",
       "      <td>0.247160</td>\n",
       "      <td>0.114161</td>\n",
       "      <td>0.377594</td>\n",
       "      <td>0.635960</td>\n",
       "      <td>0.686567</td>\n",
       "      <td>0.518555</td>\n",
       "      <td>0.418301</td>\n",
       "      <td>0.273509</td>\n",
       "      <td>0.551134</td>\n",
       "      <td>0.487026</td>\n",
       "      <td>0.435419</td>\n",
       "      <td>0.000000</td>\n",
       "      <td>1.0</td>\n",
       "      <td>0.0</td>\n",
       "      <td>0.0</td>\n",
       "      <td>0.0</td>\n",
       "      <td>0.0</td>\n",
       "      <td>0.0</td>\n",
       "      <td>0.0</td>\n",
       "    </tr>\n",
       "    <tr>\n",
       "      <th>5270</th>\n",
       "      <td>0.469289</td>\n",
       "      <td>0.629960</td>\n",
       "      <td>0.674940</td>\n",
       "      <td>0.472877</td>\n",
       "      <td>0.544776</td>\n",
       "      <td>0.305264</td>\n",
       "      <td>0.690757</td>\n",
       "      <td>0.657897</td>\n",
       "      <td>0.398506</td>\n",
       "      <td>0.301397</td>\n",
       "      <td>0.915567</td>\n",
       "      <td>0.333333</td>\n",
       "      <td>0.0</td>\n",
       "      <td>0.0</td>\n",
       "      <td>0.0</td>\n",
       "      <td>0.0</td>\n",
       "      <td>0.0</td>\n",
       "      <td>0.0</td>\n",
       "      <td>0.0</td>\n",
       "    </tr>\n",
       "  </tbody>\n",
       "</table>\n",
       "<p>5271 rows × 19 columns</p>\n",
       "</div>"
      ],
      "text/plain": [
       "        N_Days       Age  Bilirubin  Cholesterol   Albumin    Copper  \\\n",
       "0     0.798906  0.531493   0.548898     0.802130  0.526119  0.563208   \n",
       "1     0.510517  0.282228   0.524165     0.848367  0.843284  0.636867   \n",
       "2     0.002103  0.186385   0.674940     0.194980  0.373134  0.493991   \n",
       "3     0.481489  0.572748   0.319848     0.587029  0.705224  0.465961   \n",
       "4     0.331090  0.645916   0.590251     0.561563  0.376866  0.687168   \n",
       "...        ...       ...        ...          ...       ...       ...   \n",
       "5266  0.595078  0.140720   0.570754     0.600263  0.548507  0.591804   \n",
       "5267  0.363694  0.798079   0.245778     0.441087  0.794776  0.687168   \n",
       "5268  0.771140  0.387991   0.424264     0.618151  0.794776  0.239503   \n",
       "5269  0.247160  0.114161   0.377594     0.635960  0.686567  0.518555   \n",
       "5270  0.469289  0.629960   0.674940     0.472877  0.544776  0.305264   \n",
       "\n",
       "      Alk_Phos      SGOT  Tryglicerides  Platelets  Prothrombin     Stage  \\\n",
       "0     0.690757  0.617593       0.429352   0.734531     0.533102  0.333333   \n",
       "1     0.622180  0.617593       0.621233   0.329341     0.379368  0.333333   \n",
       "2     0.541666  0.344679       0.472231   0.301397     0.869938  1.000000   \n",
       "3     0.335660  0.551006       0.239510   0.415170     0.533102  0.333333   \n",
       "4     0.586317  0.549469       0.551134   0.317365     0.317735  0.000000   \n",
       "...        ...       ...            ...        ...          ...       ...   \n",
       "5266  0.640718  0.601358       0.134156   0.237525     0.533102  0.666667   \n",
       "5267  0.409579  0.388727       0.445665   0.497006     0.284614  0.666667   \n",
       "5268  0.690905  0.657897       0.331565   0.726547     0.595664  0.666667   \n",
       "5269  0.418301  0.273509       0.551134   0.487026     0.435419  0.000000   \n",
       "5270  0.690757  0.657897       0.398506   0.301397     0.915567  0.333333   \n",
       "\n",
       "      Drug_Placebo  Sex_M  Ascites_Y  Hepatomegaly_Y  Spiders_Y  Edema_S  \\\n",
       "0              0.0    0.0        0.0             1.0        0.0      0.0   \n",
       "1              0.0    0.0        0.0             0.0        0.0      0.0   \n",
       "2              1.0    0.0        0.0             1.0        0.0      0.0   \n",
       "3              0.0    0.0        0.0             0.0        0.0      0.0   \n",
       "4              0.0    0.0        0.0             1.0        0.0      0.0   \n",
       "...            ...    ...        ...             ...        ...      ...   \n",
       "5266           1.0    0.0        0.0             0.0        0.0      0.0   \n",
       "5267           1.0    0.0        0.0             0.0        0.0      0.0   \n",
       "5268           0.0    0.0        0.0             1.0        0.0      0.0   \n",
       "5269           1.0    0.0        0.0             0.0        0.0      0.0   \n",
       "5270           0.0    0.0        0.0             0.0        0.0      0.0   \n",
       "\n",
       "      Edema_Y  \n",
       "0         0.0  \n",
       "1         0.0  \n",
       "2         1.0  \n",
       "3         0.0  \n",
       "4         0.0  \n",
       "...       ...  \n",
       "5266      0.0  \n",
       "5267      0.0  \n",
       "5268      0.0  \n",
       "5269      0.0  \n",
       "5270      0.0  \n",
       "\n",
       "[5271 rows x 19 columns]"
      ]
     },
     "execution_count": 217,
     "metadata": {},
     "output_type": "execute_result"
    }
   ],
   "source": [
    "# escalar y codificar\n",
    "# Codificar variable categoricas\n",
    "categorical_X = X_prueba.select_dtypes(exclude='number')\n",
    "\n",
    "encoded_data_X = encoder.fit_transform(categorical_X)\n",
    "columns_names_X = encoder.get_feature_names_out(categorical_X.columns)\n",
    "\n",
    "# Transformar a df para concadenar a numericas\n",
    "categorical_df_X = pd.DataFrame(encoded_data_X, columns=columns_names_X)\n",
    "categorical_df_X.reset_index(drop=True, inplace=True)\n",
    "\n",
    "\n",
    "# normaalizar variables numericas\n",
    "numerical_X = X_prueba.select_dtypes(include='number')\n",
    "columns_names_nx = numerical_X.columns\n",
    "\n",
    "numerical_scaled_X = scaler.fit_transform(numerical_X)\n",
    "# Transformar a df para concadenar con categoricas\n",
    "numerical_df_X = pd.DataFrame(numerical_scaled_X, columns=columns_names_nx)\n",
    "\n",
    "# Concadenamos a nuevo df\n",
    "X_original_prueba = pd.concat([numerical_df_X, categorical_df_X], axis = 1)\n",
    "X_original_prueba"
   ]
  },
  {
   "cell_type": "code",
   "execution_count": 218,
   "id": "cfa8fa94",
   "metadata": {},
   "outputs": [
    {
     "name": "stdout",
     "output_type": "stream",
     "text": [
      "165/165 [==============================] - 0s 2ms/step\n"
     ]
    },
    {
     "data": {
      "text/plain": [
       "array([[0.63558614, 0.02675152, 0.3376624 ],\n",
       "       [0.85714453, 0.05501156, 0.08784393],\n",
       "       [0.04442025, 0.01662005, 0.9389596 ],\n",
       "       ...,\n",
       "       [0.8381913 , 0.0293327 , 0.13247609],\n",
       "       [0.9458395 , 0.02307931, 0.03108117],\n",
       "       [0.5303938 , 0.00811372, 0.46149254]], dtype=float32)"
      ]
     },
     "execution_count": 218,
     "metadata": {},
     "output_type": "execute_result"
    }
   ],
   "source": [
    "prueba_prediction = best_model.predict(X_original_prueba)\n",
    "prueba_prediction"
   ]
  },
  {
   "cell_type": "code",
   "execution_count": 219,
   "id": "9bd2a67c",
   "metadata": {},
   "outputs": [],
   "source": [
    "# Guardar en listas cada etiqueta con la probabilidad\n",
    "Status_C = []\n",
    "Status_CL = []\n",
    "Status_D = []\n",
    "for i in range(len(prueba_prediction)):\n",
    "    Status_C.append(prueba_prediction[i, 0])\n",
    "    Status_CL.append(prueba_prediction[i, 1])\n",
    "    Status_D.append(prueba_prediction[i, 2])"
   ]
  },
  {
   "cell_type": "code",
   "execution_count": 220,
   "id": "678e018f",
   "metadata": {},
   "outputs": [],
   "source": [
    "# Creamos la submission\n",
    "submission_test = {'id': id_, 'Status_C':Status_C, 'Status_CL':Status_CL,'Status_D':Status_D}"
   ]
  },
  {
   "cell_type": "code",
   "execution_count": 221,
   "id": "b3e64a53",
   "metadata": {},
   "outputs": [
    {
     "data": {
      "text/html": [
       "<div>\n",
       "<style scoped>\n",
       "    .dataframe tbody tr th:only-of-type {\n",
       "        vertical-align: middle;\n",
       "    }\n",
       "\n",
       "    .dataframe tbody tr th {\n",
       "        vertical-align: top;\n",
       "    }\n",
       "\n",
       "    .dataframe thead th {\n",
       "        text-align: right;\n",
       "    }\n",
       "</style>\n",
       "<table border=\"1\" class=\"dataframe\">\n",
       "  <thead>\n",
       "    <tr style=\"text-align: right;\">\n",
       "      <th></th>\n",
       "      <th>id</th>\n",
       "      <th>Status_C</th>\n",
       "      <th>Status_CL</th>\n",
       "      <th>Status_D</th>\n",
       "    </tr>\n",
       "  </thead>\n",
       "  <tbody>\n",
       "    <tr>\n",
       "      <th>0</th>\n",
       "      <td>7905</td>\n",
       "      <td>0.635586</td>\n",
       "      <td>0.026752</td>\n",
       "      <td>0.337662</td>\n",
       "    </tr>\n",
       "    <tr>\n",
       "      <th>1</th>\n",
       "      <td>7906</td>\n",
       "      <td>0.857145</td>\n",
       "      <td>0.055012</td>\n",
       "      <td>0.087844</td>\n",
       "    </tr>\n",
       "    <tr>\n",
       "      <th>2</th>\n",
       "      <td>7907</td>\n",
       "      <td>0.044420</td>\n",
       "      <td>0.016620</td>\n",
       "      <td>0.938960</td>\n",
       "    </tr>\n",
       "    <tr>\n",
       "      <th>3</th>\n",
       "      <td>7908</td>\n",
       "      <td>0.914185</td>\n",
       "      <td>0.009322</td>\n",
       "      <td>0.076493</td>\n",
       "    </tr>\n",
       "    <tr>\n",
       "      <th>4</th>\n",
       "      <td>7909</td>\n",
       "      <td>0.553105</td>\n",
       "      <td>0.014216</td>\n",
       "      <td>0.432679</td>\n",
       "    </tr>\n",
       "    <tr>\n",
       "      <th>...</th>\n",
       "      <td>...</td>\n",
       "      <td>...</td>\n",
       "      <td>...</td>\n",
       "      <td>...</td>\n",
       "    </tr>\n",
       "    <tr>\n",
       "      <th>5266</th>\n",
       "      <td>13171</td>\n",
       "      <td>0.743154</td>\n",
       "      <td>0.089144</td>\n",
       "      <td>0.167702</td>\n",
       "    </tr>\n",
       "    <tr>\n",
       "      <th>5267</th>\n",
       "      <td>13172</td>\n",
       "      <td>0.934456</td>\n",
       "      <td>0.006123</td>\n",
       "      <td>0.059421</td>\n",
       "    </tr>\n",
       "    <tr>\n",
       "      <th>5268</th>\n",
       "      <td>13173</td>\n",
       "      <td>0.838191</td>\n",
       "      <td>0.029333</td>\n",
       "      <td>0.132476</td>\n",
       "    </tr>\n",
       "    <tr>\n",
       "      <th>5269</th>\n",
       "      <td>13174</td>\n",
       "      <td>0.945840</td>\n",
       "      <td>0.023079</td>\n",
       "      <td>0.031081</td>\n",
       "    </tr>\n",
       "    <tr>\n",
       "      <th>5270</th>\n",
       "      <td>13175</td>\n",
       "      <td>0.530394</td>\n",
       "      <td>0.008114</td>\n",
       "      <td>0.461493</td>\n",
       "    </tr>\n",
       "  </tbody>\n",
       "</table>\n",
       "<p>5271 rows × 4 columns</p>\n",
       "</div>"
      ],
      "text/plain": [
       "         id  Status_C  Status_CL  Status_D\n",
       "0      7905  0.635586   0.026752  0.337662\n",
       "1      7906  0.857145   0.055012  0.087844\n",
       "2      7907  0.044420   0.016620  0.938960\n",
       "3      7908  0.914185   0.009322  0.076493\n",
       "4      7909  0.553105   0.014216  0.432679\n",
       "...     ...       ...        ...       ...\n",
       "5266  13171  0.743154   0.089144  0.167702\n",
       "5267  13172  0.934456   0.006123  0.059421\n",
       "5268  13173  0.838191   0.029333  0.132476\n",
       "5269  13174  0.945840   0.023079  0.031081\n",
       "5270  13175  0.530394   0.008114  0.461493\n",
       "\n",
       "[5271 rows x 4 columns]"
      ]
     },
     "execution_count": 221,
     "metadata": {},
     "output_type": "execute_result"
    }
   ],
   "source": [
    "data = pd.DataFrame(submission_test)\n",
    "data"
   ]
  },
  {
   "cell_type": "code",
   "execution_count": 222,
   "id": "dfe195f9",
   "metadata": {},
   "outputs": [],
   "source": [
    "#Guardamos\n",
    "data.to_csv('prediction_V1.csv', index=False)"
   ]
  }
 ],
 "metadata": {
  "kernelspec": {
   "display_name": "Python 3 (ipykernel)",
   "language": "python",
   "name": "python3"
  },
  "language_info": {
   "codemirror_mode": {
    "name": "ipython",
    "version": 3
   },
   "file_extension": ".py",
   "mimetype": "text/x-python",
   "name": "python",
   "nbconvert_exporter": "python",
   "pygments_lexer": "ipython3",
   "version": "3.11.5"
  }
 },
 "nbformat": 4,
 "nbformat_minor": 5
}
