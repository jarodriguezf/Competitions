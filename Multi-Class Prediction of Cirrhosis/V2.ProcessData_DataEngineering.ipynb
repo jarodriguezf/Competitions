{
 "cells": [
  {
   "cell_type": "code",
   "execution_count": 133,
   "id": "ac1d68e1",
   "metadata": {},
   "outputs": [],
   "source": [
    "import pandas as pd\n",
    "import numpy as np\n",
    "import matplotlib.pyplot as plt\n",
    "import seaborn as sns\n",
    "from sklearn.model_selection import train_test_split\n",
    "from sklearn.preprocessing import OneHotEncoder\n",
    "from sklearn.preprocessing import MinMaxScaler\n",
    "from sklearn.base import BaseEstimator, TransformerMixin\n",
    "from sklearn.pipeline import make_pipeline\n",
    "from sklearn.compose import ColumnTransformer\n",
    "from scipy import stats\n",
    "import tensorflow as tf\n",
    "from tensorflow.keras.models import Sequential, load_model\n",
    "from tensorflow.keras.layers import Dense,BatchNormalization, Normalization\n",
    "from tensorflow.keras.callbacks import EarlyStopping, ModelCheckpoint\n",
    "from sklearn.metrics import log_loss\n",
    "from xgboost import XGBClassifier\n",
    "from sklearn.preprocessing import normalize"
   ]
  },
  {
   "cell_type": "code",
   "execution_count": 83,
   "id": "8439c531",
   "metadata": {},
   "outputs": [
    {
     "data": {
      "text/html": [
       "<div>\n",
       "<style scoped>\n",
       "    .dataframe tbody tr th:only-of-type {\n",
       "        vertical-align: middle;\n",
       "    }\n",
       "\n",
       "    .dataframe tbody tr th {\n",
       "        vertical-align: top;\n",
       "    }\n",
       "\n",
       "    .dataframe thead th {\n",
       "        text-align: right;\n",
       "    }\n",
       "</style>\n",
       "<table border=\"1\" class=\"dataframe\">\n",
       "  <thead>\n",
       "    <tr style=\"text-align: right;\">\n",
       "      <th></th>\n",
       "      <th>N_Days</th>\n",
       "      <th>Drug</th>\n",
       "      <th>Age</th>\n",
       "      <th>Sex</th>\n",
       "      <th>Ascites</th>\n",
       "      <th>Hepatomegaly</th>\n",
       "      <th>Spiders</th>\n",
       "      <th>Edema</th>\n",
       "      <th>Bilirubin</th>\n",
       "      <th>Cholesterol</th>\n",
       "      <th>Albumin</th>\n",
       "      <th>Copper</th>\n",
       "      <th>Alk_Phos</th>\n",
       "      <th>SGOT</th>\n",
       "      <th>Tryglicerides</th>\n",
       "      <th>Platelets</th>\n",
       "      <th>Prothrombin</th>\n",
       "      <th>Stage</th>\n",
       "      <th>Status</th>\n",
       "    </tr>\n",
       "    <tr>\n",
       "      <th>id</th>\n",
       "      <th></th>\n",
       "      <th></th>\n",
       "      <th></th>\n",
       "      <th></th>\n",
       "      <th></th>\n",
       "      <th></th>\n",
       "      <th></th>\n",
       "      <th></th>\n",
       "      <th></th>\n",
       "      <th></th>\n",
       "      <th></th>\n",
       "      <th></th>\n",
       "      <th></th>\n",
       "      <th></th>\n",
       "      <th></th>\n",
       "      <th></th>\n",
       "      <th></th>\n",
       "      <th></th>\n",
       "      <th></th>\n",
       "    </tr>\n",
       "  </thead>\n",
       "  <tbody>\n",
       "    <tr>\n",
       "      <th>0</th>\n",
       "      <td>999</td>\n",
       "      <td>D-penicillamine</td>\n",
       "      <td>21532</td>\n",
       "      <td>M</td>\n",
       "      <td>N</td>\n",
       "      <td>N</td>\n",
       "      <td>N</td>\n",
       "      <td>N</td>\n",
       "      <td>2.3</td>\n",
       "      <td>316.0</td>\n",
       "      <td>3.35</td>\n",
       "      <td>172.0</td>\n",
       "      <td>1601.0</td>\n",
       "      <td>179.80</td>\n",
       "      <td>63.0</td>\n",
       "      <td>394.0</td>\n",
       "      <td>9.7</td>\n",
       "      <td>3.0</td>\n",
       "      <td>D</td>\n",
       "    </tr>\n",
       "    <tr>\n",
       "      <th>1</th>\n",
       "      <td>2574</td>\n",
       "      <td>Placebo</td>\n",
       "      <td>19237</td>\n",
       "      <td>F</td>\n",
       "      <td>N</td>\n",
       "      <td>N</td>\n",
       "      <td>N</td>\n",
       "      <td>N</td>\n",
       "      <td>0.9</td>\n",
       "      <td>364.0</td>\n",
       "      <td>3.54</td>\n",
       "      <td>63.0</td>\n",
       "      <td>1440.0</td>\n",
       "      <td>134.85</td>\n",
       "      <td>88.0</td>\n",
       "      <td>361.0</td>\n",
       "      <td>11.0</td>\n",
       "      <td>3.0</td>\n",
       "      <td>C</td>\n",
       "    </tr>\n",
       "    <tr>\n",
       "      <th>2</th>\n",
       "      <td>3428</td>\n",
       "      <td>Placebo</td>\n",
       "      <td>13727</td>\n",
       "      <td>F</td>\n",
       "      <td>N</td>\n",
       "      <td>Y</td>\n",
       "      <td>Y</td>\n",
       "      <td>Y</td>\n",
       "      <td>3.3</td>\n",
       "      <td>299.0</td>\n",
       "      <td>3.55</td>\n",
       "      <td>131.0</td>\n",
       "      <td>1029.0</td>\n",
       "      <td>119.35</td>\n",
       "      <td>50.0</td>\n",
       "      <td>199.0</td>\n",
       "      <td>11.7</td>\n",
       "      <td>4.0</td>\n",
       "      <td>D</td>\n",
       "    </tr>\n",
       "    <tr>\n",
       "      <th>3</th>\n",
       "      <td>2576</td>\n",
       "      <td>Placebo</td>\n",
       "      <td>18460</td>\n",
       "      <td>F</td>\n",
       "      <td>N</td>\n",
       "      <td>N</td>\n",
       "      <td>N</td>\n",
       "      <td>N</td>\n",
       "      <td>0.6</td>\n",
       "      <td>256.0</td>\n",
       "      <td>3.50</td>\n",
       "      <td>58.0</td>\n",
       "      <td>1653.0</td>\n",
       "      <td>71.30</td>\n",
       "      <td>96.0</td>\n",
       "      <td>269.0</td>\n",
       "      <td>10.7</td>\n",
       "      <td>3.0</td>\n",
       "      <td>C</td>\n",
       "    </tr>\n",
       "    <tr>\n",
       "      <th>4</th>\n",
       "      <td>788</td>\n",
       "      <td>Placebo</td>\n",
       "      <td>16658</td>\n",
       "      <td>F</td>\n",
       "      <td>N</td>\n",
       "      <td>Y</td>\n",
       "      <td>N</td>\n",
       "      <td>N</td>\n",
       "      <td>1.1</td>\n",
       "      <td>346.0</td>\n",
       "      <td>3.65</td>\n",
       "      <td>63.0</td>\n",
       "      <td>1181.0</td>\n",
       "      <td>125.55</td>\n",
       "      <td>96.0</td>\n",
       "      <td>298.0</td>\n",
       "      <td>10.6</td>\n",
       "      <td>4.0</td>\n",
       "      <td>C</td>\n",
       "    </tr>\n",
       "    <tr>\n",
       "      <th>...</th>\n",
       "      <td>...</td>\n",
       "      <td>...</td>\n",
       "      <td>...</td>\n",
       "      <td>...</td>\n",
       "      <td>...</td>\n",
       "      <td>...</td>\n",
       "      <td>...</td>\n",
       "      <td>...</td>\n",
       "      <td>...</td>\n",
       "      <td>...</td>\n",
       "      <td>...</td>\n",
       "      <td>...</td>\n",
       "      <td>...</td>\n",
       "      <td>...</td>\n",
       "      <td>...</td>\n",
       "      <td>...</td>\n",
       "      <td>...</td>\n",
       "      <td>...</td>\n",
       "      <td>...</td>\n",
       "    </tr>\n",
       "    <tr>\n",
       "      <th>7900</th>\n",
       "      <td>1166</td>\n",
       "      <td>D-penicillamine</td>\n",
       "      <td>16839</td>\n",
       "      <td>F</td>\n",
       "      <td>N</td>\n",
       "      <td>N</td>\n",
       "      <td>N</td>\n",
       "      <td>N</td>\n",
       "      <td>0.8</td>\n",
       "      <td>309.0</td>\n",
       "      <td>3.56</td>\n",
       "      <td>38.0</td>\n",
       "      <td>1629.0</td>\n",
       "      <td>79.05</td>\n",
       "      <td>224.0</td>\n",
       "      <td>344.0</td>\n",
       "      <td>9.9</td>\n",
       "      <td>2.0</td>\n",
       "      <td>C</td>\n",
       "    </tr>\n",
       "    <tr>\n",
       "      <th>7901</th>\n",
       "      <td>1492</td>\n",
       "      <td>Placebo</td>\n",
       "      <td>17031</td>\n",
       "      <td>F</td>\n",
       "      <td>N</td>\n",
       "      <td>Y</td>\n",
       "      <td>N</td>\n",
       "      <td>N</td>\n",
       "      <td>0.9</td>\n",
       "      <td>260.0</td>\n",
       "      <td>3.43</td>\n",
       "      <td>62.0</td>\n",
       "      <td>1440.0</td>\n",
       "      <td>142.00</td>\n",
       "      <td>78.0</td>\n",
       "      <td>277.0</td>\n",
       "      <td>10.0</td>\n",
       "      <td>4.0</td>\n",
       "      <td>C</td>\n",
       "    </tr>\n",
       "    <tr>\n",
       "      <th>7902</th>\n",
       "      <td>1576</td>\n",
       "      <td>D-penicillamine</td>\n",
       "      <td>25873</td>\n",
       "      <td>F</td>\n",
       "      <td>N</td>\n",
       "      <td>N</td>\n",
       "      <td>Y</td>\n",
       "      <td>S</td>\n",
       "      <td>2.0</td>\n",
       "      <td>225.0</td>\n",
       "      <td>3.19</td>\n",
       "      <td>51.0</td>\n",
       "      <td>933.0</td>\n",
       "      <td>69.75</td>\n",
       "      <td>62.0</td>\n",
       "      <td>200.0</td>\n",
       "      <td>12.7</td>\n",
       "      <td>2.0</td>\n",
       "      <td>D</td>\n",
       "    </tr>\n",
       "    <tr>\n",
       "      <th>7903</th>\n",
       "      <td>3584</td>\n",
       "      <td>D-penicillamine</td>\n",
       "      <td>22960</td>\n",
       "      <td>M</td>\n",
       "      <td>N</td>\n",
       "      <td>Y</td>\n",
       "      <td>N</td>\n",
       "      <td>N</td>\n",
       "      <td>0.7</td>\n",
       "      <td>248.0</td>\n",
       "      <td>2.75</td>\n",
       "      <td>32.0</td>\n",
       "      <td>1003.0</td>\n",
       "      <td>57.35</td>\n",
       "      <td>118.0</td>\n",
       "      <td>221.0</td>\n",
       "      <td>10.6</td>\n",
       "      <td>4.0</td>\n",
       "      <td>D</td>\n",
       "    </tr>\n",
       "    <tr>\n",
       "      <th>7904</th>\n",
       "      <td>1978</td>\n",
       "      <td>D-penicillamine</td>\n",
       "      <td>19237</td>\n",
       "      <td>F</td>\n",
       "      <td>N</td>\n",
       "      <td>N</td>\n",
       "      <td>N</td>\n",
       "      <td>N</td>\n",
       "      <td>0.7</td>\n",
       "      <td>256.0</td>\n",
       "      <td>3.23</td>\n",
       "      <td>22.0</td>\n",
       "      <td>645.0</td>\n",
       "      <td>74.40</td>\n",
       "      <td>85.0</td>\n",
       "      <td>336.0</td>\n",
       "      <td>10.3</td>\n",
       "      <td>3.0</td>\n",
       "      <td>C</td>\n",
       "    </tr>\n",
       "  </tbody>\n",
       "</table>\n",
       "<p>7905 rows × 19 columns</p>\n",
       "</div>"
      ],
      "text/plain": [
       "      N_Days             Drug    Age Sex Ascites Hepatomegaly Spiders Edema  \\\n",
       "id                                                                            \n",
       "0        999  D-penicillamine  21532   M       N            N       N     N   \n",
       "1       2574          Placebo  19237   F       N            N       N     N   \n",
       "2       3428          Placebo  13727   F       N            Y       Y     Y   \n",
       "3       2576          Placebo  18460   F       N            N       N     N   \n",
       "4        788          Placebo  16658   F       N            Y       N     N   \n",
       "...      ...              ...    ...  ..     ...          ...     ...   ...   \n",
       "7900    1166  D-penicillamine  16839   F       N            N       N     N   \n",
       "7901    1492          Placebo  17031   F       N            Y       N     N   \n",
       "7902    1576  D-penicillamine  25873   F       N            N       Y     S   \n",
       "7903    3584  D-penicillamine  22960   M       N            Y       N     N   \n",
       "7904    1978  D-penicillamine  19237   F       N            N       N     N   \n",
       "\n",
       "      Bilirubin  Cholesterol  Albumin  Copper  Alk_Phos    SGOT  \\\n",
       "id                                                                \n",
       "0           2.3        316.0     3.35   172.0    1601.0  179.80   \n",
       "1           0.9        364.0     3.54    63.0    1440.0  134.85   \n",
       "2           3.3        299.0     3.55   131.0    1029.0  119.35   \n",
       "3           0.6        256.0     3.50    58.0    1653.0   71.30   \n",
       "4           1.1        346.0     3.65    63.0    1181.0  125.55   \n",
       "...         ...          ...      ...     ...       ...     ...   \n",
       "7900        0.8        309.0     3.56    38.0    1629.0   79.05   \n",
       "7901        0.9        260.0     3.43    62.0    1440.0  142.00   \n",
       "7902        2.0        225.0     3.19    51.0     933.0   69.75   \n",
       "7903        0.7        248.0     2.75    32.0    1003.0   57.35   \n",
       "7904        0.7        256.0     3.23    22.0     645.0   74.40   \n",
       "\n",
       "      Tryglicerides  Platelets  Prothrombin  Stage Status  \n",
       "id                                                         \n",
       "0              63.0      394.0          9.7    3.0      D  \n",
       "1              88.0      361.0         11.0    3.0      C  \n",
       "2              50.0      199.0         11.7    4.0      D  \n",
       "3              96.0      269.0         10.7    3.0      C  \n",
       "4              96.0      298.0         10.6    4.0      C  \n",
       "...             ...        ...          ...    ...    ...  \n",
       "7900          224.0      344.0          9.9    2.0      C  \n",
       "7901           78.0      277.0         10.0    4.0      C  \n",
       "7902           62.0      200.0         12.7    2.0      D  \n",
       "7903          118.0      221.0         10.6    4.0      D  \n",
       "7904           85.0      336.0         10.3    3.0      C  \n",
       "\n",
       "[7905 rows x 19 columns]"
      ]
     },
     "execution_count": 83,
     "metadata": {},
     "output_type": "execute_result"
    }
   ],
   "source": [
    "df = pd.read_csv('train.csv', index_col='id')\n",
    "df"
   ]
  },
  {
   "cell_type": "code",
   "execution_count": 100,
   "id": "29fa0485",
   "metadata": {},
   "outputs": [],
   "source": [
    "# Separamos en variables dependientes y independientes\n",
    "X = df.drop('Status', axis=1)\n",
    "y = df['Status']"
   ]
  },
  {
   "cell_type": "markdown",
   "id": "7c5dacff",
   "metadata": {},
   "source": [
    "### Algunas ingenieria de variables"
   ]
  },
  {
   "cell_type": "code",
   "execution_count": 24,
   "id": "37a0730b",
   "metadata": {},
   "outputs": [],
   "source": [
    "class Age_Format (BaseEstimator, TransformerMixin):\n",
    "    def fit(self, X, y=None):       \n",
    "        return self\n",
    "    \n",
    "    # Iteramos por el nombre de columna de Age, calculando el valor real edad desde los dias de nacimiento de cada paciente.\n",
    "    def transform(self,X):\n",
    "        X_copy = X.copy()\n",
    "        \n",
    "        new_age = []\n",
    "        for i in X_copy['Age']:\n",
    "            days = i\n",
    "            age = days/365\n",
    "            new_age.append(round(age))\n",
    "        \n",
    "        X_copy = X_copy.drop('Age', axis = 1)\n",
    "        X_copy['Age'] = new_age\n",
    "        \n",
    "        return X_copy"
   ]
  },
  {
   "cell_type": "code",
   "execution_count": 85,
   "id": "a3aab74a",
   "metadata": {},
   "outputs": [],
   "source": [
    "Age_ = Age_Format()\n",
    "X = Age_.transform(X)"
   ]
  },
  {
   "cell_type": "code",
   "execution_count": 66,
   "id": "0fbf1b7a",
   "metadata": {},
   "outputs": [],
   "source": [
    "class Sgot_Range (BaseEstimator, TransformerMixin):\n",
    "    def fit(self, X, y=None):       \n",
    "        return self\n",
    "    \n",
    "    # Iteramos por el nombre de columna de Sgot, calculando en base a analisis, los pacientes con mayor o menor\n",
    "    # rango. Si supera el nivel 100, se marcara como 1, en caso contrario 0\n",
    "    def transform(self,X):\n",
    "        X_copy = X.copy()\n",
    "        \n",
    "        Sgot_survival = []\n",
    "        for i in X_copy['SGOT']:\n",
    "            if i > 100:\n",
    "                Sgot_survival.append(1)\n",
    "            else: Sgot_survival.append(0)\n",
    "        \n",
    "        X_copy['Sgot_survival'] = Sgot_survival\n",
    "        \n",
    "        return X_copy"
   ]
  },
  {
   "cell_type": "code",
   "execution_count": 86,
   "id": "46699dd2",
   "metadata": {},
   "outputs": [],
   "source": [
    "Sgot_ =  Sgot_Range()\n",
    "X = Sgot_.transform(X)"
   ]
  },
  {
   "cell_type": "code",
   "execution_count": 49,
   "id": "34351de2",
   "metadata": {},
   "outputs": [],
   "source": [
    "class Bilirubin_Range (BaseEstimator, TransformerMixin):\n",
    "    def fit(self, X, y=None):       \n",
    "        return self\n",
    "    \n",
    "    # Iteramos por el nombre de columna de Bilirubin, calculando en base a analisis, los pacientes con mayor o menor\n",
    "    # rango. Si supera el nivel 3, se marcara como 1, en caso contrario 0\n",
    "    def transform(self,X):\n",
    "        X_copy = X.copy()\n",
    "        \n",
    "        Bilirubin_survival = []\n",
    "        for i in X_copy['Bilirubin']:\n",
    "            if i > 1.5:\n",
    "                Bilirubin_survival.append(1)\n",
    "            else: Bilirubin_survival.append(0)\n",
    "        \n",
    "        X_copy['Bilirubin_survival'] = Bilirubin_survival\n",
    "        \n",
    "        return X_copy"
   ]
  },
  {
   "cell_type": "code",
   "execution_count": 87,
   "id": "4366d5f3",
   "metadata": {},
   "outputs": [],
   "source": [
    "Bilirubin_ = Bilirubin_Range()\n",
    "X = Bilirubin_.transform(X)"
   ]
  },
  {
   "cell_type": "code",
   "execution_count": 41,
   "id": "7b9e2555",
   "metadata": {},
   "outputs": [],
   "source": [
    "class Copper_Range (BaseEstimator, TransformerMixin):\n",
    "    def fit(self, X, y=None):       \n",
    "        return self\n",
    "    \n",
    "    # Iteramos por el nombre de columna de Copper, calculando en base a analisis, los pacientes con mayor o menor\n",
    "    # rango. Si supera el nivel 60, se marcara como 1, en caso contrario 0\n",
    "    def transform(self,X):\n",
    "        X_copy = X.copy()\n",
    "        \n",
    "        Copper_survival = []\n",
    "        for i in X_copy['Copper']:\n",
    "            if i >= 60:\n",
    "                Copper_survival.append(1)\n",
    "            else: Copper_survival.append(0)\n",
    "        \n",
    "        X_copy['Copper_survival'] = Copper_survival\n",
    "        \n",
    "        return X_copy"
   ]
  },
  {
   "cell_type": "code",
   "execution_count": 88,
   "id": "33a73c57",
   "metadata": {},
   "outputs": [],
   "source": [
    "Copper_ = Copper_Range()\n",
    "X = Copper_.transform(X)"
   ]
  },
  {
   "cell_type": "markdown",
   "id": "3878d6ae",
   "metadata": {},
   "source": [
    "### Transformacion distribucion de variables "
   ]
  },
  {
   "cell_type": "code",
   "execution_count": 82,
   "id": "f6f67fc6",
   "metadata": {},
   "outputs": [],
   "source": [
    "class Tranformation_Distribution (BaseEstimator, TransformerMixin):\n",
    "    def fit(self, X, y=None):       \n",
    "        return self\n",
    "    \n",
    "    # Iteramos por el nombre de columna de X_copy, devolviendo el valor devuelto por boxcox (no el valor lambda).\n",
    "    def transform(self,X):\n",
    "        X_copy = X.copy()    \n",
    "        column_names = ['Bilirubin','Cholesterol','Copper','Alk_Phos','SGOT','Tryglicerides','Prothrombin']\n",
    "        \n",
    "        for i in column_names:\n",
    "            transformed_col,_ = stats.boxcox(X_copy[i])\n",
    "            X_copy[i] = transformed_col\n",
    "        \n",
    "        X_copy = X_copy.drop('N_Days', axis = 1)\n",
    "        return X_copy"
   ]
  },
  {
   "cell_type": "code",
   "execution_count": 89,
   "id": "95ac2405",
   "metadata": {},
   "outputs": [],
   "source": [
    "transformers_ = Tranformation_Distribution()\n",
    "X = transformers_.transform(X)"
   ]
  },
  {
   "cell_type": "code",
   "execution_count": 90,
   "id": "5aa7e889",
   "metadata": {},
   "outputs": [
    {
     "name": "stdout",
     "output_type": "stream",
     "text": [
      "<class 'pandas.core.frame.DataFrame'>\n",
      "Index: 7905 entries, 0 to 7904\n",
      "Data columns (total 20 columns):\n",
      " #   Column              Non-Null Count  Dtype  \n",
      "---  ------              --------------  -----  \n",
      " 0   Drug                7905 non-null   object \n",
      " 1   Sex                 7905 non-null   object \n",
      " 2   Ascites             7905 non-null   object \n",
      " 3   Hepatomegaly        7905 non-null   object \n",
      " 4   Spiders             7905 non-null   object \n",
      " 5   Edema               7905 non-null   object \n",
      " 6   Bilirubin           7905 non-null   float64\n",
      " 7   Cholesterol         7905 non-null   float64\n",
      " 8   Albumin             7905 non-null   float64\n",
      " 9   Copper              7905 non-null   float64\n",
      " 10  Alk_Phos            7905 non-null   float64\n",
      " 11  SGOT                7905 non-null   float64\n",
      " 12  Tryglicerides       7905 non-null   float64\n",
      " 13  Platelets           7905 non-null   float64\n",
      " 14  Prothrombin         7905 non-null   float64\n",
      " 15  Stage               7905 non-null   float64\n",
      " 16  Age                 7905 non-null   int64  \n",
      " 17  Sgot_survival       7905 non-null   int64  \n",
      " 18  Bilirubin_survival  7905 non-null   int64  \n",
      " 19  Copper_survival     7905 non-null   int64  \n",
      "dtypes: float64(10), int64(4), object(6)\n",
      "memory usage: 1.3+ MB\n"
     ]
    }
   ],
   "source": [
    "X.info()"
   ]
  },
  {
   "cell_type": "markdown",
   "id": "7210c65d",
   "metadata": {},
   "source": [
    "### Pipeline de procesado de datos"
   ]
  },
  {
   "cell_type": "code",
   "execution_count": 101,
   "id": "2b19ba9f",
   "metadata": {},
   "outputs": [
    {
     "data": {
      "text/plain": [
       "array([[0.70391991, 0.61188349, 0.51865672, ..., 1.        , 1.        ,\n",
       "        1.        ],\n",
       "       [0.46256772, 0.66758531, 0.58955224, ..., 1.        , 0.        ,\n",
       "        1.        ],\n",
       "       [0.77138408, 0.58831218, 0.59328358, ..., 1.        , 1.        ,\n",
       "        1.        ],\n",
       "       ...,\n",
       "       [0.67449227, 0.44900595, 0.45895522, ..., 0.        , 1.        ,\n",
       "        0.        ],\n",
       "       [0.37719491, 0.50032879, 0.29477612, ..., 0.        , 0.        ,\n",
       "        0.        ],\n",
       "       [0.37719491, 0.51621679, 0.4738806 , ..., 0.        , 0.        ,\n",
       "        0.        ]])"
      ]
     },
     "execution_count": 101,
     "metadata": {},
     "output_type": "execute_result"
    }
   ],
   "source": [
    "numerical_columns = ['Bilirubin','Cholesterol','Albumin','Copper','Alk_Phos',\n",
    "                     'SGOT','Tryglicerides','Platelets','Prothrombin','Stage', 'Age']\n",
    "categorical_columns = X.select_dtypes(exclude='number')\n",
    "\n",
    "# Automatizado de clases con funciones de ingenieria de variables.\n",
    "class_pipeline = make_pipeline(Age_, Sgot_, Bilirubin_, Copper_, transformers_)\n",
    "\n",
    "# automatizado de transformacion categoricas y numericas (Normalizado y OneHot)\n",
    "categorical_pipeline = make_pipeline(OneHotEncoder(handle_unknown='ignore',sparse_output=False, drop='first'))\n",
    "numerical_pipeline = make_pipeline(MinMaxScaler())\n",
    "\n",
    "preprocessing = ColumnTransformer([\n",
    "    ('num', numerical_pipeline, numerical_columns),\n",
    "    ('cat', categorical_pipeline, categorical_columns.columns),\n",
    "], remainder='passthrough')\n",
    "\n",
    "# Unimos en un pipeline global\n",
    "pipeline_full = make_pipeline(class_pipeline, preprocessing)\n",
    "\n",
    "X_processed = pipeline_full.fit_transform(X)\n",
    "X_processed"
   ]
  },
  {
   "cell_type": "code",
   "execution_count": 102,
   "id": "7d28b263",
   "metadata": {},
   "outputs": [
    {
     "data": {
      "text/html": [
       "<div>\n",
       "<style scoped>\n",
       "    .dataframe tbody tr th:only-of-type {\n",
       "        vertical-align: middle;\n",
       "    }\n",
       "\n",
       "    .dataframe tbody tr th {\n",
       "        vertical-align: top;\n",
       "    }\n",
       "\n",
       "    .dataframe thead th {\n",
       "        text-align: right;\n",
       "    }\n",
       "</style>\n",
       "<table border=\"1\" class=\"dataframe\">\n",
       "  <thead>\n",
       "    <tr style=\"text-align: right;\">\n",
       "      <th></th>\n",
       "      <th>num__Bilirubin</th>\n",
       "      <th>num__Cholesterol</th>\n",
       "      <th>num__Albumin</th>\n",
       "      <th>num__Copper</th>\n",
       "      <th>num__Alk_Phos</th>\n",
       "      <th>num__SGOT</th>\n",
       "      <th>num__Tryglicerides</th>\n",
       "      <th>num__Platelets</th>\n",
       "      <th>num__Prothrombin</th>\n",
       "      <th>num__Stage</th>\n",
       "      <th>...</th>\n",
       "      <th>cat__Drug_Placebo</th>\n",
       "      <th>cat__Sex_M</th>\n",
       "      <th>cat__Ascites_Y</th>\n",
       "      <th>cat__Hepatomegaly_Y</th>\n",
       "      <th>cat__Spiders_Y</th>\n",
       "      <th>cat__Edema_S</th>\n",
       "      <th>cat__Edema_Y</th>\n",
       "      <th>remainder__Sgot_survival</th>\n",
       "      <th>remainder__Bilirubin_survival</th>\n",
       "      <th>remainder__Copper_survival</th>\n",
       "    </tr>\n",
       "  </thead>\n",
       "  <tbody>\n",
       "    <tr>\n",
       "      <th>0</th>\n",
       "      <td>0.703920</td>\n",
       "      <td>0.611883</td>\n",
       "      <td>0.518657</td>\n",
       "      <td>0.751284</td>\n",
       "      <td>0.668167</td>\n",
       "      <td>0.675003</td>\n",
       "      <td>0.297584</td>\n",
       "      <td>0.662675</td>\n",
       "      <td>0.270725</td>\n",
       "      <td>0.666667</td>\n",
       "      <td>...</td>\n",
       "      <td>0.0</td>\n",
       "      <td>1.0</td>\n",
       "      <td>0.0</td>\n",
       "      <td>0.0</td>\n",
       "      <td>0.0</td>\n",
       "      <td>0.0</td>\n",
       "      <td>0.0</td>\n",
       "      <td>1.0</td>\n",
       "      <td>1.0</td>\n",
       "      <td>1.0</td>\n",
       "    </tr>\n",
       "    <tr>\n",
       "      <th>1</th>\n",
       "      <td>0.462568</td>\n",
       "      <td>0.667585</td>\n",
       "      <td>0.589552</td>\n",
       "      <td>0.549236</td>\n",
       "      <td>0.641062</td>\n",
       "      <td>0.574429</td>\n",
       "      <td>0.431628</td>\n",
       "      <td>0.596806</td>\n",
       "      <td>0.580596</td>\n",
       "      <td>0.666667</td>\n",
       "      <td>...</td>\n",
       "      <td>1.0</td>\n",
       "      <td>0.0</td>\n",
       "      <td>0.0</td>\n",
       "      <td>0.0</td>\n",
       "      <td>0.0</td>\n",
       "      <td>0.0</td>\n",
       "      <td>0.0</td>\n",
       "      <td>1.0</td>\n",
       "      <td>0.0</td>\n",
       "      <td>1.0</td>\n",
       "    </tr>\n",
       "    <tr>\n",
       "      <th>2</th>\n",
       "      <td>0.771384</td>\n",
       "      <td>0.588312</td>\n",
       "      <td>0.593284</td>\n",
       "      <td>0.696402</td>\n",
       "      <td>0.545185</td>\n",
       "      <td>0.531684</td>\n",
       "      <td>0.197319</td>\n",
       "      <td>0.273453</td>\n",
       "      <td>0.685430</td>\n",
       "      <td>1.000000</td>\n",
       "      <td>...</td>\n",
       "      <td>1.0</td>\n",
       "      <td>0.0</td>\n",
       "      <td>0.0</td>\n",
       "      <td>1.0</td>\n",
       "      <td>1.0</td>\n",
       "      <td>0.0</td>\n",
       "      <td>1.0</td>\n",
       "      <td>1.0</td>\n",
       "      <td>1.0</td>\n",
       "      <td>1.0</td>\n",
       "    </tr>\n",
       "    <tr>\n",
       "      <th>3</th>\n",
       "      <td>0.319490</td>\n",
       "      <td>0.516217</td>\n",
       "      <td>0.574627</td>\n",
       "      <td>0.532648</td>\n",
       "      <td>0.676068</td>\n",
       "      <td>0.350958</td>\n",
       "      <td>0.464528</td>\n",
       "      <td>0.413174</td>\n",
       "      <td>0.524815</td>\n",
       "      <td>0.666667</td>\n",
       "      <td>...</td>\n",
       "      <td>1.0</td>\n",
       "      <td>0.0</td>\n",
       "      <td>0.0</td>\n",
       "      <td>0.0</td>\n",
       "      <td>0.0</td>\n",
       "      <td>0.0</td>\n",
       "      <td>0.0</td>\n",
       "      <td>0.0</td>\n",
       "      <td>0.0</td>\n",
       "      <td>0.0</td>\n",
       "    </tr>\n",
       "    <tr>\n",
       "      <th>4</th>\n",
       "      <td>0.523705</td>\n",
       "      <td>0.648336</td>\n",
       "      <td>0.630597</td>\n",
       "      <td>0.549236</td>\n",
       "      <td>0.586411</td>\n",
       "      <td>0.549417</td>\n",
       "      <td>0.464528</td>\n",
       "      <td>0.471058</td>\n",
       "      <td>0.504469</td>\n",
       "      <td>1.000000</td>\n",
       "      <td>...</td>\n",
       "      <td>1.0</td>\n",
       "      <td>0.0</td>\n",
       "      <td>0.0</td>\n",
       "      <td>1.0</td>\n",
       "      <td>0.0</td>\n",
       "      <td>0.0</td>\n",
       "      <td>0.0</td>\n",
       "      <td>1.0</td>\n",
       "      <td>0.0</td>\n",
       "      <td>1.0</td>\n",
       "    </tr>\n",
       "    <tr>\n",
       "      <th>...</th>\n",
       "      <td>...</td>\n",
       "      <td>...</td>\n",
       "      <td>...</td>\n",
       "      <td>...</td>\n",
       "      <td>...</td>\n",
       "      <td>...</td>\n",
       "      <td>...</td>\n",
       "      <td>...</td>\n",
       "      <td>...</td>\n",
       "      <td>...</td>\n",
       "      <td>...</td>\n",
       "      <td>...</td>\n",
       "      <td>...</td>\n",
       "      <td>...</td>\n",
       "      <td>...</td>\n",
       "      <td>...</td>\n",
       "      <td>...</td>\n",
       "      <td>...</td>\n",
       "      <td>...</td>\n",
       "      <td>...</td>\n",
       "      <td>...</td>\n",
       "    </tr>\n",
       "    <tr>\n",
       "      <th>7900</th>\n",
       "      <td>0.423839</td>\n",
       "      <td>0.602462</td>\n",
       "      <td>0.597015</td>\n",
       "      <td>0.447931</td>\n",
       "      <td>0.672468</td>\n",
       "      <td>0.387205</td>\n",
       "      <td>0.746485</td>\n",
       "      <td>0.562874</td>\n",
       "      <td>0.331830</td>\n",
       "      <td>0.333333</td>\n",
       "      <td>...</td>\n",
       "      <td>0.0</td>\n",
       "      <td>0.0</td>\n",
       "      <td>0.0</td>\n",
       "      <td>0.0</td>\n",
       "      <td>0.0</td>\n",
       "      <td>0.0</td>\n",
       "      <td>0.0</td>\n",
       "      <td>0.0</td>\n",
       "      <td>0.0</td>\n",
       "      <td>0.0</td>\n",
       "    </tr>\n",
       "    <tr>\n",
       "      <th>7901</th>\n",
       "      <td>0.462568</td>\n",
       "      <td>0.523829</td>\n",
       "      <td>0.548507</td>\n",
       "      <td>0.546026</td>\n",
       "      <td>0.641062</td>\n",
       "      <td>0.592505</td>\n",
       "      <td>0.384677</td>\n",
       "      <td>0.429142</td>\n",
       "      <td>0.360187</td>\n",
       "      <td>1.000000</td>\n",
       "      <td>...</td>\n",
       "      <td>1.0</td>\n",
       "      <td>0.0</td>\n",
       "      <td>0.0</td>\n",
       "      <td>1.0</td>\n",
       "      <td>0.0</td>\n",
       "      <td>0.0</td>\n",
       "      <td>0.0</td>\n",
       "      <td>1.0</td>\n",
       "      <td>0.0</td>\n",
       "      <td>1.0</td>\n",
       "    </tr>\n",
       "    <tr>\n",
       "      <th>7902</th>\n",
       "      <td>0.674492</td>\n",
       "      <td>0.449006</td>\n",
       "      <td>0.458955</td>\n",
       "      <td>0.506860</td>\n",
       "      <td>0.514139</td>\n",
       "      <td>0.343234</td>\n",
       "      <td>0.290848</td>\n",
       "      <td>0.275449</td>\n",
       "      <td>0.791054</td>\n",
       "      <td>0.333333</td>\n",
       "      <td>...</td>\n",
       "      <td>0.0</td>\n",
       "      <td>0.0</td>\n",
       "      <td>0.0</td>\n",
       "      <td>0.0</td>\n",
       "      <td>1.0</td>\n",
       "      <td>1.0</td>\n",
       "      <td>0.0</td>\n",
       "      <td>0.0</td>\n",
       "      <td>1.0</td>\n",
       "      <td>0.0</td>\n",
       "    </tr>\n",
       "    <tr>\n",
       "      <th>7903</th>\n",
       "      <td>0.377195</td>\n",
       "      <td>0.500329</td>\n",
       "      <td>0.294776</td>\n",
       "      <td>0.413554</td>\n",
       "      <td>0.537216</td>\n",
       "      <td>0.274392</td>\n",
       "      <td>0.539435</td>\n",
       "      <td>0.317365</td>\n",
       "      <td>0.504469</td>\n",
       "      <td>1.000000</td>\n",
       "      <td>...</td>\n",
       "      <td>0.0</td>\n",
       "      <td>1.0</td>\n",
       "      <td>0.0</td>\n",
       "      <td>1.0</td>\n",
       "      <td>0.0</td>\n",
       "      <td>0.0</td>\n",
       "      <td>0.0</td>\n",
       "      <td>0.0</td>\n",
       "      <td>0.0</td>\n",
       "      <td>0.0</td>\n",
       "    </tr>\n",
       "    <tr>\n",
       "      <th>7904</th>\n",
       "      <td>0.377195</td>\n",
       "      <td>0.516217</td>\n",
       "      <td>0.473881</td>\n",
       "      <td>0.338708</td>\n",
       "      <td>0.382756</td>\n",
       "      <td>0.365912</td>\n",
       "      <td>0.418289</td>\n",
       "      <td>0.546906</td>\n",
       "      <td>0.437452</td>\n",
       "      <td>0.666667</td>\n",
       "      <td>...</td>\n",
       "      <td>0.0</td>\n",
       "      <td>0.0</td>\n",
       "      <td>0.0</td>\n",
       "      <td>0.0</td>\n",
       "      <td>0.0</td>\n",
       "      <td>0.0</td>\n",
       "      <td>0.0</td>\n",
       "      <td>0.0</td>\n",
       "      <td>0.0</td>\n",
       "      <td>0.0</td>\n",
       "    </tr>\n",
       "  </tbody>\n",
       "</table>\n",
       "<p>7905 rows × 21 columns</p>\n",
       "</div>"
      ],
      "text/plain": [
       "      num__Bilirubin  num__Cholesterol  num__Albumin  num__Copper  \\\n",
       "0           0.703920          0.611883      0.518657     0.751284   \n",
       "1           0.462568          0.667585      0.589552     0.549236   \n",
       "2           0.771384          0.588312      0.593284     0.696402   \n",
       "3           0.319490          0.516217      0.574627     0.532648   \n",
       "4           0.523705          0.648336      0.630597     0.549236   \n",
       "...              ...               ...           ...          ...   \n",
       "7900        0.423839          0.602462      0.597015     0.447931   \n",
       "7901        0.462568          0.523829      0.548507     0.546026   \n",
       "7902        0.674492          0.449006      0.458955     0.506860   \n",
       "7903        0.377195          0.500329      0.294776     0.413554   \n",
       "7904        0.377195          0.516217      0.473881     0.338708   \n",
       "\n",
       "      num__Alk_Phos  num__SGOT  num__Tryglicerides  num__Platelets  \\\n",
       "0          0.668167   0.675003            0.297584        0.662675   \n",
       "1          0.641062   0.574429            0.431628        0.596806   \n",
       "2          0.545185   0.531684            0.197319        0.273453   \n",
       "3          0.676068   0.350958            0.464528        0.413174   \n",
       "4          0.586411   0.549417            0.464528        0.471058   \n",
       "...             ...        ...                 ...             ...   \n",
       "7900       0.672468   0.387205            0.746485        0.562874   \n",
       "7901       0.641062   0.592505            0.384677        0.429142   \n",
       "7902       0.514139   0.343234            0.290848        0.275449   \n",
       "7903       0.537216   0.274392            0.539435        0.317365   \n",
       "7904       0.382756   0.365912            0.418289        0.546906   \n",
       "\n",
       "      num__Prothrombin  num__Stage  ...  cat__Drug_Placebo  cat__Sex_M  \\\n",
       "0             0.270725    0.666667  ...                0.0         1.0   \n",
       "1             0.580596    0.666667  ...                1.0         0.0   \n",
       "2             0.685430    1.000000  ...                1.0         0.0   \n",
       "3             0.524815    0.666667  ...                1.0         0.0   \n",
       "4             0.504469    1.000000  ...                1.0         0.0   \n",
       "...                ...         ...  ...                ...         ...   \n",
       "7900          0.331830    0.333333  ...                0.0         0.0   \n",
       "7901          0.360187    1.000000  ...                1.0         0.0   \n",
       "7902          0.791054    0.333333  ...                0.0         0.0   \n",
       "7903          0.504469    1.000000  ...                0.0         1.0   \n",
       "7904          0.437452    0.666667  ...                0.0         0.0   \n",
       "\n",
       "      cat__Ascites_Y  cat__Hepatomegaly_Y  cat__Spiders_Y  cat__Edema_S  \\\n",
       "0                0.0                  0.0             0.0           0.0   \n",
       "1                0.0                  0.0             0.0           0.0   \n",
       "2                0.0                  1.0             1.0           0.0   \n",
       "3                0.0                  0.0             0.0           0.0   \n",
       "4                0.0                  1.0             0.0           0.0   \n",
       "...              ...                  ...             ...           ...   \n",
       "7900             0.0                  0.0             0.0           0.0   \n",
       "7901             0.0                  1.0             0.0           0.0   \n",
       "7902             0.0                  0.0             1.0           1.0   \n",
       "7903             0.0                  1.0             0.0           0.0   \n",
       "7904             0.0                  0.0             0.0           0.0   \n",
       "\n",
       "      cat__Edema_Y  remainder__Sgot_survival  remainder__Bilirubin_survival  \\\n",
       "0              0.0                       1.0                            1.0   \n",
       "1              0.0                       1.0                            0.0   \n",
       "2              1.0                       1.0                            1.0   \n",
       "3              0.0                       0.0                            0.0   \n",
       "4              0.0                       1.0                            0.0   \n",
       "...            ...                       ...                            ...   \n",
       "7900           0.0                       0.0                            0.0   \n",
       "7901           0.0                       1.0                            0.0   \n",
       "7902           0.0                       0.0                            1.0   \n",
       "7903           0.0                       0.0                            0.0   \n",
       "7904           0.0                       0.0                            0.0   \n",
       "\n",
       "      remainder__Copper_survival  \n",
       "0                            1.0  \n",
       "1                            1.0  \n",
       "2                            1.0  \n",
       "3                            0.0  \n",
       "4                            1.0  \n",
       "...                          ...  \n",
       "7900                         0.0  \n",
       "7901                         1.0  \n",
       "7902                         0.0  \n",
       "7903                         0.0  \n",
       "7904                         0.0  \n",
       "\n",
       "[7905 rows x 21 columns]"
      ]
     },
     "execution_count": 102,
     "metadata": {},
     "output_type": "execute_result"
    }
   ],
   "source": [
    "# Extraemos nombre de columnas del ultimo paso de la pipeline\n",
    "columns = preprocessing.get_feature_names_out()\n",
    "# Creamos df de X_processed\n",
    "X_original = pd.DataFrame(X_processed, columns = columns)\n",
    "X_original"
   ]
  },
  {
   "cell_type": "code",
   "execution_count": 103,
   "id": "707c8661",
   "metadata": {},
   "outputs": [],
   "source": [
    "# codificamos y\n",
    "scaler_y = OneHotEncoder(handle_unknown='ignore', sparse_output=False)\n",
    "encoded_y = scaler_y.fit_transform(y.values.reshape(-1, 1))"
   ]
  },
  {
   "cell_type": "code",
   "execution_count": 104,
   "id": "08ea9e2e",
   "metadata": {},
   "outputs": [
    {
     "data": {
      "text/plain": [
       "array([[0., 0., 1.],\n",
       "       [1., 0., 0.],\n",
       "       [0., 0., 1.],\n",
       "       ...,\n",
       "       [0., 0., 1.],\n",
       "       [0., 0., 1.],\n",
       "       [1., 0., 0.]])"
      ]
     },
     "execution_count": 104,
     "metadata": {},
     "output_type": "execute_result"
    }
   ],
   "source": [
    "encoded_y"
   ]
  },
  {
   "cell_type": "code",
   "execution_count": null,
   "id": "81cfa41f",
   "metadata": {},
   "outputs": [],
   "source": [
    "# validacion y entrenamiento\n",
    "X_train,X_test,y_train,y_test = train_test_split(X_original, encoded_y, test_size=0.2, random_state=0, stratify=y, shuffle=True)"
   ]
  },
  {
   "cell_type": "markdown",
   "id": "63b5f678",
   "metadata": {},
   "source": [
    "### Prediccion con redes"
   ]
  },
  {
   "cell_type": "code",
   "execution_count": 158,
   "id": "5e7ecaed",
   "metadata": {},
   "outputs": [
    {
     "name": "stdout",
     "output_type": "stream",
     "text": [
      "Model: \"sequential_1\"\n",
      "_________________________________________________________________\n",
      " Layer (type)                Output Shape              Param #   \n",
      "=================================================================\n",
      " dense_4 (Dense)             (None, 25)                550       \n",
      "                                                                 \n",
      " batch_normalization_3 (Bat  (None, 25)                100       \n",
      " chNormalization)                                                \n",
      "                                                                 \n",
      " dropout_2 (Dropout)         (None, 25)                0         \n",
      "                                                                 \n",
      " dense_5 (Dense)             (None, 25)                650       \n",
      "                                                                 \n",
      " batch_normalization_4 (Bat  (None, 25)                100       \n",
      " chNormalization)                                                \n",
      "                                                                 \n",
      " dense_6 (Dense)             (None, 25)                650       \n",
      "                                                                 \n",
      " batch_normalization_5 (Bat  (None, 25)                100       \n",
      " chNormalization)                                                \n",
      "                                                                 \n",
      " dropout_3 (Dropout)         (None, 25)                0         \n",
      "                                                                 \n",
      " dense_7 (Dense)             (None, 3)                 78        \n",
      "                                                                 \n",
      "=================================================================\n",
      "Total params: 2228 (8.70 KB)\n",
      "Trainable params: 2078 (8.12 KB)\n",
      "Non-trainable params: 150 (600.00 Byte)\n",
      "_________________________________________________________________\n"
     ]
    }
   ],
   "source": [
    "# Arquitectura de red\n",
    "tf.random.set_seed(42)\n",
    "\n",
    "modelo = tf.keras.Sequential([\n",
    "    tf.keras.layers.Dense(25, activation='relu', input_dim=21),\n",
    "    BatchNormalization(),\n",
    "    tf.keras.layers.Dropout(rate=0.5),\n",
    "    tf.keras.layers.Dense(25, activation='relu'),\n",
    "    BatchNormalization(),\n",
    "    tf.keras.layers.Dense(25, activation='relu'),\n",
    "    BatchNormalization(),\n",
    "    tf.keras.layers.Dropout(rate=0.5),\n",
    "    tf.keras.layers.Dense(3, activation='softmax'),\n",
    "])\n",
    "\n",
    "optimizador = tf.keras.optimizers.Adam(learning_rate=0.0005)\n",
    "modelo.compile(optimizer=optimizador, loss='categorical_crossentropy', metrics=['accuracy'])\n",
    "\n",
    "modelo.summary()"
   ]
  },
  {
   "cell_type": "code",
   "execution_count": 159,
   "id": "255881ba",
   "metadata": {
    "scrolled": true
   },
   "outputs": [
    {
     "name": "stdout",
     "output_type": "stream",
     "text": [
      "Epoch 1/400\n",
      "WARNING:tensorflow:From C:\\Users\\jarod\\anaconda3\\Lib\\site-packages\\keras\\src\\utils\\tf_utils.py:492: The name tf.ragged.RaggedTensorValue is deprecated. Please use tf.compat.v1.ragged.RaggedTensorValue instead.\n",
      "\n",
      "WARNING:tensorflow:From C:\\Users\\jarod\\anaconda3\\Lib\\site-packages\\keras\\src\\engine\\base_layer_utils.py:384: The name tf.executing_eagerly_outside_functions is deprecated. Please use tf.compat.v1.executing_eagerly_outside_functions instead.\n",
      "\n",
      "175/181 [============================>.] - ETA: 0s - loss: 1.3770 - accuracy: 0.4424INFO:tensorflow:Assets written to: ./checkpoints\\checkpoint\\assets\n"
     ]
    },
    {
     "name": "stderr",
     "output_type": "stream",
     "text": [
      "INFO:tensorflow:Assets written to: ./checkpoints\\checkpoint\\assets\n"
     ]
    },
    {
     "name": "stdout",
     "output_type": "stream",
     "text": [
      "181/181 [==============================] - 4s 13ms/step - loss: 1.3624 - accuracy: 0.4477 - val_loss: 0.9463 - val_accuracy: 0.5712\n",
      "Epoch 2/400\n",
      "171/181 [===========================>..] - ETA: 0s - loss: 1.0063 - accuracy: 0.5830INFO:tensorflow:Assets written to: ./checkpoints\\checkpoint\\assets\n"
     ]
    },
    {
     "name": "stderr",
     "output_type": "stream",
     "text": [
      "INFO:tensorflow:Assets written to: ./checkpoints\\checkpoint\\assets\n"
     ]
    },
    {
     "name": "stdout",
     "output_type": "stream",
     "text": [
      "181/181 [==============================] - 2s 12ms/step - loss: 1.0043 - accuracy: 0.5841 - val_loss: 0.7044 - val_accuracy: 0.7710\n",
      "Epoch 3/400\n",
      "161/181 [=========================>....] - ETA: 0s - loss: 0.8318 - accuracy: 0.6605INFO:tensorflow:Assets written to: ./checkpoints\\checkpoint\\assets\n"
     ]
    },
    {
     "name": "stderr",
     "output_type": "stream",
     "text": [
      "INFO:tensorflow:Assets written to: ./checkpoints\\checkpoint\\assets\n"
     ]
    },
    {
     "name": "stdout",
     "output_type": "stream",
     "text": [
      "181/181 [==============================] - 2s 11ms/step - loss: 0.8248 - accuracy: 0.6662 - val_loss: 0.6148 - val_accuracy: 0.7812\n",
      "Epoch 4/400\n",
      "163/181 [==========================>...] - ETA: 0s - loss: 0.7715 - accuracy: 0.7029INFO:tensorflow:Assets written to: ./checkpoints\\checkpoint\\assets\n"
     ]
    },
    {
     "name": "stderr",
     "output_type": "stream",
     "text": [
      "INFO:tensorflow:Assets written to: ./checkpoints\\checkpoint\\assets\n"
     ]
    },
    {
     "name": "stdout",
     "output_type": "stream",
     "text": [
      "181/181 [==============================] - 2s 11ms/step - loss: 0.7638 - accuracy: 0.7064 - val_loss: 0.5759 - val_accuracy: 0.7862\n",
      "Epoch 5/400\n",
      "169/181 [===========================>..] - ETA: 0s - loss: 0.7176 - accuracy: 0.7276INFO:tensorflow:Assets written to: ./checkpoints\\checkpoint\\assets\n"
     ]
    },
    {
     "name": "stderr",
     "output_type": "stream",
     "text": [
      "INFO:tensorflow:Assets written to: ./checkpoints\\checkpoint\\assets\n"
     ]
    },
    {
     "name": "stdout",
     "output_type": "stream",
     "text": [
      "181/181 [==============================] - 2s 11ms/step - loss: 0.7162 - accuracy: 0.7282 - val_loss: 0.5495 - val_accuracy: 0.7938\n",
      "Epoch 6/400\n",
      "179/181 [============================>.] - ETA: 0s - loss: 0.6756 - accuracy: 0.7405INFO:tensorflow:Assets written to: ./checkpoints\\checkpoint\\assets\n"
     ]
    },
    {
     "name": "stderr",
     "output_type": "stream",
     "text": [
      "INFO:tensorflow:Assets written to: ./checkpoints\\checkpoint\\assets\n"
     ]
    },
    {
     "name": "stdout",
     "output_type": "stream",
     "text": [
      "181/181 [==============================] - 2s 11ms/step - loss: 0.6750 - accuracy: 0.7407 - val_loss: 0.5363 - val_accuracy: 0.7995\n",
      "Epoch 7/400\n",
      "178/181 [============================>.] - ETA: 0s - loss: 0.6560 - accuracy: 0.7568INFO:tensorflow:Assets written to: ./checkpoints\\checkpoint\\assets\n"
     ]
    },
    {
     "name": "stderr",
     "output_type": "stream",
     "text": [
      "INFO:tensorflow:Assets written to: ./checkpoints\\checkpoint\\assets\n"
     ]
    },
    {
     "name": "stdout",
     "output_type": "stream",
     "text": [
      "181/181 [==============================] - 2s 11ms/step - loss: 0.6558 - accuracy: 0.7562 - val_loss: 0.5289 - val_accuracy: 0.8008\n",
      "Epoch 8/400\n",
      "172/181 [===========================>..] - ETA: 0s - loss: 0.6420 - accuracy: 0.7518INFO:tensorflow:Assets written to: ./checkpoints\\checkpoint\\assets\n"
     ]
    },
    {
     "name": "stderr",
     "output_type": "stream",
     "text": [
      "INFO:tensorflow:Assets written to: ./checkpoints\\checkpoint\\assets\n"
     ]
    },
    {
     "name": "stdout",
     "output_type": "stream",
     "text": [
      "181/181 [==============================] - 2s 11ms/step - loss: 0.6376 - accuracy: 0.7536 - val_loss: 0.5233 - val_accuracy: 0.8008\n",
      "Epoch 9/400\n",
      "174/181 [===========================>..] - ETA: 0s - loss: 0.6302 - accuracy: 0.7573INFO:tensorflow:Assets written to: ./checkpoints\\checkpoint\\assets\n"
     ]
    },
    {
     "name": "stderr",
     "output_type": "stream",
     "text": [
      "INFO:tensorflow:Assets written to: ./checkpoints\\checkpoint\\assets\n"
     ]
    },
    {
     "name": "stdout",
     "output_type": "stream",
     "text": [
      "181/181 [==============================] - 2s 11ms/step - loss: 0.6277 - accuracy: 0.7593 - val_loss: 0.5214 - val_accuracy: 0.8033\n",
      "Epoch 10/400\n",
      "172/181 [===========================>..] - ETA: 0s - loss: 0.6033 - accuracy: 0.7718INFO:tensorflow:Assets written to: ./checkpoints\\checkpoint\\assets\n"
     ]
    },
    {
     "name": "stderr",
     "output_type": "stream",
     "text": [
      "INFO:tensorflow:Assets written to: ./checkpoints\\checkpoint\\assets\n"
     ]
    },
    {
     "name": "stdout",
     "output_type": "stream",
     "text": [
      "181/181 [==============================] - 2s 13ms/step - loss: 0.6073 - accuracy: 0.7687 - val_loss: 0.5156 - val_accuracy: 0.8065\n",
      "Epoch 11/400\n",
      "171/181 [===========================>..] - ETA: 0s - loss: 0.6061 - accuracy: 0.7686INFO:tensorflow:Assets written to: ./checkpoints\\checkpoint\\assets\n"
     ]
    },
    {
     "name": "stderr",
     "output_type": "stream",
     "text": [
      "INFO:tensorflow:Assets written to: ./checkpoints\\checkpoint\\assets\n"
     ]
    },
    {
     "name": "stdout",
     "output_type": "stream",
     "text": [
      "181/181 [==============================] - 2s 11ms/step - loss: 0.6059 - accuracy: 0.7693 - val_loss: 0.5149 - val_accuracy: 0.8058\n",
      "Epoch 12/400\n",
      "168/181 [==========================>...] - ETA: 0s - loss: 0.6003 - accuracy: 0.7702INFO:tensorflow:Assets written to: ./checkpoints\\checkpoint\\assets\n"
     ]
    },
    {
     "name": "stderr",
     "output_type": "stream",
     "text": [
      "INFO:tensorflow:Assets written to: ./checkpoints\\checkpoint\\assets\n"
     ]
    },
    {
     "name": "stdout",
     "output_type": "stream",
     "text": [
      "181/181 [==============================] - 2s 11ms/step - loss: 0.5983 - accuracy: 0.7707 - val_loss: 0.5131 - val_accuracy: 0.8102\n",
      "Epoch 13/400\n",
      "174/181 [===========================>..] - ETA: 0s - loss: 0.6002 - accuracy: 0.7747INFO:tensorflow:Assets written to: ./checkpoints\\checkpoint\\assets\n"
     ]
    },
    {
     "name": "stderr",
     "output_type": "stream",
     "text": [
      "INFO:tensorflow:Assets written to: ./checkpoints\\checkpoint\\assets\n"
     ]
    },
    {
     "name": "stdout",
     "output_type": "stream",
     "text": [
      "181/181 [==============================] - 2s 11ms/step - loss: 0.5967 - accuracy: 0.7751 - val_loss: 0.5107 - val_accuracy: 0.8134\n",
      "Epoch 14/400\n",
      "168/181 [==========================>...] - ETA: 0s - loss: 0.5906 - accuracy: 0.7680INFO:tensorflow:Assets written to: ./checkpoints\\checkpoint\\assets\n"
     ]
    },
    {
     "name": "stderr",
     "output_type": "stream",
     "text": [
      "INFO:tensorflow:Assets written to: ./checkpoints\\checkpoint\\assets\n"
     ]
    },
    {
     "name": "stdout",
     "output_type": "stream",
     "text": [
      "181/181 [==============================] - 2s 11ms/step - loss: 0.5888 - accuracy: 0.7694 - val_loss: 0.5093 - val_accuracy: 0.8140\n",
      "Epoch 15/400\n",
      "164/181 [==========================>...] - ETA: 0s - loss: 0.5788 - accuracy: 0.7784INFO:tensorflow:Assets written to: ./checkpoints\\checkpoint\\assets\n"
     ]
    },
    {
     "name": "stderr",
     "output_type": "stream",
     "text": [
      "INFO:tensorflow:Assets written to: ./checkpoints\\checkpoint\\assets\n"
     ]
    },
    {
     "name": "stdout",
     "output_type": "stream",
     "text": [
      "181/181 [==============================] - 2s 11ms/step - loss: 0.5835 - accuracy: 0.7766 - val_loss: 0.5077 - val_accuracy: 0.8153\n",
      "Epoch 16/400\n",
      "181/181 [==============================] - 1s 3ms/step - loss: 0.5933 - accuracy: 0.7725 - val_loss: 0.5086 - val_accuracy: 0.8147\n",
      "Epoch 17/400\n",
      "166/181 [==========================>...] - ETA: 0s - loss: 0.5793 - accuracy: 0.7764INFO:tensorflow:Assets written to: ./checkpoints\\checkpoint\\assets\n"
     ]
    },
    {
     "name": "stderr",
     "output_type": "stream",
     "text": [
      "INFO:tensorflow:Assets written to: ./checkpoints\\checkpoint\\assets\n"
     ]
    },
    {
     "name": "stdout",
     "output_type": "stream",
     "text": [
      "181/181 [==============================] - 2s 11ms/step - loss: 0.5764 - accuracy: 0.7785 - val_loss: 0.5054 - val_accuracy: 0.8153\n",
      "Epoch 18/400\n",
      "168/181 [==========================>...] - ETA: 0s - loss: 0.5811 - accuracy: 0.7844INFO:tensorflow:Assets written to: ./checkpoints\\checkpoint\\assets\n"
     ]
    },
    {
     "name": "stderr",
     "output_type": "stream",
     "text": [
      "INFO:tensorflow:Assets written to: ./checkpoints\\checkpoint\\assets\n"
     ]
    },
    {
     "name": "stdout",
     "output_type": "stream",
     "text": [
      "181/181 [==============================] - 2s 13ms/step - loss: 0.5800 - accuracy: 0.7857 - val_loss: 0.5049 - val_accuracy: 0.8140\n",
      "Epoch 19/400\n",
      "178/181 [============================>.] - ETA: 0s - loss: 0.5801 - accuracy: 0.7777INFO:tensorflow:Assets written to: ./checkpoints\\checkpoint\\assets\n"
     ]
    },
    {
     "name": "stderr",
     "output_type": "stream",
     "text": [
      "INFO:tensorflow:Assets written to: ./checkpoints\\checkpoint\\assets\n"
     ]
    },
    {
     "name": "stdout",
     "output_type": "stream",
     "text": [
      "181/181 [==============================] - 2s 10ms/step - loss: 0.5794 - accuracy: 0.7780 - val_loss: 0.5042 - val_accuracy: 0.8121\n",
      "Epoch 20/400\n",
      "181/181 [==============================] - 1s 3ms/step - loss: 0.5724 - accuracy: 0.7805 - val_loss: 0.5052 - val_accuracy: 0.8128\n",
      "Epoch 21/400\n",
      "176/181 [============================>.] - ETA: 0s - loss: 0.5666 - accuracy: 0.7805INFO:tensorflow:Assets written to: ./checkpoints\\checkpoint\\assets\n"
     ]
    },
    {
     "name": "stderr",
     "output_type": "stream",
     "text": [
      "INFO:tensorflow:Assets written to: ./checkpoints\\checkpoint\\assets\n"
     ]
    },
    {
     "name": "stdout",
     "output_type": "stream",
     "text": [
      "181/181 [==============================] - 2s 11ms/step - loss: 0.5682 - accuracy: 0.7794 - val_loss: 0.5034 - val_accuracy: 0.8128\n",
      "Epoch 22/400\n",
      "180/181 [============================>.] - ETA: 0s - loss: 0.5710 - accuracy: 0.7817INFO:tensorflow:Assets written to: ./checkpoints\\checkpoint\\assets\n"
     ]
    },
    {
     "name": "stderr",
     "output_type": "stream",
     "text": [
      "INFO:tensorflow:Assets written to: ./checkpoints\\checkpoint\\assets\n"
     ]
    },
    {
     "name": "stdout",
     "output_type": "stream",
     "text": [
      "181/181 [==============================] - 2s 10ms/step - loss: 0.5709 - accuracy: 0.7818 - val_loss: 0.5020 - val_accuracy: 0.8153\n",
      "Epoch 23/400\n",
      "181/181 [==============================] - 1s 3ms/step - loss: 0.5708 - accuracy: 0.7826 - val_loss: 0.5035 - val_accuracy: 0.8115\n",
      "Epoch 24/400\n",
      "178/181 [============================>.] - ETA: 0s - loss: 0.5602 - accuracy: 0.7830INFO:tensorflow:Assets written to: ./checkpoints\\checkpoint\\assets\n"
     ]
    },
    {
     "name": "stderr",
     "output_type": "stream",
     "text": [
      "INFO:tensorflow:Assets written to: ./checkpoints\\checkpoint\\assets\n"
     ]
    },
    {
     "name": "stdout",
     "output_type": "stream",
     "text": [
      "181/181 [==============================] - 2s 11ms/step - loss: 0.5624 - accuracy: 0.7826 - val_loss: 0.5018 - val_accuracy: 0.8140\n",
      "Epoch 25/400\n",
      "170/181 [===========================>..] - ETA: 0s - loss: 0.5676 - accuracy: 0.7871INFO:tensorflow:Assets written to: ./checkpoints\\checkpoint\\assets\n"
     ]
    },
    {
     "name": "stderr",
     "output_type": "stream",
     "text": [
      "INFO:tensorflow:Assets written to: ./checkpoints\\checkpoint\\assets\n"
     ]
    },
    {
     "name": "stdout",
     "output_type": "stream",
     "text": [
      "181/181 [==============================] - 2s 11ms/step - loss: 0.5651 - accuracy: 0.7875 - val_loss: 0.5010 - val_accuracy: 0.8159\n",
      "Epoch 26/400\n",
      "166/181 [==========================>...] - ETA: 0s - loss: 0.5617 - accuracy: 0.7878INFO:tensorflow:Assets written to: ./checkpoints\\checkpoint\\assets\n"
     ]
    },
    {
     "name": "stderr",
     "output_type": "stream",
     "text": [
      "INFO:tensorflow:Assets written to: ./checkpoints\\checkpoint\\assets\n"
     ]
    },
    {
     "name": "stdout",
     "output_type": "stream",
     "text": [
      "181/181 [==============================] - 2s 11ms/step - loss: 0.5667 - accuracy: 0.7854 - val_loss: 0.4988 - val_accuracy: 0.8178\n",
      "Epoch 27/400\n",
      "180/181 [============================>.] - ETA: 0s - loss: 0.5629 - accuracy: 0.7851INFO:tensorflow:Assets written to: ./checkpoints\\checkpoint\\assets\n"
     ]
    },
    {
     "name": "stderr",
     "output_type": "stream",
     "text": [
      "INFO:tensorflow:Assets written to: ./checkpoints\\checkpoint\\assets\n"
     ]
    },
    {
     "name": "stdout",
     "output_type": "stream",
     "text": [
      "181/181 [==============================] - 2s 11ms/step - loss: 0.5632 - accuracy: 0.7849 - val_loss: 0.4975 - val_accuracy: 0.8166\n",
      "Epoch 28/400\n",
      "181/181 [==============================] - 1s 3ms/step - loss: 0.5617 - accuracy: 0.7914 - val_loss: 0.4999 - val_accuracy: 0.8185\n",
      "Epoch 29/400\n",
      "181/181 [==============================] - 1s 3ms/step - loss: 0.5657 - accuracy: 0.7925 - val_loss: 0.4983 - val_accuracy: 0.8178\n",
      "Epoch 30/400\n",
      "181/181 [==============================] - 1s 3ms/step - loss: 0.5645 - accuracy: 0.7887 - val_loss: 0.4985 - val_accuracy: 0.8197\n",
      "Epoch 31/400\n",
      "181/181 [==============================] - 1s 3ms/step - loss: 0.5559 - accuracy: 0.7883 - val_loss: 0.4982 - val_accuracy: 0.8197\n",
      "Epoch 32/400\n",
      "176/181 [============================>.] - ETA: 0s - loss: 0.5597 - accuracy: 0.7893INFO:tensorflow:Assets written to: ./checkpoints\\checkpoint\\assets\n"
     ]
    },
    {
     "name": "stderr",
     "output_type": "stream",
     "text": [
      "INFO:tensorflow:Assets written to: ./checkpoints\\checkpoint\\assets\n"
     ]
    },
    {
     "name": "stdout",
     "output_type": "stream",
     "text": [
      "181/181 [==============================] - 2s 13ms/step - loss: 0.5583 - accuracy: 0.7900 - val_loss: 0.4968 - val_accuracy: 0.8204\n",
      "Epoch 33/400\n",
      "181/181 [==============================] - 1s 3ms/step - loss: 0.5543 - accuracy: 0.7906 - val_loss: 0.4971 - val_accuracy: 0.8210\n",
      "Epoch 34/400\n",
      "181/181 [==============================] - ETA: 0s - loss: 0.5549 - accuracy: 0.7894INFO:tensorflow:Assets written to: ./checkpoints\\checkpoint\\assets\n"
     ]
    },
    {
     "name": "stderr",
     "output_type": "stream",
     "text": [
      "INFO:tensorflow:Assets written to: ./checkpoints\\checkpoint\\assets\n"
     ]
    },
    {
     "name": "stdout",
     "output_type": "stream",
     "text": [
      "181/181 [==============================] - 2s 10ms/step - loss: 0.5549 - accuracy: 0.7894 - val_loss: 0.4965 - val_accuracy: 0.8197\n",
      "Epoch 35/400\n",
      "181/181 [==============================] - 1s 3ms/step - loss: 0.5525 - accuracy: 0.7895 - val_loss: 0.4979 - val_accuracy: 0.8197\n",
      "Epoch 36/400\n",
      "174/181 [===========================>..] - ETA: 0s - loss: 0.5447 - accuracy: 0.7910INFO:tensorflow:Assets written to: ./checkpoints\\checkpoint\\assets\n"
     ]
    },
    {
     "name": "stderr",
     "output_type": "stream",
     "text": [
      "INFO:tensorflow:Assets written to: ./checkpoints\\checkpoint\\assets\n"
     ]
    },
    {
     "name": "stdout",
     "output_type": "stream",
     "text": [
      "181/181 [==============================] - 2s 11ms/step - loss: 0.5499 - accuracy: 0.7897 - val_loss: 0.4952 - val_accuracy: 0.8178\n",
      "Epoch 37/400\n",
      "166/181 [==========================>...] - ETA: 0s - loss: 0.5545 - accuracy: 0.7916INFO:tensorflow:Assets written to: ./checkpoints\\checkpoint\\assets\n"
     ]
    },
    {
     "name": "stderr",
     "output_type": "stream",
     "text": [
      "INFO:tensorflow:Assets written to: ./checkpoints\\checkpoint\\assets\n"
     ]
    },
    {
     "name": "stdout",
     "output_type": "stream",
     "text": [
      "181/181 [==============================] - 2s 11ms/step - loss: 0.5561 - accuracy: 0.7922 - val_loss: 0.4932 - val_accuracy: 0.8197\n",
      "Epoch 38/400\n",
      "170/181 [===========================>..] - ETA: 0s - loss: 0.5519 - accuracy: 0.7891INFO:tensorflow:Assets written to: ./checkpoints\\checkpoint\\assets\n"
     ]
    },
    {
     "name": "stderr",
     "output_type": "stream",
     "text": [
      "INFO:tensorflow:Assets written to: ./checkpoints\\checkpoint\\assets\n"
     ]
    },
    {
     "name": "stdout",
     "output_type": "stream",
     "text": [
      "181/181 [==============================] - 2s 11ms/step - loss: 0.5502 - accuracy: 0.7886 - val_loss: 0.4932 - val_accuracy: 0.8197\n",
      "Epoch 39/400\n",
      "165/181 [==========================>...] - ETA: 0s - loss: 0.5545 - accuracy: 0.7919INFO:tensorflow:Assets written to: ./checkpoints\\checkpoint\\assets\n"
     ]
    },
    {
     "name": "stderr",
     "output_type": "stream",
     "text": [
      "INFO:tensorflow:Assets written to: ./checkpoints\\checkpoint\\assets\n"
     ]
    },
    {
     "name": "stdout",
     "output_type": "stream",
     "text": [
      "181/181 [==============================] - 2s 11ms/step - loss: 0.5558 - accuracy: 0.7927 - val_loss: 0.4930 - val_accuracy: 0.8204\n",
      "Epoch 40/400\n",
      "172/181 [===========================>..] - ETA: 0s - loss: 0.5544 - accuracy: 0.7952INFO:tensorflow:Assets written to: ./checkpoints\\checkpoint\\assets\n"
     ]
    },
    {
     "name": "stderr",
     "output_type": "stream",
     "text": [
      "INFO:tensorflow:Assets written to: ./checkpoints\\checkpoint\\assets\n"
     ]
    },
    {
     "name": "stdout",
     "output_type": "stream",
     "text": [
      "181/181 [==============================] - 2s 11ms/step - loss: 0.5509 - accuracy: 0.7974 - val_loss: 0.4919 - val_accuracy: 0.8235\n",
      "Epoch 41/400\n",
      "181/181 [==============================] - 1s 3ms/step - loss: 0.5578 - accuracy: 0.7878 - val_loss: 0.4921 - val_accuracy: 0.8210\n",
      "Epoch 42/400\n",
      "176/181 [============================>.] - ETA: 0s - loss: 0.5526 - accuracy: 0.7907INFO:tensorflow:Assets written to: ./checkpoints\\checkpoint\\assets\n"
     ]
    },
    {
     "name": "stderr",
     "output_type": "stream",
     "text": [
      "INFO:tensorflow:Assets written to: ./checkpoints\\checkpoint\\assets\n"
     ]
    },
    {
     "name": "stdout",
     "output_type": "stream",
     "text": [
      "181/181 [==============================] - 2s 11ms/step - loss: 0.5503 - accuracy: 0.7914 - val_loss: 0.4910 - val_accuracy: 0.8216\n",
      "Epoch 43/400\n",
      "181/181 [==============================] - 1s 3ms/step - loss: 0.5498 - accuracy: 0.7903 - val_loss: 0.4922 - val_accuracy: 0.8210\n",
      "Epoch 44/400\n",
      "169/181 [===========================>..] - ETA: 0s - loss: 0.5495 - accuracy: 0.7909INFO:tensorflow:Assets written to: ./checkpoints\\checkpoint\\assets\n"
     ]
    },
    {
     "name": "stderr",
     "output_type": "stream",
     "text": [
      "INFO:tensorflow:Assets written to: ./checkpoints\\checkpoint\\assets\n"
     ]
    },
    {
     "name": "stdout",
     "output_type": "stream",
     "text": [
      "181/181 [==============================] - 2s 13ms/step - loss: 0.5495 - accuracy: 0.7911 - val_loss: 0.4903 - val_accuracy: 0.8216\n",
      "Epoch 45/400\n",
      "167/181 [==========================>...] - ETA: 0s - loss: 0.5514 - accuracy: 0.7926INFO:tensorflow:Assets written to: ./checkpoints\\checkpoint\\assets\n"
     ]
    },
    {
     "name": "stderr",
     "output_type": "stream",
     "text": [
      "INFO:tensorflow:Assets written to: ./checkpoints\\checkpoint\\assets\n"
     ]
    },
    {
     "name": "stdout",
     "output_type": "stream",
     "text": [
      "181/181 [==============================] - 2s 11ms/step - loss: 0.5487 - accuracy: 0.7941 - val_loss: 0.4901 - val_accuracy: 0.8223\n",
      "Epoch 46/400\n",
      "181/181 [==============================] - 1s 3ms/step - loss: 0.5488 - accuracy: 0.7911 - val_loss: 0.4913 - val_accuracy: 0.8223\n",
      "Epoch 47/400\n",
      "176/181 [============================>.] - ETA: 0s - loss: 0.5465 - accuracy: 0.7909INFO:tensorflow:Assets written to: ./checkpoints\\checkpoint\\assets\n"
     ]
    },
    {
     "name": "stderr",
     "output_type": "stream",
     "text": [
      "INFO:tensorflow:Assets written to: ./checkpoints\\checkpoint\\assets\n"
     ]
    },
    {
     "name": "stdout",
     "output_type": "stream",
     "text": [
      "181/181 [==============================] - 2s 11ms/step - loss: 0.5463 - accuracy: 0.7911 - val_loss: 0.4897 - val_accuracy: 0.8210\n",
      "Epoch 48/400\n",
      "172/181 [===========================>..] - ETA: 0s - loss: 0.5530 - accuracy: 0.7895INFO:tensorflow:Assets written to: ./checkpoints\\checkpoint\\assets\n"
     ]
    },
    {
     "name": "stderr",
     "output_type": "stream",
     "text": [
      "INFO:tensorflow:Assets written to: ./checkpoints\\checkpoint\\assets\n"
     ]
    },
    {
     "name": "stdout",
     "output_type": "stream",
     "text": [
      "181/181 [==============================] - 2s 11ms/step - loss: 0.5486 - accuracy: 0.7917 - val_loss: 0.4889 - val_accuracy: 0.8235\n",
      "Epoch 49/400\n",
      "181/181 [==============================] - 1s 3ms/step - loss: 0.5478 - accuracy: 0.7948 - val_loss: 0.4895 - val_accuracy: 0.8242\n",
      "Epoch 50/400\n",
      "172/181 [===========================>..] - ETA: 0s - loss: 0.5468 - accuracy: 0.7910INFO:tensorflow:Assets written to: ./checkpoints\\checkpoint\\assets\n"
     ]
    },
    {
     "name": "stderr",
     "output_type": "stream",
     "text": [
      "INFO:tensorflow:Assets written to: ./checkpoints\\checkpoint\\assets\n"
     ]
    },
    {
     "name": "stdout",
     "output_type": "stream",
     "text": [
      "181/181 [==============================] - 2s 11ms/step - loss: 0.5488 - accuracy: 0.7908 - val_loss: 0.4885 - val_accuracy: 0.8248\n",
      "Epoch 51/400\n",
      "181/181 [==============================] - 1s 3ms/step - loss: 0.5416 - accuracy: 0.7936 - val_loss: 0.4894 - val_accuracy: 0.8229\n",
      "Epoch 52/400\n",
      "178/181 [============================>.] - ETA: 0s - loss: 0.5431 - accuracy: 0.7945INFO:tensorflow:Assets written to: ./checkpoints\\checkpoint\\assets\n"
     ]
    },
    {
     "name": "stderr",
     "output_type": "stream",
     "text": [
      "INFO:tensorflow:Assets written to: ./checkpoints\\checkpoint\\assets\n"
     ]
    },
    {
     "name": "stdout",
     "output_type": "stream",
     "text": [
      "181/181 [==============================] - 2s 10ms/step - loss: 0.5428 - accuracy: 0.7954 - val_loss: 0.4864 - val_accuracy: 0.8229\n",
      "Epoch 53/400\n",
      "181/181 [==============================] - 1s 3ms/step - loss: 0.5448 - accuracy: 0.7910 - val_loss: 0.4865 - val_accuracy: 0.8242\n",
      "Epoch 54/400\n",
      "181/181 [==============================] - 1s 3ms/step - loss: 0.5472 - accuracy: 0.7906 - val_loss: 0.4868 - val_accuracy: 0.8261\n",
      "Epoch 55/400\n",
      "181/181 [==============================] - 1s 3ms/step - loss: 0.5490 - accuracy: 0.7906 - val_loss: 0.4894 - val_accuracy: 0.8235\n",
      "Epoch 56/400\n",
      "181/181 [==============================] - 1s 3ms/step - loss: 0.5429 - accuracy: 0.7911 - val_loss: 0.4870 - val_accuracy: 0.8235\n",
      "Epoch 57/400\n",
      "181/181 [==============================] - 1s 3ms/step - loss: 0.5402 - accuracy: 0.7929 - val_loss: 0.4875 - val_accuracy: 0.8216\n",
      "Epoch 58/400\n",
      "181/181 [==============================] - 1s 3ms/step - loss: 0.5426 - accuracy: 0.7917 - val_loss: 0.4866 - val_accuracy: 0.8204\n",
      "Epoch 59/400\n",
      "177/181 [============================>.] - ETA: 0s - loss: 0.5417 - accuracy: 0.7939INFO:tensorflow:Assets written to: ./checkpoints\\checkpoint\\assets\n"
     ]
    },
    {
     "name": "stderr",
     "output_type": "stream",
     "text": [
      "INFO:tensorflow:Assets written to: ./checkpoints\\checkpoint\\assets\n"
     ]
    },
    {
     "name": "stdout",
     "output_type": "stream",
     "text": [
      "181/181 [==============================] - 2s 11ms/step - loss: 0.5439 - accuracy: 0.7930 - val_loss: 0.4856 - val_accuracy: 0.8242\n",
      "Epoch 60/400\n",
      "169/181 [===========================>..] - ETA: 0s - loss: 0.5443 - accuracy: 0.7853INFO:tensorflow:Assets written to: ./checkpoints\\checkpoint\\assets\n"
     ]
    },
    {
     "name": "stderr",
     "output_type": "stream",
     "text": [
      "INFO:tensorflow:Assets written to: ./checkpoints\\checkpoint\\assets\n"
     ]
    },
    {
     "name": "stdout",
     "output_type": "stream",
     "text": [
      "181/181 [==============================] - 2s 13ms/step - loss: 0.5419 - accuracy: 0.7870 - val_loss: 0.4855 - val_accuracy: 0.8235\n",
      "Epoch 61/400\n",
      "181/181 [==============================] - 1s 3ms/step - loss: 0.5375 - accuracy: 0.7959 - val_loss: 0.4858 - val_accuracy: 0.8210\n",
      "Epoch 62/400\n",
      "181/181 [==============================] - 1s 3ms/step - loss: 0.5415 - accuracy: 0.7936 - val_loss: 0.4867 - val_accuracy: 0.8172\n",
      "Epoch 63/400\n",
      "181/181 [==============================] - 1s 3ms/step - loss: 0.5395 - accuracy: 0.7935 - val_loss: 0.4863 - val_accuracy: 0.8191\n",
      "Epoch 64/400\n",
      "176/181 [============================>.] - ETA: 0s - loss: 0.5385 - accuracy: 0.7907INFO:tensorflow:Assets written to: ./checkpoints\\checkpoint\\assets\n"
     ]
    },
    {
     "name": "stderr",
     "output_type": "stream",
     "text": [
      "INFO:tensorflow:Assets written to: ./checkpoints\\checkpoint\\assets\n"
     ]
    },
    {
     "name": "stdout",
     "output_type": "stream",
     "text": [
      "181/181 [==============================] - 2s 10ms/step - loss: 0.5385 - accuracy: 0.7903 - val_loss: 0.4845 - val_accuracy: 0.8210\n",
      "Epoch 65/400\n",
      "181/181 [==============================] - 1s 3ms/step - loss: 0.5367 - accuracy: 0.7944 - val_loss: 0.4858 - val_accuracy: 0.8235\n",
      "Epoch 66/400\n",
      "181/181 [==============================] - 1s 3ms/step - loss: 0.5459 - accuracy: 0.7900 - val_loss: 0.4852 - val_accuracy: 0.8191\n",
      "Epoch 67/400\n",
      "181/181 [==============================] - 1s 3ms/step - loss: 0.5448 - accuracy: 0.7908 - val_loss: 0.4848 - val_accuracy: 0.8223\n",
      "Epoch 68/400\n",
      "177/181 [============================>.] - ETA: 0s - loss: 0.5451 - accuracy: 0.7942INFO:tensorflow:Assets written to: ./checkpoints\\checkpoint\\assets\n"
     ]
    },
    {
     "name": "stderr",
     "output_type": "stream",
     "text": [
      "INFO:tensorflow:Assets written to: ./checkpoints\\checkpoint\\assets\n"
     ]
    },
    {
     "name": "stdout",
     "output_type": "stream",
     "text": [
      "181/181 [==============================] - 2s 10ms/step - loss: 0.5451 - accuracy: 0.7938 - val_loss: 0.4844 - val_accuracy: 0.8216\n",
      "Epoch 69/400\n",
      "175/181 [============================>.] - ETA: 0s - loss: 0.5349 - accuracy: 0.7959INFO:tensorflow:Assets written to: ./checkpoints\\checkpoint\\assets\n"
     ]
    },
    {
     "name": "stderr",
     "output_type": "stream",
     "text": [
      "INFO:tensorflow:Assets written to: ./checkpoints\\checkpoint\\assets\n"
     ]
    },
    {
     "name": "stdout",
     "output_type": "stream",
     "text": [
      "181/181 [==============================] - 2s 11ms/step - loss: 0.5381 - accuracy: 0.7957 - val_loss: 0.4838 - val_accuracy: 0.8204\n",
      "Epoch 70/400\n",
      "181/181 [==============================] - 1s 3ms/step - loss: 0.5386 - accuracy: 0.7922 - val_loss: 0.4846 - val_accuracy: 0.8210\n",
      "Epoch 71/400\n",
      "176/181 [============================>.] - ETA: 0s - loss: 0.5376 - accuracy: 0.7937INFO:tensorflow:Assets written to: ./checkpoints\\checkpoint\\assets\n"
     ]
    },
    {
     "name": "stderr",
     "output_type": "stream",
     "text": [
      "INFO:tensorflow:Assets written to: ./checkpoints\\checkpoint\\assets\n"
     ]
    },
    {
     "name": "stdout",
     "output_type": "stream",
     "text": [
      "181/181 [==============================] - 2s 10ms/step - loss: 0.5385 - accuracy: 0.7932 - val_loss: 0.4826 - val_accuracy: 0.8229\n",
      "Epoch 72/400\n",
      "181/181 [==============================] - 1s 3ms/step - loss: 0.5364 - accuracy: 0.7979 - val_loss: 0.4842 - val_accuracy: 0.8235\n",
      "Epoch 73/400\n",
      "181/181 [==============================] - 1s 3ms/step - loss: 0.5384 - accuracy: 0.7921 - val_loss: 0.4826 - val_accuracy: 0.8235\n",
      "Epoch 74/400\n",
      "181/181 [==============================] - 1s 3ms/step - loss: 0.5383 - accuracy: 0.7933 - val_loss: 0.4854 - val_accuracy: 0.8191\n",
      "Epoch 75/400\n",
      "181/181 [==============================] - 1s 3ms/step - loss: 0.5356 - accuracy: 0.7979 - val_loss: 0.4833 - val_accuracy: 0.8248\n",
      "Epoch 76/400\n",
      "181/181 [==============================] - 1s 3ms/step - loss: 0.5390 - accuracy: 0.7924 - val_loss: 0.4848 - val_accuracy: 0.8210\n",
      "Epoch 77/400\n",
      "181/181 [==============================] - 1s 3ms/step - loss: 0.5432 - accuracy: 0.7900 - val_loss: 0.4849 - val_accuracy: 0.8216\n",
      "Epoch 78/400\n",
      "181/181 [==============================] - 1s 3ms/step - loss: 0.5311 - accuracy: 0.7978 - val_loss: 0.4833 - val_accuracy: 0.8191\n",
      "Epoch 79/400\n",
      "181/181 [==============================] - 1s 3ms/step - loss: 0.5388 - accuracy: 0.7924 - val_loss: 0.4847 - val_accuracy: 0.8223\n",
      "Epoch 80/400\n",
      "181/181 [==============================] - 1s 3ms/step - loss: 0.5411 - accuracy: 0.7910 - val_loss: 0.4851 - val_accuracy: 0.8166\n",
      "Epoch 81/400\n",
      "181/181 [==============================] - 1s 3ms/step - loss: 0.5391 - accuracy: 0.7941 - val_loss: 0.4834 - val_accuracy: 0.8223\n",
      "Epoch 82/400\n",
      "181/181 [==============================] - 1s 3ms/step - loss: 0.5410 - accuracy: 0.7917 - val_loss: 0.4839 - val_accuracy: 0.8166\n",
      "Epoch 83/400\n",
      "181/181 [==============================] - 1s 3ms/step - loss: 0.5385 - accuracy: 0.8025 - val_loss: 0.4857 - val_accuracy: 0.8204\n",
      "Epoch 84/400\n",
      "181/181 [==============================] - 1s 3ms/step - loss: 0.5367 - accuracy: 0.7955 - val_loss: 0.4831 - val_accuracy: 0.8185\n",
      "Epoch 85/400\n",
      "181/181 [==============================] - 1s 3ms/step - loss: 0.5357 - accuracy: 0.7908 - val_loss: 0.4833 - val_accuracy: 0.8210\n",
      "Epoch 86/400\n",
      "181/181 [==============================] - 1s 3ms/step - loss: 0.5379 - accuracy: 0.7916 - val_loss: 0.4830 - val_accuracy: 0.8210\n"
     ]
    }
   ],
   "source": [
    "# Ajustar y entrenar el modelo de red neuronal\n",
    "early_stop = tf.keras.callbacks.EarlyStopping(patience=15, restore_best_weights=True)\n",
    "filepath='./checkpoints/checkpoint'\n",
    "best_model = tf.keras.callbacks.ModelCheckpoint(filepath=filepath,save_best_only=True, save_weigth_only=False, \n",
    "                                                monitor='val_loss', mode='min')\n",
    "history=modelo.fit(X_train, y_train ,batch_size= 35, callbacks=[early_stop, best_model] ,epochs=400,validation_data=(X_test, y_test))"
   ]
  },
  {
   "cell_type": "code",
   "execution_count": 160,
   "id": "f8bbab2f",
   "metadata": {},
   "outputs": [
    {
     "data": {
      "image/png": "[encoded data removed]",
      "text/plain": [
       "<Figure size 1200x600 with 2 Axes>"
      ]
     },
     "metadata": {},
     "output_type": "display_data"
    }
   ],
   "source": [
    "plt.figure(figsize=(12, 6))\n",
    "\n",
    "# Plot Precisión\n",
    "plt.subplot(1, 2, 1)\n",
    "plt.plot(history.history['accuracy'], label='Entrenamiento')\n",
    "plt.plot(history.history['val_accuracy'], label='Validación')\n",
    "plt.title('Precisión del Modelo')\n",
    "plt.xlabel('Época')\n",
    "plt.ylabel('Precisión')\n",
    "plt.legend()\n",
    "\n",
    "# Plot Pérdida\n",
    "plt.subplot(1, 2, 2)\n",
    "plt.plot(history.history['loss'], label='Entrenamiento')\n",
    "plt.plot(history.history['val_loss'], label='Validación')\n",
    "plt.title('Pérdida del Modelo')\n",
    "plt.xlabel('Época')\n",
    "plt.ylabel('Pérdida')\n",
    "plt.legend()\n",
    "\n",
    "plt.show()"
   ]
  },
  {
   "cell_type": "code",
   "execution_count": 161,
   "id": "c9f4e286",
   "metadata": {},
   "outputs": [
    {
     "name": "stdout",
     "output_type": "stream",
     "text": [
      "WARNING:tensorflow:From C:\\Users\\jarod\\anaconda3\\Lib\\site-packages\\keras\\src\\saving\\legacy\\saved_model\\load.py:107: The name tf.gfile.Exists is deprecated. Please use tf.io.gfile.exists instead.\n",
      "\n"
     ]
    },
    {
     "name": "stderr",
     "output_type": "stream",
     "text": [
      "WARNING:tensorflow:From C:\\Users\\jarod\\anaconda3\\Lib\\site-packages\\keras\\src\\saving\\legacy\\saved_model\\load.py:107: The name tf.gfile.Exists is deprecated. Please use tf.io.gfile.exists instead.\n",
      "\n"
     ]
    }
   ],
   "source": [
    "best_model = load_model('./checkpoints/checkpoint')"
   ]
  },
  {
   "cell_type": "code",
   "execution_count": 162,
   "id": "8acc93b6",
   "metadata": {},
   "outputs": [
    {
     "name": "stdout",
     "output_type": "stream",
     "text": [
      "50/50 [==============================] - 0s 2ms/step - loss: 0.4826 - accuracy: 0.8229\n"
     ]
    }
   ],
   "source": [
    "resultados = best_model.evaluate(X_test, y_test)"
   ]
  },
  {
   "cell_type": "markdown",
   "id": "626c477c",
   "metadata": {},
   "source": [
    "### Prediccion de los datos de prueba"
   ]
  },
  {
   "cell_type": "code",
   "execution_count": 163,
   "id": "933ed9d6",
   "metadata": {},
   "outputs": [
    {
     "data": {
      "text/html": [
       "<div>\n",
       "<style scoped>\n",
       "    .dataframe tbody tr th:only-of-type {\n",
       "        vertical-align: middle;\n",
       "    }\n",
       "\n",
       "    .dataframe tbody tr th {\n",
       "        vertical-align: top;\n",
       "    }\n",
       "\n",
       "    .dataframe thead th {\n",
       "        text-align: right;\n",
       "    }\n",
       "</style>\n",
       "<table border=\"1\" class=\"dataframe\">\n",
       "  <thead>\n",
       "    <tr style=\"text-align: right;\">\n",
       "      <th></th>\n",
       "      <th>id</th>\n",
       "      <th>N_Days</th>\n",
       "      <th>Drug</th>\n",
       "      <th>Age</th>\n",
       "      <th>Sex</th>\n",
       "      <th>Ascites</th>\n",
       "      <th>Hepatomegaly</th>\n",
       "      <th>Spiders</th>\n",
       "      <th>Edema</th>\n",
       "      <th>Bilirubin</th>\n",
       "      <th>Cholesterol</th>\n",
       "      <th>Albumin</th>\n",
       "      <th>Copper</th>\n",
       "      <th>Alk_Phos</th>\n",
       "      <th>SGOT</th>\n",
       "      <th>Tryglicerides</th>\n",
       "      <th>Platelets</th>\n",
       "      <th>Prothrombin</th>\n",
       "      <th>Stage</th>\n",
       "    </tr>\n",
       "  </thead>\n",
       "  <tbody>\n",
       "    <tr>\n",
       "      <th>0</th>\n",
       "      <td>7905</td>\n",
       "      <td>3839</td>\n",
       "      <td>D-penicillamine</td>\n",
       "      <td>19724</td>\n",
       "      <td>F</td>\n",
       "      <td>N</td>\n",
       "      <td>Y</td>\n",
       "      <td>N</td>\n",
       "      <td>N</td>\n",
       "      <td>1.2</td>\n",
       "      <td>546.0</td>\n",
       "      <td>3.37</td>\n",
       "      <td>65.0</td>\n",
       "      <td>1636.0</td>\n",
       "      <td>151.90</td>\n",
       "      <td>90.0</td>\n",
       "      <td>430.0</td>\n",
       "      <td>10.6</td>\n",
       "      <td>2.0</td>\n",
       "    </tr>\n",
       "    <tr>\n",
       "      <th>1</th>\n",
       "      <td>7906</td>\n",
       "      <td>2468</td>\n",
       "      <td>D-penicillamine</td>\n",
       "      <td>14975</td>\n",
       "      <td>F</td>\n",
       "      <td>N</td>\n",
       "      <td>N</td>\n",
       "      <td>N</td>\n",
       "      <td>N</td>\n",
       "      <td>1.1</td>\n",
       "      <td>660.0</td>\n",
       "      <td>4.22</td>\n",
       "      <td>94.0</td>\n",
       "      <td>1257.0</td>\n",
       "      <td>151.90</td>\n",
       "      <td>155.0</td>\n",
       "      <td>227.0</td>\n",
       "      <td>10.0</td>\n",
       "      <td>2.0</td>\n",
       "    </tr>\n",
       "    <tr>\n",
       "      <th>2</th>\n",
       "      <td>7907</td>\n",
       "      <td>51</td>\n",
       "      <td>Placebo</td>\n",
       "      <td>13149</td>\n",
       "      <td>F</td>\n",
       "      <td>N</td>\n",
       "      <td>Y</td>\n",
       "      <td>N</td>\n",
       "      <td>Y</td>\n",
       "      <td>2.0</td>\n",
       "      <td>151.0</td>\n",
       "      <td>2.96</td>\n",
       "      <td>46.0</td>\n",
       "      <td>961.0</td>\n",
       "      <td>69.75</td>\n",
       "      <td>101.0</td>\n",
       "      <td>213.0</td>\n",
       "      <td>13.0</td>\n",
       "      <td>4.0</td>\n",
       "    </tr>\n",
       "    <tr>\n",
       "      <th>3</th>\n",
       "      <td>7908</td>\n",
       "      <td>2330</td>\n",
       "      <td>D-penicillamine</td>\n",
       "      <td>20510</td>\n",
       "      <td>F</td>\n",
       "      <td>N</td>\n",
       "      <td>N</td>\n",
       "      <td>N</td>\n",
       "      <td>N</td>\n",
       "      <td>0.6</td>\n",
       "      <td>293.0</td>\n",
       "      <td>3.85</td>\n",
       "      <td>40.0</td>\n",
       "      <td>554.0</td>\n",
       "      <td>125.55</td>\n",
       "      <td>56.0</td>\n",
       "      <td>270.0</td>\n",
       "      <td>10.6</td>\n",
       "      <td>2.0</td>\n",
       "    </tr>\n",
       "    <tr>\n",
       "      <th>4</th>\n",
       "      <td>7909</td>\n",
       "      <td>1615</td>\n",
       "      <td>D-penicillamine</td>\n",
       "      <td>21904</td>\n",
       "      <td>F</td>\n",
       "      <td>N</td>\n",
       "      <td>Y</td>\n",
       "      <td>N</td>\n",
       "      <td>N</td>\n",
       "      <td>1.4</td>\n",
       "      <td>277.0</td>\n",
       "      <td>2.97</td>\n",
       "      <td>121.0</td>\n",
       "      <td>1110.0</td>\n",
       "      <td>125.00</td>\n",
       "      <td>126.0</td>\n",
       "      <td>221.0</td>\n",
       "      <td>9.8</td>\n",
       "      <td>1.0</td>\n",
       "    </tr>\n",
       "    <tr>\n",
       "      <th>...</th>\n",
       "      <td>...</td>\n",
       "      <td>...</td>\n",
       "      <td>...</td>\n",
       "      <td>...</td>\n",
       "      <td>...</td>\n",
       "      <td>...</td>\n",
       "      <td>...</td>\n",
       "      <td>...</td>\n",
       "      <td>...</td>\n",
       "      <td>...</td>\n",
       "      <td>...</td>\n",
       "      <td>...</td>\n",
       "      <td>...</td>\n",
       "      <td>...</td>\n",
       "      <td>...</td>\n",
       "      <td>...</td>\n",
       "      <td>...</td>\n",
       "      <td>...</td>\n",
       "      <td>...</td>\n",
       "    </tr>\n",
       "    <tr>\n",
       "      <th>5266</th>\n",
       "      <td>13171</td>\n",
       "      <td>2870</td>\n",
       "      <td>Placebo</td>\n",
       "      <td>12279</td>\n",
       "      <td>F</td>\n",
       "      <td>N</td>\n",
       "      <td>N</td>\n",
       "      <td>N</td>\n",
       "      <td>N</td>\n",
       "      <td>1.3</td>\n",
       "      <td>302.0</td>\n",
       "      <td>3.43</td>\n",
       "      <td>75.0</td>\n",
       "      <td>1345.0</td>\n",
       "      <td>145.00</td>\n",
       "      <td>44.0</td>\n",
       "      <td>181.0</td>\n",
       "      <td>10.6</td>\n",
       "      <td>3.0</td>\n",
       "    </tr>\n",
       "    <tr>\n",
       "      <th>5267</th>\n",
       "      <td>13172</td>\n",
       "      <td>1770</td>\n",
       "      <td>Placebo</td>\n",
       "      <td>24803</td>\n",
       "      <td>F</td>\n",
       "      <td>N</td>\n",
       "      <td>N</td>\n",
       "      <td>N</td>\n",
       "      <td>N</td>\n",
       "      <td>0.5</td>\n",
       "      <td>219.0</td>\n",
       "      <td>4.09</td>\n",
       "      <td>121.0</td>\n",
       "      <td>663.0</td>\n",
       "      <td>79.05</td>\n",
       "      <td>94.0</td>\n",
       "      <td>311.0</td>\n",
       "      <td>9.7</td>\n",
       "      <td>3.0</td>\n",
       "    </tr>\n",
       "    <tr>\n",
       "      <th>5268</th>\n",
       "      <td>13173</td>\n",
       "      <td>3707</td>\n",
       "      <td>D-penicillamine</td>\n",
       "      <td>16990</td>\n",
       "      <td>F</td>\n",
       "      <td>N</td>\n",
       "      <td>Y</td>\n",
       "      <td>N</td>\n",
       "      <td>N</td>\n",
       "      <td>0.8</td>\n",
       "      <td>315.0</td>\n",
       "      <td>4.09</td>\n",
       "      <td>13.0</td>\n",
       "      <td>1637.0</td>\n",
       "      <td>170.50</td>\n",
       "      <td>70.0</td>\n",
       "      <td>426.0</td>\n",
       "      <td>10.9</td>\n",
       "      <td>3.0</td>\n",
       "    </tr>\n",
       "    <tr>\n",
       "      <th>5269</th>\n",
       "      <td>13174</td>\n",
       "      <td>1216</td>\n",
       "      <td>Placebo</td>\n",
       "      <td>11773</td>\n",
       "      <td>F</td>\n",
       "      <td>N</td>\n",
       "      <td>N</td>\n",
       "      <td>N</td>\n",
       "      <td>N</td>\n",
       "      <td>0.7</td>\n",
       "      <td>329.0</td>\n",
       "      <td>3.80</td>\n",
       "      <td>52.0</td>\n",
       "      <td>678.0</td>\n",
       "      <td>57.00</td>\n",
       "      <td>126.0</td>\n",
       "      <td>306.0</td>\n",
       "      <td>10.2</td>\n",
       "      <td>1.0</td>\n",
       "    </tr>\n",
       "    <tr>\n",
       "      <th>5270</th>\n",
       "      <td>13175</td>\n",
       "      <td>2272</td>\n",
       "      <td>D-penicillamine</td>\n",
       "      <td>21600</td>\n",
       "      <td>F</td>\n",
       "      <td>N</td>\n",
       "      <td>N</td>\n",
       "      <td>N</td>\n",
       "      <td>N</td>\n",
       "      <td>2.0</td>\n",
       "      <td>232.0</td>\n",
       "      <td>3.42</td>\n",
       "      <td>18.0</td>\n",
       "      <td>1636.0</td>\n",
       "      <td>170.50</td>\n",
       "      <td>83.0</td>\n",
       "      <td>213.0</td>\n",
       "      <td>13.6</td>\n",
       "      <td>2.0</td>\n",
       "    </tr>\n",
       "  </tbody>\n",
       "</table>\n",
       "<p>5271 rows × 19 columns</p>\n",
       "</div>"
      ],
      "text/plain": [
       "         id  N_Days             Drug    Age Sex Ascites Hepatomegaly Spiders  \\\n",
       "0      7905    3839  D-penicillamine  19724   F       N            Y       N   \n",
       "1      7906    2468  D-penicillamine  14975   F       N            N       N   \n",
       "2      7907      51          Placebo  13149   F       N            Y       N   \n",
       "3      7908    2330  D-penicillamine  20510   F       N            N       N   \n",
       "4      7909    1615  D-penicillamine  21904   F       N            Y       N   \n",
       "...     ...     ...              ...    ...  ..     ...          ...     ...   \n",
       "5266  13171    2870          Placebo  12279   F       N            N       N   \n",
       "5267  13172    1770          Placebo  24803   F       N            N       N   \n",
       "5268  13173    3707  D-penicillamine  16990   F       N            Y       N   \n",
       "5269  13174    1216          Placebo  11773   F       N            N       N   \n",
       "5270  13175    2272  D-penicillamine  21600   F       N            N       N   \n",
       "\n",
       "     Edema  Bilirubin  Cholesterol  Albumin  Copper  Alk_Phos    SGOT  \\\n",
       "0        N        1.2        546.0     3.37    65.0    1636.0  151.90   \n",
       "1        N        1.1        660.0     4.22    94.0    1257.0  151.90   \n",
       "2        Y        2.0        151.0     2.96    46.0     961.0   69.75   \n",
       "3        N        0.6        293.0     3.85    40.0     554.0  125.55   \n",
       "4        N        1.4        277.0     2.97   121.0    1110.0  125.00   \n",
       "...    ...        ...          ...      ...     ...       ...     ...   \n",
       "5266     N        1.3        302.0     3.43    75.0    1345.0  145.00   \n",
       "5267     N        0.5        219.0     4.09   121.0     663.0   79.05   \n",
       "5268     N        0.8        315.0     4.09    13.0    1637.0  170.50   \n",
       "5269     N        0.7        329.0     3.80    52.0     678.0   57.00   \n",
       "5270     N        2.0        232.0     3.42    18.0    1636.0  170.50   \n",
       "\n",
       "      Tryglicerides  Platelets  Prothrombin  Stage  \n",
       "0              90.0      430.0         10.6    2.0  \n",
       "1             155.0      227.0         10.0    2.0  \n",
       "2             101.0      213.0         13.0    4.0  \n",
       "3              56.0      270.0         10.6    2.0  \n",
       "4             126.0      221.0          9.8    1.0  \n",
       "...             ...        ...          ...    ...  \n",
       "5266           44.0      181.0         10.6    3.0  \n",
       "5267           94.0      311.0          9.7    3.0  \n",
       "5268           70.0      426.0         10.9    3.0  \n",
       "5269          126.0      306.0         10.2    1.0  \n",
       "5270           83.0      213.0         13.6    2.0  \n",
       "\n",
       "[5271 rows x 19 columns]"
      ]
     },
     "execution_count": 163,
     "metadata": {},
     "output_type": "execute_result"
    }
   ],
   "source": [
    "X_prueba = pd.read_csv('test.csv')\n",
    "X_prueba"
   ]
  },
  {
   "cell_type": "code",
   "execution_count": 164,
   "id": "c733afe5",
   "metadata": {},
   "outputs": [],
   "source": [
    "id_ = X_prueba['id']\n",
    "X_prueba = X_prueba.drop('id', axis =1)"
   ]
  },
  {
   "cell_type": "code",
   "execution_count": 165,
   "id": "b14d230e",
   "metadata": {},
   "outputs": [
    {
     "data": {
      "text/plain": [
       "array([[0.548898, 0.80213 , 0.526119, ..., 1.      , 0.      , 1.      ],\n",
       "       [0.524165, 0.848367, 0.843284, ..., 1.      , 0.      , 1.      ],\n",
       "       [0.67494 , 0.19498 , 0.373134, ..., 0.      , 1.      , 0.      ],\n",
       "       ...,\n",
       "       [0.424264, 0.618151, 0.794776, ..., 1.      , 0.      , 0.      ],\n",
       "       [0.377594, 0.63596 , 0.686567, ..., 0.      , 0.      , 0.      ],\n",
       "       [0.67494 , 0.472877, 0.544776, ..., 1.      , 1.      , 0.      ]])"
      ]
     },
     "execution_count": 165,
     "metadata": {},
     "output_type": "execute_result"
    }
   ],
   "source": [
    "# Procesamos con pipeline los datos nuevos\n",
    "X_prueba = pipeline_full.fit_transform(X_prueba)\n",
    "X_prueba"
   ]
  },
  {
   "cell_type": "code",
   "execution_count": 166,
   "id": "ec401d50",
   "metadata": {},
   "outputs": [
    {
     "data": {
      "text/plain": [
       "(5271, 21)"
      ]
     },
     "execution_count": 166,
     "metadata": {},
     "output_type": "execute_result"
    }
   ],
   "source": [
    "X_prueba.shape"
   ]
  },
  {
   "cell_type": "code",
   "execution_count": 167,
   "id": "cfa8fa94",
   "metadata": {},
   "outputs": [
    {
     "name": "stdout",
     "output_type": "stream",
     "text": [
      "165/165 [==============================] - 0s 2ms/step\n"
     ]
    },
    {
     "data": {
      "text/plain": [
       "array([[0.675244, 0.035691, 0.289065],\n",
       "       [0.883186, 0.041629, 0.075185],\n",
       "       [0.078888, 0.022945, 0.898166],\n",
       "       ...,\n",
       "       [0.842841, 0.024974, 0.132185],\n",
       "       [0.957868, 0.017807, 0.024326],\n",
       "       [0.264131, 0.039765, 0.696104]], dtype=float32)"
      ]
     },
     "execution_count": 167,
     "metadata": {},
     "output_type": "execute_result"
    }
   ],
   "source": [
    "# Predecimos con nuestor modelo ya entrenado\n",
    "prueba_prediction = best_model.predict(X_prueba)\n",
    "prueba_prediction"
   ]
  },
  {
   "cell_type": "code",
   "execution_count": 168,
   "id": "9bd2a67c",
   "metadata": {},
   "outputs": [],
   "source": [
    "# Guardar en listas cada etiqueta con la probabilidad\n",
    "Status_C = []\n",
    "Status_CL = []\n",
    "Status_D = []\n",
    "for i in range(len(prueba_prediction)):\n",
    "    Status_C.append(prueba_prediction[i, 0])\n",
    "    Status_CL.append(prueba_prediction[i, 1])\n",
    "    Status_D.append(prueba_prediction[i, 2])"
   ]
  },
  {
   "cell_type": "code",
   "execution_count": 169,
   "id": "678e018f",
   "metadata": {},
   "outputs": [],
   "source": [
    "# Creamos la submission\n",
    "submission_test = {'id': id_, 'Status_C':Status_C, 'Status_CL':Status_CL,'Status_D':Status_D}"
   ]
  },
  {
   "cell_type": "code",
   "execution_count": 170,
   "id": "b3e64a53",
   "metadata": {},
   "outputs": [
    {
     "data": {
      "text/html": [
       "<div>\n",
       "<style scoped>\n",
       "    .dataframe tbody tr th:only-of-type {\n",
       "        vertical-align: middle;\n",
       "    }\n",
       "\n",
       "    .dataframe tbody tr th {\n",
       "        vertical-align: top;\n",
       "    }\n",
       "\n",
       "    .dataframe thead th {\n",
       "        text-align: right;\n",
       "    }\n",
       "</style>\n",
       "<table border=\"1\" class=\"dataframe\">\n",
       "  <thead>\n",
       "    <tr style=\"text-align: right;\">\n",
       "      <th></th>\n",
       "      <th>id</th>\n",
       "      <th>Status_C</th>\n",
       "      <th>Status_CL</th>\n",
       "      <th>Status_D</th>\n",
       "    </tr>\n",
       "  </thead>\n",
       "  <tbody>\n",
       "    <tr>\n",
       "      <th>0</th>\n",
       "      <td>7905</td>\n",
       "      <td>0.675244</td>\n",
       "      <td>0.035691</td>\n",
       "      <td>0.289065</td>\n",
       "    </tr>\n",
       "    <tr>\n",
       "      <th>1</th>\n",
       "      <td>7906</td>\n",
       "      <td>0.883186</td>\n",
       "      <td>0.041629</td>\n",
       "      <td>0.075185</td>\n",
       "    </tr>\n",
       "    <tr>\n",
       "      <th>2</th>\n",
       "      <td>7907</td>\n",
       "      <td>0.078888</td>\n",
       "      <td>0.022945</td>\n",
       "      <td>0.898166</td>\n",
       "    </tr>\n",
       "    <tr>\n",
       "      <th>3</th>\n",
       "      <td>7908</td>\n",
       "      <td>0.915902</td>\n",
       "      <td>0.014171</td>\n",
       "      <td>0.069927</td>\n",
       "    </tr>\n",
       "    <tr>\n",
       "      <th>4</th>\n",
       "      <td>7909</td>\n",
       "      <td>0.791387</td>\n",
       "      <td>0.023647</td>\n",
       "      <td>0.184966</td>\n",
       "    </tr>\n",
       "    <tr>\n",
       "      <th>...</th>\n",
       "      <td>...</td>\n",
       "      <td>...</td>\n",
       "      <td>...</td>\n",
       "      <td>...</td>\n",
       "    </tr>\n",
       "    <tr>\n",
       "      <th>5266</th>\n",
       "      <td>13171</td>\n",
       "      <td>0.874874</td>\n",
       "      <td>0.033821</td>\n",
       "      <td>0.091305</td>\n",
       "    </tr>\n",
       "    <tr>\n",
       "      <th>5267</th>\n",
       "      <td>13172</td>\n",
       "      <td>0.939146</td>\n",
       "      <td>0.007545</td>\n",
       "      <td>0.053309</td>\n",
       "    </tr>\n",
       "    <tr>\n",
       "      <th>5268</th>\n",
       "      <td>13173</td>\n",
       "      <td>0.842841</td>\n",
       "      <td>0.024974</td>\n",
       "      <td>0.132185</td>\n",
       "    </tr>\n",
       "    <tr>\n",
       "      <th>5269</th>\n",
       "      <td>13174</td>\n",
       "      <td>0.957868</td>\n",
       "      <td>0.017807</td>\n",
       "      <td>0.024326</td>\n",
       "    </tr>\n",
       "    <tr>\n",
       "      <th>5270</th>\n",
       "      <td>13175</td>\n",
       "      <td>0.264131</td>\n",
       "      <td>0.039765</td>\n",
       "      <td>0.696104</td>\n",
       "    </tr>\n",
       "  </tbody>\n",
       "</table>\n",
       "<p>5271 rows × 4 columns</p>\n",
       "</div>"
      ],
      "text/plain": [
       "         id  Status_C  Status_CL  Status_D\n",
       "0      7905  0.675244   0.035691  0.289065\n",
       "1      7906  0.883186   0.041629  0.075185\n",
       "2      7907  0.078888   0.022945  0.898166\n",
       "3      7908  0.915902   0.014171  0.069927\n",
       "4      7909  0.791387   0.023647  0.184966\n",
       "...     ...       ...        ...       ...\n",
       "5266  13171  0.874874   0.033821  0.091305\n",
       "5267  13172  0.939146   0.007545  0.053309\n",
       "5268  13173  0.842841   0.024974  0.132185\n",
       "5269  13174  0.957868   0.017807  0.024326\n",
       "5270  13175  0.264131   0.039765  0.696104\n",
       "\n",
       "[5271 rows x 4 columns]"
      ]
     },
     "execution_count": 170,
     "metadata": {},
     "output_type": "execute_result"
    }
   ],
   "source": [
    "data = pd.DataFrame(submission_test)\n",
    "data"
   ]
  },
  {
   "cell_type": "code",
   "execution_count": 171,
   "id": "dfe195f9",
   "metadata": {},
   "outputs": [],
   "source": [
    "#Guardamos\n",
    "data.to_csv('prediction_V2.csv', index=False)"
   ]
  }
 ],
 "metadata": {
  "kernelspec": {
   "display_name": "Python 3 (ipykernel)",
   "language": "python",
   "name": "python3"
  },
  "language_info": {
   "codemirror_mode": {
    "name": "ipython",
    "version": 3
   },
   "file_extension": ".py",
   "mimetype": "text/x-python",
   "name": "python",
   "nbconvert_exporter": "python",
   "pygments_lexer": "ipython3",
   "version": "3.11.5"
  }
 },
 "nbformat": 4,
 "nbformat_minor": 5
}
